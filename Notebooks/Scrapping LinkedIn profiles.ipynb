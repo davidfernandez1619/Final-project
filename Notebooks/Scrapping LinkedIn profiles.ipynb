{
 "cells": [
  {
   "cell_type": "markdown",
   "id": "f50e8f90",
   "metadata": {},
   "source": [
    "# Scrapping LinkedIn profiles"
   ]
  },
  {
   "cell_type": "code",
   "execution_count": 430,
   "id": "03bb3643",
   "metadata": {},
   "outputs": [],
   "source": [
    "import os\n",
    "import requests\n",
    "import re\n",
    "import pandas as pd\n",
    "from requests.exceptions import RequestException\n",
    "import json\n",
    "from pandas import json_normalize\n",
    "import datetime"
   ]
  },
  {
   "cell_type": "markdown",
   "id": "7d6691b5",
   "metadata": {},
   "source": [
    "# Fuction that scrapes LinkedIn profiles"
   ]
  },
  {
   "cell_type": "code",
   "execution_count": 415,
   "id": "16ca1b98",
   "metadata": {},
   "outputs": [],
   "source": [
    "def scrape_linkedin_profile(linkedin_profile_url: str):\n",
    "    \n",
    "    api_key = \"2ZjHkun0Sq6KGa_o-4p7jg\"\n",
    "    header_dic = {\"Authorization\": f\"Bearer {api_key}\"}\n",
    "    api_endpoint = \"https://nubela.co/proxycurl/api/v2/linkedin\"\n",
    "\n",
    "    response = requests.get(\n",
    "        api_endpoint, params={\"url\": linkedin_profile_url}, headers=header_dic\n",
    "    )\n",
    "\n",
    "    data = response.json()\n",
    "    data = {\n",
    "        k: v\n",
    "        for k, v in data.items()\n",
    "        if v not in ([], \"\", \"\", None)\n",
    "        and k\n",
    "        not in [\n",
    "            \"people_also_viewed\",\n",
    "            \"recommendations\",\n",
    "            \"similarly_named_profiles\",\n",
    "            \"articles\",\n",
    "            \"background_cover_image_url\",\n",
    "            \"activities\",\n",
    "            \"volunteer_work\",\n",
    "        ]\n",
    "    }\n",
    "    if data.get(\"groups\"):\n",
    "        for group_dict in data.get(\"groups\"):\n",
    "            group_dict.pop(\"profile_pic_url\")\n",
    "\n",
    "    return data\n",
    "\n",
    "# This function manually scrapes a LinkedIn profile, taking the person's URL as argument"
   ]
  },
  {
   "cell_type": "code",
   "execution_count": 418,
   "id": "e82160c4",
   "metadata": {},
   "outputs": [],
   "source": [
    "def scrape_linkedin_profile2(linkedin_profile_url: str):\n",
    "    api_key = \"2ZjHkun0Sq6KGa_o-4p7jg\"\n",
    "    header_dic = {\"Authorization\": f\"Bearer {api_key}\"}\n",
    "    api_endpoint = \"https://nubela.co/proxycurl/api/v2/linkedin\"\n",
    "\n",
    "    response = requests.get(\n",
    "        api_endpoint, params={\"url\": linkedin_profile_url}, headers=header_dic\n",
    "    )\n",
    "\n",
    "    try:\n",
    "        data = response.json()\n",
    "        data = {\n",
    "            k: v\n",
    "            for k, v in data.items()\n",
    "            if v not in ([], \"\", \"\", None)\n",
    "            and k\n",
    "            not in [\n",
    "                \"people_also_viewed\",\n",
    "                \"recommendations\",\n",
    "                \"similarly_named_profiles\",\n",
    "                \"articles\",\n",
    "                \"background_cover_image_url\",\n",
    "                \"activities\",\n",
    "                \"volunteer_work\",\n",
    "            ]\n",
    "        }\n",
    "        if data.get(\"groups\"):\n",
    "            for group_dict in data.get(\"groups\"):\n",
    "                group_dict.pop(\"profile_pic_url\")\n",
    "\n",
    "        return data\n",
    "\n",
    "    except json.JSONDecodeError:\n",
    "\n",
    "        return None\n",
    "\n"
   ]
  },
  {
   "cell_type": "markdown",
   "id": "d5dc0f81",
   "metadata": {},
   "source": [
    "# Scraping and cleaning our dataframes"
   ]
  },
  {
   "cell_type": "markdown",
   "id": "17218250",
   "metadata": {},
   "source": [
    "## First dataframe: 2015-2016 class"
   ]
  },
  {
   "cell_type": "code",
   "execution_count": 514,
   "id": "a0f51551",
   "metadata": {},
   "outputs": [
    {
     "data": {
      "text/plain": [
       "\"We open our CSV, containing the full name and URL of the profile of our students, and we remove all those\\nrows that don't contain the URL of the student, because our Selenium code couldn't scrap it\""
      ]
     },
     "execution_count": 514,
     "metadata": {},
     "output_type": "execute_result"
    }
   ],
   "source": [
    "df1 = pd.read_csv('/Users/davidfernandez/Desktop/clean/scrapped/2015-2016.csv') \n",
    "\n",
    "df1 = df1[df1['Link perfil'] != 'Link no existente']\n",
    "\n",
    "df1 = df1.reset_index()\n",
    "\n",
    "df1 = df1.drop('index', axis=1)\n",
    "\n",
    "'''We open our CSV, containing the full name and URL of the profile of our students, and we remove all those\n",
    "rows that don't contain the URL of the student, because our Selenium code couldn't scrap it'''"
   ]
  },
  {
   "cell_type": "code",
   "execution_count": 515,
   "id": "333cabd8",
   "metadata": {},
   "outputs": [],
   "source": [
    "df1[\"Datos escrapeados\"] = df1[\"Link perfil\"].apply(scrape_linkedin_profile2)\n",
    "\n",
    "# We apply our function to the row of our dataframe that contains all the URLs of our students\n"
   ]
  },
  {
   "cell_type": "code",
   "execution_count": 517,
   "id": "5eaf7f1b",
   "metadata": {},
   "outputs": [],
   "source": [
    "valor_a_buscar = {'code': 404, 'description': 'Person profile does not exist', 'name': 'Not Found'}\n",
    "\n",
    "\n",
    "filas_filtradas = df1.loc[df1['Datos escrapeados'] == valor_a_buscar]\n",
    "\n",
    "# We identify those students whose data we couldn't scrap\n",
    "\n",
    "indices_a_eliminar = filas_filtradas.index\n",
    "\n",
    "df1 = df1.drop(indices_a_eliminar)\n",
    "\n",
    "# And we take them out \n"
   ]
  },
  {
   "cell_type": "code",
   "execution_count": 518,
   "id": "8c3f095f",
   "metadata": {},
   "outputs": [],
   "source": [
    "df1 = df1.reset_index()\n",
    "\n",
    "df1 = df1.drop('index', axis=1)\n",
    "\n",
    "# We reset indexes and delete the column 'index'"
   ]
  },
  {
   "cell_type": "code",
   "execution_count": 519,
   "id": "53e4236f",
   "metadata": {},
   "outputs": [],
   "source": [
    "normalized_data = pd.json_normalize(df1['Datos escrapeados']) \n",
    "\n",
    "# We create one column per key in our 'Datos escrapeados' column\n"
   ]
  },
  {
   "cell_type": "code",
   "execution_count": 520,
   "id": "de971374",
   "metadata": {},
   "outputs": [],
   "source": [
    "df1 = pd.concat([df1, normalized_data], axis=1) # We apply those columns to our copi2 dataframe\n"
   ]
  },
  {
   "cell_type": "code",
   "execution_count": 522,
   "id": "a4b6dc1b",
   "metadata": {},
   "outputs": [],
   "source": [
    "columnas_a_eliminar = ['Nombre', 'Primer apellido', 'Segundo apellido', 'Email universitario', 'Email personal', 'Datos escrapeados', 'public_identifier', 'profile_pic_url', 'first_name', 'last_name', 'full_name', 'headline', 'country', 'languages', 'education', 'occupation', 'connections', 'country_full_name', 'follower_count', 'summary', 'state', 'accomplishment_honors_awards', 'accomplishment_courses', 'accomplishment_projects', 'groups', 'accomplishment_publications', 'certifications', 'accomplishment_organisations', 'accomplishment_test_scores']\n",
    "\n",
    "\n",
    "df1 = df1.drop(columns=columnas_a_eliminar)\n"
   ]
  },
  {
   "cell_type": "code",
   "execution_count": 524,
   "id": "1c2c63e9",
   "metadata": {},
   "outputs": [],
   "source": [
    "df1 = df1.explode('experiences')\n",
    "\n",
    "# We explode our lists in 'experiences' column, to have as many rows per student as experiences she/he has"
   ]
  },
  {
   "cell_type": "code",
   "execution_count": 525,
   "id": "f197b01c",
   "metadata": {},
   "outputs": [],
   "source": [
    "df1 = df1.reset_index()\n",
    "\n",
    "df1 = df1.drop('index', axis=1)\n",
    "\n",
    "# We reset our indexes, to make it more clear"
   ]
  },
  {
   "cell_type": "code",
   "execution_count": 527,
   "id": "4a4b8bf6",
   "metadata": {},
   "outputs": [],
   "source": [
    "normalized_data1 = pd.json_normalize(df1['experiences']) \n",
    "\n",
    "\n",
    "df1 = pd.concat([df1, normalized_data1], axis=1) # We apply those columns to our df1 dataframe\n"
   ]
  },
  {
   "cell_type": "code",
   "execution_count": 529,
   "id": "a55a58a2",
   "metadata": {},
   "outputs": [],
   "source": [
    "cols_a_eliminar = ['description', 'logo_url', 'ends_at', 'starts_at', 'company_linkedin_profile_url', 'experiences']                  \n",
    "                   \n",
    "df1 = df1.drop(cols_a_eliminar, axis=1)\n",
    "\n",
    "\n",
    "# We get rid of unwanted columns"
   ]
  },
  {
   "cell_type": "code",
   "execution_count": 553,
   "id": "6acd210b",
   "metadata": {},
   "outputs": [],
   "source": [
    "df2 = df1.copy()\n"
   ]
  },
  {
   "cell_type": "code",
   "execution_count": 554,
   "id": "de30601f",
   "metadata": {},
   "outputs": [],
   "source": [
    "df2['ends_at.day'].fillna('actualidad', inplace=True)\n",
    "df2['ends_at.month'].fillna('actualidad', inplace=True)\n",
    "df2['ends_at.year'].fillna('actualidad', inplace=True)\n",
    "\n",
    "# If any of our ending columns have nulls, it means that that person is still working there"
   ]
  },
  {
   "cell_type": "code",
   "execution_count": 555,
   "id": "d7b681a0",
   "metadata": {},
   "outputs": [],
   "source": [
    "df2.dropna(subset=['starts_at.day', 'starts_at.month', 'starts_at.year'], inplace=True)\n",
    "\n",
    "# We get rid of all our experiences whose start date is null"
   ]
  },
  {
   "cell_type": "code",
   "execution_count": 557,
   "id": "122341db",
   "metadata": {},
   "outputs": [],
   "source": [
    "\n",
    "# Combines the columns of start date and end date into 'end date'\n",
    "df2['Fecha inicio'] = df2.apply(lambda x: pd.to_datetime(f\"{int(x['starts_at.year'])}-{int(x['starts_at.month'])}-01\"), axis=1)\n",
    "df2['Fecha fin'] = df2.apply(lambda x: 'actualidad' if x['ends_at.year'] == 'actualidad' else pd.to_datetime(f\"{int(x['ends_at.year'])}-{int(x['ends_at.month'])}-01\"), axis=1)\n",
    "\n",
    "# Calculates the duration of each experience in months\n",
    "df2['Duración (meses)'] = df2.apply(lambda x: (datetime.datetime.now() - x['Fecha inicio']).days // 30 if x['ends_at.year'] == 'actualidad' else (x['Fecha fin'] - x['Fecha inicio']).days // 30, axis=1)\n",
    "\n",
    "# Replaces values in end date when its pertinent\n",
    "df2['Fecha fin'] = df2.apply(lambda x: 'actualidad' if x['ends_at.year'] == 'actualidad' else x['Fecha fin'], axis=1)\n",
    "\n",
    "# Gets rid of unnecesary columns\n",
    "df2.drop(['location', 'starts_at.year', 'starts_at.day', 'starts_at.month', 'ends_at.day', 'ends_at.month', 'ends_at.year'], axis=1, inplace=True)\n"
   ]
  },
  {
   "cell_type": "code",
   "execution_count": 562,
   "id": "8a658cd6",
   "metadata": {},
   "outputs": [],
   "source": [
    "df2.rename(columns={'company': 'Empresa', 'title': 'Puesto', 'city': 'Ciudad'}, inplace=True)\n",
    "\n",
    "# We rename some columns in spanish"
   ]
  },
  {
   "cell_type": "code",
   "execution_count": 559,
   "id": "e5f7f313",
   "metadata": {},
   "outputs": [],
   "source": [
    "df2 = df2.reset_index()\n",
    "\n",
    "df2 = df2.drop('index', axis=1)"
   ]
  },
  {
   "cell_type": "code",
   "execution_count": 565,
   "id": "49274b0f",
   "metadata": {},
   "outputs": [],
   "source": [
    "new_order = ['Grado', 'Nombre completo', 'Link perfil', 'Puesto', 'Empresa', 'Ciudad', 'Fecha inicio', 'Fecha fin', 'Duración (meses)']\n",
    "\n",
    "df2 = df2[new_order]\n",
    "\n",
    "# We finally change the orders of some columns to make them more comprehensible\n"
   ]
  },
  {
   "cell_type": "code",
   "execution_count": 568,
   "id": "166c16b4",
   "metadata": {},
   "outputs": [],
   "source": [
    "df2.to_csv('/Users/davidfernandez/Desktop/clean/experience/2015-2016.csv', index=False) \n"
   ]
  },
  {
   "cell_type": "markdown",
   "id": "5d6cb89d",
   "metadata": {},
   "source": [
    "## Second dataframe: 2016-2017 class"
   ]
  },
  {
   "cell_type": "code",
   "execution_count": null,
   "id": "8784c277",
   "metadata": {},
   "outputs": [],
   "source": []
  },
  {
   "cell_type": "code",
   "execution_count": null,
   "id": "600f9b72",
   "metadata": {},
   "outputs": [],
   "source": []
  },
  {
   "cell_type": "code",
   "execution_count": null,
   "id": "74cac260",
   "metadata": {},
   "outputs": [],
   "source": []
  },
  {
   "cell_type": "code",
   "execution_count": null,
   "id": "bdcb1bcc",
   "metadata": {},
   "outputs": [],
   "source": []
  },
  {
   "cell_type": "code",
   "execution_count": null,
   "id": "e6f3d7c6",
   "metadata": {},
   "outputs": [],
   "source": []
  },
  {
   "cell_type": "code",
   "execution_count": null,
   "id": "2a8d579b",
   "metadata": {},
   "outputs": [],
   "source": []
  },
  {
   "cell_type": "code",
   "execution_count": null,
   "id": "03590510",
   "metadata": {},
   "outputs": [],
   "source": []
  },
  {
   "cell_type": "code",
   "execution_count": null,
   "id": "0b51d9ba",
   "metadata": {},
   "outputs": [],
   "source": []
  }
 ],
 "metadata": {
  "kernelspec": {
   "display_name": "Python 3 (ipykernel)",
   "language": "python",
   "name": "python3"
  },
  "language_info": {
   "codemirror_mode": {
    "name": "ipython",
    "version": 3
   },
   "file_extension": ".py",
   "mimetype": "text/x-python",
   "name": "python",
   "nbconvert_exporter": "python",
   "pygments_lexer": "ipython3",
   "version": "3.11.3"
  }
 },
 "nbformat": 4,
 "nbformat_minor": 5
}
