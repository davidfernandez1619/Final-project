{
 "cells": [
  {
   "cell_type": "code",
   "execution_count": 193,
   "id": "d84a6815",
   "metadata": {},
   "outputs": [
    {
     "name": "stdout",
     "output_type": "stream",
     "text": [
      "Directorio actual: /Users/davidfernandez/Desktop/Projects/Final-project/Notebooks\n"
     ]
    }
   ],
   "source": [
    "import os\n",
    "import pandas as pd\n",
    "\n",
    "# Obtiene el directorio actual\n",
    "directorio_actual = os.getcwd()\n",
    "\n",
    "# Imprime la ubicación actual\n",
    "print(\"Directorio actual:\", directorio_actual)\n"
   ]
  },
  {
   "cell_type": "code",
   "execution_count": 194,
   "id": "6c038270",
   "metadata": {},
   "outputs": [],
   "source": [
    "df = pd.read_csv('/Users/davidfernandez/Desktop/Egresados CSV/2015-2016.csv')\n"
   ]
  },
  {
   "cell_type": "code",
   "execution_count": 195,
   "id": "e93c7ef6",
   "metadata": {},
   "outputs": [
    {
     "data": {
      "text/plain": [
       "array(['Grado en Com Audiovisual ', 'Grado en Publicidad      ',\n",
       "       'Grado en Historia Arte   ', 'PERIODISMO               ',\n",
       "       'HUMANIDADES              ', 'Grado en Historia        ',\n",
       "       'Gr. Educación Primaria   ', 'Gr. Educación Infantil   ',\n",
       "       'Grado en Periodismo      ', 'COMUNICACIÓN AUDIOVISUAL ',\n",
       "       'Gr. Comunicación Digital ', 'PUBLICIDAD Y REL.PÚBLICAS',\n",
       "       'Grado en Humanidades     '], dtype=object)"
      ]
     },
     "execution_count": 195,
     "metadata": {},
     "output_type": "execute_result"
    }
   ],
   "source": [
    "df['Nombre reducido'].unique() # We see the unique values in the columns of our Bachelor Degrees"
   ]
  },
  {
   "cell_type": "code",
   "execution_count": 196,
   "id": "2f14bd42",
   "metadata": {},
   "outputs": [],
   "source": [
    "nuevos = {'Grado en Com Audiovisual ': 'Comunicación audiovisual', 'Grado en Historia Arte   ': 'Historia Arte', 'HUMANIDADES              ': 'Humanidades', 'Gr. Educación Primaria   ': 'Educación primaria', 'Grado en Periodismo      ': 'Periodismo', 'Gr. Comunicación Digital ': 'Comunicación digital', 'Grado en Humanidades     ': 'Humanidades', 'Grado en Publicidad      ': 'Publicidad', 'PERIODISMO               ': 'Periodismo', 'Grado en Historia        ': 'Historia', 'Gr. Educación Infantil   ': 'Educación infantil', 'COMUNICACIÓN AUDIOVISUAL ': 'Comunicación audiovisual', 'PUBLICIDAD Y REL.PÚBLICAS': 'Publicidad'}"
   ]
  },
  {
   "cell_type": "code",
   "execution_count": 197,
   "id": "9484eb9e",
   "metadata": {},
   "outputs": [],
   "source": [
    "df['Nombre reducido'] = df['Nombre reducido'].replace(nuevos) # We replace our values by more comprehensible values\n"
   ]
  },
  {
   "cell_type": "code",
   "execution_count": 198,
   "id": "9baf8d76",
   "metadata": {},
   "outputs": [
    {
     "data": {
      "text/plain": [
       "array(['Comunicación audiovisual', 'Publicidad', 'Historia Arte',\n",
       "       'Periodismo', 'Humanidades', 'Historia', 'Educación primaria',\n",
       "       'Educación infantil', 'Comunicación digital'], dtype=object)"
      ]
     },
     "execution_count": 198,
     "metadata": {},
     "output_type": "execute_result"
    }
   ],
   "source": [
    "df['Nombre reducido'].unique()"
   ]
  },
  {
   "cell_type": "code",
   "execution_count": 199,
   "id": "5e36f394",
   "metadata": {},
   "outputs": [],
   "source": [
    "columnas_a_eliminar = {'Cod.facultad', 'Cod.carrera', 'Cv; telefono sms', 'Tipo expediente'} \n",
    "\n",
    "# We set the columns that we want to remove in our df"
   ]
  },
  {
   "cell_type": "code",
   "execution_count": 200,
   "id": "a2a0b9df",
   "metadata": {},
   "outputs": [],
   "source": [
    "df = df.drop(columnas_a_eliminar, axis=1)\n",
    "\n",
    " # And now we get rid of those columns and visualize again our dataframe"
   ]
  },
  {
   "cell_type": "code",
   "execution_count": 201,
   "id": "0408cad4",
   "metadata": {},
   "outputs": [],
   "source": [
    "nuevos_nombres = {'Nombre reducido': 'Grado', 'Nombre propio': 'Nombre', 'Cv; email asig.': 'Email universitario', 'Cv; email libre': 'Email personal'}"
   ]
  },
  {
   "cell_type": "code",
   "execution_count": 202,
   "id": "3054dc84",
   "metadata": {},
   "outputs": [],
   "source": [
    "df = df.rename(columns=nuevos_nombres)\n",
    "\n",
    "\n",
    "\n",
    "# Now we change our columns names"
   ]
  },
  {
   "cell_type": "code",
   "execution_count": 203,
   "id": "eac39efc",
   "metadata": {},
   "outputs": [],
   "source": [
    "def eliminar_espacios_extra(cadena):\n",
    "    if isinstance(cadena, str):  \n",
    "        return cadena.strip()\n",
    "    else:\n",
    "        return cadena\n",
    "\n",
    "df = df.applymap(eliminar_espacios_extra)\n",
    "\n",
    "# We create a function to remove all spaces before and after each value of our dataframe\n",
    "\n"
   ]
  },
  {
   "cell_type": "code",
   "execution_count": 204,
   "id": "3f2e1a37",
   "metadata": {},
   "outputs": [],
   "source": [
    "def crear_nombre_completo(row):\n",
    "    return f\"{row['Nombre']} {row['Primer apellido']} {row['Segundo apellido']}\"\n",
    "\n",
    "\n",
    "df['Nombre completo'] = df.apply(crear_nombre_completo, axis=1)\n",
    "\n",
    "\n",
    "\n",
    "# We create a function that mixes each student's name, first and second name. We then apply it to our df in a new column"
   ]
  },
  {
   "cell_type": "code",
   "execution_count": 205,
   "id": "39f9d1a8",
   "metadata": {},
   "outputs": [],
   "source": [
    "'''A lot of our graduates are duplicated, since they graduated from a dual degree. We are going to identify them, \n",
    "remove the second row, and in the column 'Grado' of our first row, we're going to add the dual degree'''\n",
    "\n",
    "\n",
    "import pandas as pd\n",
    "\n",
    "for index, row in df.iterrows():\n",
    "    \n",
    "    nombre_completo_actual = row['Nombre completo']\n",
    "    grado_actual = row['Grado']\n",
    "\n",
    "    duplicados = df[df['Nombre completo'] == nombre_completo_actual]\n",
    "    cantidad_duplicados = len(duplicados)\n",
    "\n",
    "    if cantidad_duplicados > 1:\n",
    "        \n",
    "        nuevos_grados = ' y '.join(duplicados['Grado'])\n",
    "        \n",
    "        df.loc[index, 'Grado'] = nuevos_grados\n",
    "        \n",
    "        df.drop(duplicados.index[1:], inplace=True)\n"
   ]
  },
  {
   "cell_type": "code",
   "execution_count": 206,
   "id": "b8e5c745",
   "metadata": {},
   "outputs": [],
   "source": [
    "valores_a_eliminar = ['Educación primaria', 'Educación primaria y Educación infantil', 'Educación infantil']\n",
    "\n",
    "df = df[~df['Grado'].isin(valores_a_eliminar)].reset_index().drop('index', axis=1)\n",
    "\n",
    "\n",
    "\n",
    "# Finally, we get rid of the students from the degrees of Primary Education and Early Childhood Education "
   ]
  },
  {
   "cell_type": "markdown",
   "id": "4f805d56",
   "metadata": {},
   "source": [
    "## Testing selenium with a small dataframe"
   ]
  },
  {
   "cell_type": "code",
   "execution_count": 207,
   "id": "4f3bc72b",
   "metadata": {},
   "outputs": [],
   "source": [
    "df1 = df.head(20)\n"
   ]
  },
  {
   "cell_type": "code",
   "execution_count": 24,
   "id": "ea625466",
   "metadata": {},
   "outputs": [
    {
     "name": "stdout",
     "output_type": "stream",
     "text": [
      "Requirement already satisfied: selenium in /Users/davidfernandez/anaconda3/lib/python3.11/site-packages (4.13.0)\n",
      "Requirement already satisfied: urllib3[socks]<3,>=1.26 in /Users/davidfernandez/anaconda3/lib/python3.11/site-packages (from selenium) (1.26.16)\n",
      "Requirement already satisfied: trio~=0.17 in /Users/davidfernandez/anaconda3/lib/python3.11/site-packages (from selenium) (0.22.2)\n",
      "Requirement already satisfied: trio-websocket~=0.9 in /Users/davidfernandez/anaconda3/lib/python3.11/site-packages (from selenium) (0.11.1)\n",
      "Requirement already satisfied: certifi>=2021.10.8 in /Users/davidfernandez/anaconda3/lib/python3.11/site-packages (from selenium) (2023.5.7)\n",
      "Requirement already satisfied: attrs>=20.1.0 in /Users/davidfernandez/anaconda3/lib/python3.11/site-packages (from trio~=0.17->selenium) (22.1.0)\n",
      "Requirement already satisfied: sortedcontainers in /Users/davidfernandez/anaconda3/lib/python3.11/site-packages (from trio~=0.17->selenium) (2.4.0)\n",
      "Requirement already satisfied: idna in /Users/davidfernandez/anaconda3/lib/python3.11/site-packages (from trio~=0.17->selenium) (3.4)\n",
      "Requirement already satisfied: outcome in /Users/davidfernandez/anaconda3/lib/python3.11/site-packages (from trio~=0.17->selenium) (1.2.0)\n",
      "Requirement already satisfied: sniffio in /Users/davidfernandez/anaconda3/lib/python3.11/site-packages (from trio~=0.17->selenium) (1.2.0)\n",
      "Requirement already satisfied: wsproto>=0.14 in /Users/davidfernandez/anaconda3/lib/python3.11/site-packages (from trio-websocket~=0.9->selenium) (1.2.0)\n",
      "Requirement already satisfied: PySocks!=1.5.7,<2.0,>=1.5.6 in /Users/davidfernandez/anaconda3/lib/python3.11/site-packages (from urllib3[socks]<3,>=1.26->selenium) (1.7.1)\n",
      "Requirement already satisfied: h11<1,>=0.9.0 in /Users/davidfernandez/anaconda3/lib/python3.11/site-packages (from wsproto>=0.14->trio-websocket~=0.9->selenium) (0.14.0)\n",
      "Requirement already satisfied: webdriver-manager in /Users/davidfernandez/anaconda3/lib/python3.11/site-packages (4.0.1)\n",
      "Requirement already satisfied: requests in /Users/davidfernandez/anaconda3/lib/python3.11/site-packages (from webdriver-manager) (2.29.0)\n",
      "Requirement already satisfied: python-dotenv in /Users/davidfernandez/anaconda3/lib/python3.11/site-packages (from webdriver-manager) (1.0.0)\n",
      "Requirement already satisfied: packaging in /Users/davidfernandez/anaconda3/lib/python3.11/site-packages (from webdriver-manager) (23.0)\n",
      "Requirement already satisfied: charset-normalizer<4,>=2 in /Users/davidfernandez/anaconda3/lib/python3.11/site-packages (from requests->webdriver-manager) (2.0.4)\n",
      "Requirement already satisfied: idna<4,>=2.5 in /Users/davidfernandez/anaconda3/lib/python3.11/site-packages (from requests->webdriver-manager) (3.4)\n",
      "Requirement already satisfied: urllib3<1.27,>=1.21.1 in /Users/davidfernandez/anaconda3/lib/python3.11/site-packages (from requests->webdriver-manager) (1.26.16)\n",
      "Requirement already satisfied: certifi>=2017.4.17 in /Users/davidfernandez/anaconda3/lib/python3.11/site-packages (from requests->webdriver-manager) (2023.5.7)\n"
     ]
    }
   ],
   "source": [
    "!pip install selenium\n",
    "!pip install webdriver-manager\n",
    "\n",
    "# Manejo de datos \n",
    "import pandas as pd # manejo de datos y dataframes\n",
    "import numpy as np # manejo de arrays y operaciones matematicas \n",
    "\n",
    "\n",
    "# Librerias para realizar web scraping con selenium\n",
    "\n",
    "from selenium import webdriver # webdriver permite manejar un navegador \n",
    "from webdriver_manager.chrome import ChromeDriverManager # permite instalar y mantener actualizado el driver de chrome\n",
    "from selenium.webdriver.common.keys import Keys # permite simular teclas del teclado \n",
    "from selenium.webdriver.chrome.options import Options # permite configurar el driver de chrome como modo incognito o maximizar la ventana\n",
    "from time import sleep # esperas entre ejecuciones de codigo\n",
    "\n",
    "\n",
    "import warnings # permite ignorar los warnings de python \n",
    "warnings.filterwarnings('ignore')"
   ]
  },
  {
   "cell_type": "code",
   "execution_count": 25,
   "id": "aea15d89",
   "metadata": {},
   "outputs": [],
   "source": [
    "opciones= Options()\n",
    "opciones.add_experimental_option('excludeSwitches', ['enable-automation'])\n",
    "opciones.add_experimental_option('useAutomationExtension', False)\n",
    "opciones.add_argument('--start-maximized') \n",
    "opciones.add_argument('user.data-dir=selenium') \n",
    "opciones.add_argument('--incognito')"
   ]
  },
  {
   "cell_type": "code",
   "execution_count": 192,
   "id": "9d255810",
   "metadata": {},
   "outputs": [
    {
     "ename": "NoSuchElementException",
     "evalue": "Message: no such element: Unable to locate element: {\"method\":\"css selector\",\"selector\":\".artdeco-dropdown__trigger-icon > svg:nth-child(1)\"}\n  (Session info: chrome=117.0.5938.149); For documentation on this error, please visit: https://www.selenium.dev/documentation/webdriver/troubleshooting/errors#no-such-element-exception\nStacktrace:\n0   chromedriver                        0x00000001049b2d68 chromedriver + 4337000\n1   chromedriver                        0x00000001049aade4 chromedriver + 4304356\n2   chromedriver                        0x00000001045d7a5c chromedriver + 293468\n3   chromedriver                        0x000000010461cd50 chromedriver + 576848\n4   chromedriver                        0x0000000104657908 chromedriver + 817416\n5   chromedriver                        0x0000000104610a5c chromedriver + 526940\n6   chromedriver                        0x0000000104611908 chromedriver + 530696\n7   chromedriver                        0x0000000104978db4 chromedriver + 4099508\n8   chromedriver                        0x000000010497d270 chromedriver + 4117104\n9   chromedriver                        0x00000001049834fc chromedriver + 4142332\n10  chromedriver                        0x000000010497dd70 chromedriver + 4119920\n11  chromedriver                        0x0000000104955a44 chromedriver + 3955268\n12  chromedriver                        0x000000010499aa18 chromedriver + 4237848\n13  chromedriver                        0x000000010499ab94 chromedriver + 4238228\n14  chromedriver                        0x00000001049aaa5c chromedriver + 4303452\n15  libsystem_pthread.dylib             0x00000001ac3fbfa8 _pthread_start + 148\n16  libsystem_pthread.dylib             0x00000001ac3f6da0 thread_start + 8\n",
     "output_type": "error",
     "traceback": [
      "\u001b[0;31m---------------------------------------------------------------------------\u001b[0m",
      "\u001b[0;31mNoSuchElementException\u001b[0m                    Traceback (most recent call last)",
      "Cell \u001b[0;32mIn[192], line 23\u001b[0m\n\u001b[1;32m     19\u001b[0m driver\u001b[38;5;241m.\u001b[39mfind_element(\u001b[38;5;124m\"\u001b[39m\u001b[38;5;124mcss selector\u001b[39m\u001b[38;5;124m\"\u001b[39m, \u001b[38;5;124m'\u001b[39m\u001b[38;5;124m.search-global-typeahead__input\u001b[39m\u001b[38;5;124m'\u001b[39m)\u001b[38;5;241m.\u001b[39msend_keys(\u001b[38;5;124m'\u001b[39m\u001b[38;5;124muniversidad ceu san pablo\u001b[39m\u001b[38;5;124m'\u001b[39m, Keys\u001b[38;5;241m.\u001b[39mRETURN)\n\u001b[1;32m     21\u001b[0m driver\u001b[38;5;241m.\u001b[39mfind_element(\u001b[38;5;124m'\u001b[39m\u001b[38;5;124mcss selector\u001b[39m\u001b[38;5;124m'\u001b[39m, \u001b[38;5;124m'\u001b[39m\u001b[38;5;124m.pt1 > span:nth-child(1) > a:nth-child(1)\u001b[39m\u001b[38;5;124m'\u001b[39m)\u001b[38;5;241m.\u001b[39mclick()\n\u001b[0;32m---> 23\u001b[0m driver\u001b[38;5;241m.\u001b[39mfind_element(\u001b[38;5;124m'\u001b[39m\u001b[38;5;124mcss selector\u001b[39m\u001b[38;5;124m'\u001b[39m, \u001b[38;5;124m'\u001b[39m\u001b[38;5;124m.artdeco-dropdown__trigger-icon > svg:nth-child(1)\u001b[39m\u001b[38;5;124m'\u001b[39m)\u001b[38;5;241m.\u001b[39mclick()\n\u001b[1;32m     25\u001b[0m driver\u001b[38;5;241m.\u001b[39mfind_element(\u001b[38;5;124m'\u001b[39m\u001b[38;5;124mcss selector\u001b[39m\u001b[38;5;124m'\u001b[39m, \u001b[38;5;124m'\u001b[39m\u001b[38;5;124m#ember428\u001b[39m\u001b[38;5;124m'\u001b[39m)\u001b[38;5;241m.\u001b[39mclick()\n",
      "File \u001b[0;32m~/anaconda3/lib/python3.11/site-packages/selenium/webdriver/remote/webdriver.py:738\u001b[0m, in \u001b[0;36mWebDriver.find_element\u001b[0;34m(self, by, value)\u001b[0m\n\u001b[1;32m    735\u001b[0m     by \u001b[38;5;241m=\u001b[39m By\u001b[38;5;241m.\u001b[39mCSS_SELECTOR\n\u001b[1;32m    736\u001b[0m     value \u001b[38;5;241m=\u001b[39m \u001b[38;5;124mf\u001b[39m\u001b[38;5;124m'\u001b[39m\u001b[38;5;124m[name=\u001b[39m\u001b[38;5;124m\"\u001b[39m\u001b[38;5;132;01m{\u001b[39;00mvalue\u001b[38;5;132;01m}\u001b[39;00m\u001b[38;5;124m\"\u001b[39m\u001b[38;5;124m]\u001b[39m\u001b[38;5;124m'\u001b[39m\n\u001b[0;32m--> 738\u001b[0m \u001b[38;5;28;01mreturn\u001b[39;00m \u001b[38;5;28mself\u001b[39m\u001b[38;5;241m.\u001b[39mexecute(Command\u001b[38;5;241m.\u001b[39mFIND_ELEMENT, {\u001b[38;5;124m\"\u001b[39m\u001b[38;5;124musing\u001b[39m\u001b[38;5;124m\"\u001b[39m: by, \u001b[38;5;124m\"\u001b[39m\u001b[38;5;124mvalue\u001b[39m\u001b[38;5;124m\"\u001b[39m: value})[\u001b[38;5;124m\"\u001b[39m\u001b[38;5;124mvalue\u001b[39m\u001b[38;5;124m\"\u001b[39m]\n",
      "File \u001b[0;32m~/anaconda3/lib/python3.11/site-packages/selenium/webdriver/remote/webdriver.py:344\u001b[0m, in \u001b[0;36mWebDriver.execute\u001b[0;34m(self, driver_command, params)\u001b[0m\n\u001b[1;32m    342\u001b[0m response \u001b[38;5;241m=\u001b[39m \u001b[38;5;28mself\u001b[39m\u001b[38;5;241m.\u001b[39mcommand_executor\u001b[38;5;241m.\u001b[39mexecute(driver_command, params)\n\u001b[1;32m    343\u001b[0m \u001b[38;5;28;01mif\u001b[39;00m response:\n\u001b[0;32m--> 344\u001b[0m     \u001b[38;5;28mself\u001b[39m\u001b[38;5;241m.\u001b[39merror_handler\u001b[38;5;241m.\u001b[39mcheck_response(response)\n\u001b[1;32m    345\u001b[0m     response[\u001b[38;5;124m\"\u001b[39m\u001b[38;5;124mvalue\u001b[39m\u001b[38;5;124m\"\u001b[39m] \u001b[38;5;241m=\u001b[39m \u001b[38;5;28mself\u001b[39m\u001b[38;5;241m.\u001b[39m_unwrap_value(response\u001b[38;5;241m.\u001b[39mget(\u001b[38;5;124m\"\u001b[39m\u001b[38;5;124mvalue\u001b[39m\u001b[38;5;124m\"\u001b[39m, \u001b[38;5;28;01mNone\u001b[39;00m))\n\u001b[1;32m    346\u001b[0m     \u001b[38;5;28;01mreturn\u001b[39;00m response\n",
      "File \u001b[0;32m~/anaconda3/lib/python3.11/site-packages/selenium/webdriver/remote/errorhandler.py:229\u001b[0m, in \u001b[0;36mErrorHandler.check_response\u001b[0;34m(self, response)\u001b[0m\n\u001b[1;32m    227\u001b[0m         alert_text \u001b[38;5;241m=\u001b[39m value[\u001b[38;5;124m\"\u001b[39m\u001b[38;5;124malert\u001b[39m\u001b[38;5;124m\"\u001b[39m]\u001b[38;5;241m.\u001b[39mget(\u001b[38;5;124m\"\u001b[39m\u001b[38;5;124mtext\u001b[39m\u001b[38;5;124m\"\u001b[39m)\n\u001b[1;32m    228\u001b[0m     \u001b[38;5;28;01mraise\u001b[39;00m exception_class(message, screen, stacktrace, alert_text)  \u001b[38;5;66;03m# type: ignore[call-arg]  # mypy is not smart enough here\u001b[39;00m\n\u001b[0;32m--> 229\u001b[0m \u001b[38;5;28;01mraise\u001b[39;00m exception_class(message, screen, stacktrace)\n",
      "\u001b[0;31mNoSuchElementException\u001b[0m: Message: no such element: Unable to locate element: {\"method\":\"css selector\",\"selector\":\".artdeco-dropdown__trigger-icon > svg:nth-child(1)\"}\n  (Session info: chrome=117.0.5938.149); For documentation on this error, please visit: https://www.selenium.dev/documentation/webdriver/troubleshooting/errors#no-such-element-exception\nStacktrace:\n0   chromedriver                        0x00000001049b2d68 chromedriver + 4337000\n1   chromedriver                        0x00000001049aade4 chromedriver + 4304356\n2   chromedriver                        0x00000001045d7a5c chromedriver + 293468\n3   chromedriver                        0x000000010461cd50 chromedriver + 576848\n4   chromedriver                        0x0000000104657908 chromedriver + 817416\n5   chromedriver                        0x0000000104610a5c chromedriver + 526940\n6   chromedriver                        0x0000000104611908 chromedriver + 530696\n7   chromedriver                        0x0000000104978db4 chromedriver + 4099508\n8   chromedriver                        0x000000010497d270 chromedriver + 4117104\n9   chromedriver                        0x00000001049834fc chromedriver + 4142332\n10  chromedriver                        0x000000010497dd70 chromedriver + 4119920\n11  chromedriver                        0x0000000104955a44 chromedriver + 3955268\n12  chromedriver                        0x000000010499aa18 chromedriver + 4237848\n13  chromedriver                        0x000000010499ab94 chromedriver + 4238228\n14  chromedriver                        0x00000001049aaa5c chromedriver + 4303452\n15  libsystem_pthread.dylib             0x00000001ac3fbfa8 _pthread_start + 148\n16  libsystem_pthread.dylib             0x00000001ac3f6da0 thread_start + 8\n"
     ]
    }
   ],
   "source": [
    "# Ruta para llegar al menú de 'antiguos alumnos CEU'\n",
    "\n",
    "driver = webdriver.Chrome()\n",
    "\n",
    "driver.get(\"https://www.linkedin.com/\")\n",
    "\n",
    "driver.implicitly_wait(3)\n",
    "\n",
    "driver.find_element(\"css selector\", '#session_key').send_keys('david.fernandez1619@gmail.com')\n",
    "\n",
    "driver.find_element(\"css selector\", '#session_password').send_keys('FUturama96**')\n",
    "\n",
    "driver.find_element(\"css selector\", 'button.btn-md:nth-child(3)').click()\n",
    "\n",
    "searchbozx = driver.find_element(\"css selector\", '.search-global-typeahead__input').click()\n",
    "\n",
    "driver.find_element(\"css selector\", '.search-global-typeahead__input').click()\n",
    "\n",
    "driver.find_element(\"css selector\", '.search-global-typeahead__input').send_keys('universidad ceu san pablo', Keys.RETURN)\n",
    "\n",
    "driver.find_element('css selector', '.pt1 > span:nth-child(1) > a:nth-child(1)').click()\n",
    "\n",
    "driver.find_element('css selector', '.pt1 > span:nth-child(1) > a:nth-child(1)').click()\n",
    "\n",
    "\n",
    "\n",
    "\n",
    "\n",
    "\n",
    "\n",
    "\n"
   ]
  },
  {
   "cell_type": "code",
   "execution_count": null,
   "id": "303307b0",
   "metadata": {},
   "outputs": [],
   "source": []
  },
  {
   "cell_type": "code",
   "execution_count": null,
   "id": "f8a9ab16",
   "metadata": {},
   "outputs": [],
   "source": []
  },
  {
   "cell_type": "code",
   "execution_count": null,
   "id": "9272fec3",
   "metadata": {},
   "outputs": [],
   "source": []
  },
  {
   "cell_type": "code",
   "execution_count": null,
   "id": "29e2d611",
   "metadata": {},
   "outputs": [],
   "source": []
  },
  {
   "cell_type": "code",
   "execution_count": null,
   "id": "c7b5b97b",
   "metadata": {},
   "outputs": [],
   "source": []
  }
 ],
 "metadata": {
  "kernelspec": {
   "display_name": "Python 3 (ipykernel)",
   "language": "python",
   "name": "python3"
  },
  "language_info": {
   "codemirror_mode": {
    "name": "ipython",
    "version": 3
   },
   "file_extension": ".py",
   "mimetype": "text/x-python",
   "name": "python",
   "nbconvert_exporter": "python",
   "pygments_lexer": "ipython3",
   "version": "3.11.3"
  }
 },
 "nbformat": 4,
 "nbformat_minor": 5
}
