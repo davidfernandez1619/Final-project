{
 "cells": [
  {
   "cell_type": "markdown",
   "id": "20d1ecf1",
   "metadata": {},
   "source": [
    "# Scraping URLs with Selenium "
   ]
  },
  {
   "cell_type": "code",
   "execution_count": 8,
   "id": "76e6cb6d",
   "metadata": {},
   "outputs": [
    {
     "name": "stdout",
     "output_type": "stream",
     "text": [
      "Requirement already satisfied: selenium in /Users/davidfernandez/anaconda3/lib/python3.11/site-packages (4.13.0)\n",
      "Requirement already satisfied: urllib3[socks]<3,>=1.26 in /Users/davidfernandez/anaconda3/lib/python3.11/site-packages (from selenium) (1.26.16)\n",
      "Requirement already satisfied: trio~=0.17 in /Users/davidfernandez/anaconda3/lib/python3.11/site-packages (from selenium) (0.22.2)\n",
      "Requirement already satisfied: trio-websocket~=0.9 in /Users/davidfernandez/anaconda3/lib/python3.11/site-packages (from selenium) (0.11.1)\n",
      "Requirement already satisfied: certifi>=2021.10.8 in /Users/davidfernandez/anaconda3/lib/python3.11/site-packages (from selenium) (2023.5.7)\n",
      "Requirement already satisfied: attrs>=20.1.0 in /Users/davidfernandez/anaconda3/lib/python3.11/site-packages (from trio~=0.17->selenium) (22.1.0)\n",
      "Requirement already satisfied: sortedcontainers in /Users/davidfernandez/anaconda3/lib/python3.11/site-packages (from trio~=0.17->selenium) (2.4.0)\n",
      "Requirement already satisfied: idna in /Users/davidfernandez/anaconda3/lib/python3.11/site-packages (from trio~=0.17->selenium) (3.4)\n",
      "Requirement already satisfied: outcome in /Users/davidfernandez/anaconda3/lib/python3.11/site-packages (from trio~=0.17->selenium) (1.2.0)\n",
      "Requirement already satisfied: sniffio in /Users/davidfernandez/anaconda3/lib/python3.11/site-packages (from trio~=0.17->selenium) (1.2.0)\n",
      "Requirement already satisfied: wsproto>=0.14 in /Users/davidfernandez/anaconda3/lib/python3.11/site-packages (from trio-websocket~=0.9->selenium) (1.2.0)\n",
      "Requirement already satisfied: PySocks!=1.5.7,<2.0,>=1.5.6 in /Users/davidfernandez/anaconda3/lib/python3.11/site-packages (from urllib3[socks]<3,>=1.26->selenium) (1.7.1)\n",
      "Requirement already satisfied: h11<1,>=0.9.0 in /Users/davidfernandez/anaconda3/lib/python3.11/site-packages (from wsproto>=0.14->trio-websocket~=0.9->selenium) (0.14.0)\n",
      "Requirement already satisfied: webdriver-manager in /Users/davidfernandez/anaconda3/lib/python3.11/site-packages (4.0.1)\n",
      "Requirement already satisfied: requests in /Users/davidfernandez/anaconda3/lib/python3.11/site-packages (from webdriver-manager) (2.29.0)\n",
      "Requirement already satisfied: python-dotenv in /Users/davidfernandez/anaconda3/lib/python3.11/site-packages (from webdriver-manager) (1.0.0)\n",
      "Requirement already satisfied: packaging in /Users/davidfernandez/anaconda3/lib/python3.11/site-packages (from webdriver-manager) (23.0)\n",
      "Requirement already satisfied: charset-normalizer<4,>=2 in /Users/davidfernandez/anaconda3/lib/python3.11/site-packages (from requests->webdriver-manager) (2.0.4)\n",
      "Requirement already satisfied: idna<4,>=2.5 in /Users/davidfernandez/anaconda3/lib/python3.11/site-packages (from requests->webdriver-manager) (3.4)\n",
      "Requirement already satisfied: urllib3<1.27,>=1.21.1 in /Users/davidfernandez/anaconda3/lib/python3.11/site-packages (from requests->webdriver-manager) (1.26.16)\n",
      "Requirement already satisfied: certifi>=2017.4.17 in /Users/davidfernandez/anaconda3/lib/python3.11/site-packages (from requests->webdriver-manager) (2023.5.7)\n"
     ]
    }
   ],
   "source": [
    "!pip install selenium\n",
    "!pip install webdriver-manager\n",
    "\n",
    "import pandas as pd\n",
    "import numpy as np \n",
    "\n",
    "\n",
    "from selenium import webdriver\n",
    "from webdriver_manager.chrome import ChromeDriverManager \n",
    "from selenium.webdriver.common.keys import Keys \n",
    "from selenium.webdriver.chrome.options import Options\n",
    "from time import sleep \n",
    "from selenium.common.exceptions import NoSuchElementException, TimeoutException\n",
    "from selenium.webdriver.support.ui import WebDriverWait\n",
    "from selenium.webdriver.common.by import By\n",
    "from selenium.webdriver.support import expected_conditions as EC\n",
    "\n",
    "import warnings \n",
    "warnings.filterwarnings('ignore')\n",
    "\n",
    "# We install everything we need"
   ]
  },
  {
   "cell_type": "code",
   "execution_count": 7,
   "id": "c3658707",
   "metadata": {},
   "outputs": [],
   "source": [
    "opciones= Options()\n",
    "opciones.add_experimental_option('excludeSwitches', ['enable-automation'])\n",
    "opciones.add_experimental_option('useAutomationExtension', False)\n",
    "opciones.add_argument('--start-maximized') \n",
    "opciones.add_argument('user.data-dir=selenium') \n",
    "opciones.add_argument('--incognito')"
   ]
  },
  {
   "cell_type": "markdown",
   "id": "8294d4bf",
   "metadata": {},
   "source": [
    "# Taking our students' LinkedIn URLs with Selenium"
   ]
  },
  {
   "cell_type": "markdown",
   "id": "c08bee48",
   "metadata": {},
   "source": [
    "## First URL scraping: 2015-2016 class"
   ]
  },
  {
   "cell_type": "code",
   "execution_count": null,
   "id": "8622c858",
   "metadata": {},
   "outputs": [],
   "source": [
    "df = pd.read_csv('/Users/davidfernandez/Desktop/clean/no scrapped/2015-2016.csv')"
   ]
  },
  {
   "cell_type": "code",
   "execution_count": 9,
   "id": "9d90d4df",
   "metadata": {},
   "outputs": [],
   "source": [
    "driver = webdriver.Firefox()\n",
    "driver.get(\"https://www.linkedin.com\")\n",
    "driver.implicitly_wait(3)\n",
    "\n",
    "driver.find_element(\"css selector\", '#session_key').send_keys('joseeee.perezzzz94@gmail.com')\n",
    "driver.find_element(\"css selector\", '#session_password').send_keys('Futurama96')\n",
    "driver.find_element(\"css selector\", 'button.btn-md:nth-child(3)').click()\n",
    "\n",
    "sleep(2)\n",
    "\n",
    "perfiles_linkedin = []\n",
    "\n",
    "for nombre_completo in df['Nombre completo']:\n",
    "    try:\n",
    "        driver.get(\"https://www.linkedin.com/school/universidad-san-pablo-ceu/people/\")    \n",
    "        driver.find_element('css selector', \"#people-search-keywords\").send_keys(nombre_completo, Keys.RETURN)\n",
    "\n",
    "        sleep(2)\n",
    "\n",
    "        link_elements = driver.find_elements(By.CSS_SELECTOR, 'a.app-aware-link ')[8]\n",
    "        \n",
    "        texto = link_elements.get_attribute('href')\n",
    "\n",
    "        if texto == 'https://www.linkedin.com/company/ceu-educational-group/':\n",
    "            \n",
    "            perfiles_linkedin.append('Link no existente')\n",
    "            \n",
    "        else:\n",
    "            \n",
    "            perfiles_linkedin.append(texto)\n",
    "            \n",
    "    except NoSuchElementException:\n",
    "        \n",
    "        perfiles_linkedin.append('Link no existente')\n",
    "        \n",
    "    except TimeoutException:\n",
    "        \n",
    "        perfiles_linkedin.append('Link no existente')\n",
    "\n",
    "df['Link perfil'] = perfiles_linkedin\n",
    "\n",
    "driver.quit()\n",
    "\n",
    "'''This code iterates through all the full names of the students, looks for them \n",
    "on the search box, and takes their profile URL'''"
   ]
  },
  {
   "cell_type": "code",
   "execution_count": 14,
   "id": "b8b0175b",
   "metadata": {},
   "outputs": [],
   "source": [
    "df.to_csv('/Users/davidfernandez/Desktop/clean/scrapped/2015-2016.csv', index=False) \n",
    "\n",
    "# We finally save our CSV\n"
   ]
  },
  {
   "cell_type": "markdown",
   "id": "7a4e8bef",
   "metadata": {},
   "source": [
    "## Second URL scraping: 2016-2017 class"
   ]
  },
  {
   "cell_type": "code",
   "execution_count": 164,
   "id": "cdecddbb",
   "metadata": {},
   "outputs": [],
   "source": [
    "df1 = pd.read_csv('/Users/davidfernandez/Desktop/clean/no scrapped/2016-2017.csv')"
   ]
  },
  {
   "cell_type": "code",
   "execution_count": 166,
   "id": "c6a642a0",
   "metadata": {},
   "outputs": [
    {
     "data": {
      "text/plain": [
       "'This code iterates through all the full names of the students, looks for them \\non the search box, and takes their profile URL'"
      ]
     },
     "execution_count": 166,
     "metadata": {},
     "output_type": "execute_result"
    }
   ],
   "source": [
    "driver = webdriver.Firefox()\n",
    "driver.get(\"https://www.linkedin.com\")\n",
    "driver.implicitly_wait(3)\n",
    "\n",
    "driver.find_element(\"css selector\", '#session_key').send_keys('joseeee.perezzzz94@gmail.com')\n",
    "driver.find_element(\"css selector\", '#session_password').send_keys('Futurama96')\n",
    "driver.find_element(\"css selector\", 'button.btn-md:nth-child(3)').click()\n",
    "\n",
    "sleep(2)\n",
    "\n",
    "perfiles_linkedin = []\n",
    "\n",
    "for nombre_completo in df1['Nombre completo']:\n",
    "    try:\n",
    "        driver.get(\"https://www.linkedin.com/school/universidad-san-pablo-ceu/people/\")    \n",
    "        driver.find_element('css selector', \"#people-search-keywords\").send_keys(nombre_completo, Keys.RETURN)\n",
    "\n",
    "        sleep(2)\n",
    "\n",
    "        link_elements = driver.find_elements(By.CSS_SELECTOR, 'a.app-aware-link ')[8]\n",
    "        \n",
    "        texto = link_elements.get_attribute('href')\n",
    "\n",
    "        if texto == 'https://www.linkedin.com/company/ceu-educational-group/':\n",
    "            \n",
    "            perfiles_linkedin.append('Link no existente')\n",
    "            \n",
    "        else:\n",
    "            \n",
    "            perfiles_linkedin.append(texto)\n",
    "            \n",
    "    except NoSuchElementException:\n",
    "        \n",
    "        perfiles_linkedin.append('Link no existente')\n",
    "        \n",
    "    except TimeoutException:\n",
    "        \n",
    "        perfiles_linkedin.append('Link no existente')\n",
    "\n",
    "df1['Link perfil'] = perfiles_linkedin\n",
    "\n",
    "driver.quit()\n",
    "\n",
    "'''This code iterates through all the full names of the students, looks for them \n",
    "on the search box, and takes their profile URL'''"
   ]
  },
  {
   "cell_type": "code",
   "execution_count": 168,
   "id": "8c9ef3ae",
   "metadata": {},
   "outputs": [],
   "source": [
    "df1.to_csv('/Users/davidfernandez/Desktop/clean/scrapped/2016-2017.csv', index=False) \n"
   ]
  },
  {
   "cell_type": "markdown",
   "id": "f8598b29",
   "metadata": {},
   "source": [
    "## Third URL scraping: 2017-2018 class"
   ]
  },
  {
   "cell_type": "code",
   "execution_count": 169,
   "id": "7fb35bc5",
   "metadata": {},
   "outputs": [],
   "source": [
    "df3 = pd.read_csv('/Users/davidfernandez/Desktop/clean/no scrapped/2017-2018.csv')"
   ]
  },
  {
   "cell_type": "code",
   "execution_count": 171,
   "id": "66ee80e1",
   "metadata": {},
   "outputs": [
    {
     "data": {
      "text/plain": [
       "'This code iterates through all the full names of the students, looks for them \\non the search box, and takes their profile URL'"
      ]
     },
     "execution_count": 171,
     "metadata": {},
     "output_type": "execute_result"
    }
   ],
   "source": [
    "driver = webdriver.Firefox()\n",
    "driver.get(\"https://www.linkedin.com\")\n",
    "driver.implicitly_wait(3)\n",
    "\n",
    "driver.find_element(\"css selector\", '#session_key').send_keys('joseeee.perezzzz94@gmail.com')\n",
    "driver.find_element(\"css selector\", '#session_password').send_keys('Futurama96')\n",
    "driver.find_element(\"css selector\", 'button.btn-md:nth-child(3)').click()\n",
    "\n",
    "sleep(2)\n",
    "\n",
    "perfiles_linkedin = []\n",
    "\n",
    "for nombre_completo in df3['Nombre completo']:\n",
    "    try:\n",
    "        driver.get(\"https://www.linkedin.com/school/universidad-san-pablo-ceu/people/\")    \n",
    "        driver.find_element('css selector', \"#people-search-keywords\").send_keys(nombre_completo, Keys.RETURN)\n",
    "\n",
    "        sleep(2)\n",
    "\n",
    "        link_elements = driver.find_elements(By.CSS_SELECTOR, 'a.app-aware-link ')[8]\n",
    "        \n",
    "        texto = link_elements.get_attribute('href')\n",
    "\n",
    "        if texto == 'https://www.linkedin.com/company/ceu-educational-group/':\n",
    "            \n",
    "            perfiles_linkedin.append('Link no existente')\n",
    "            \n",
    "        else:\n",
    "            \n",
    "            perfiles_linkedin.append(texto)\n",
    "            \n",
    "    except NoSuchElementException:\n",
    "        \n",
    "        perfiles_linkedin.append('Link no existente')\n",
    "        \n",
    "    except TimeoutException:\n",
    "        \n",
    "        perfiles_linkedin.append('Link no existente')\n",
    "\n",
    "df3['Link perfil'] = perfiles_linkedin\n",
    "\n",
    "driver.quit()\n",
    "\n",
    "'''This code iterates through all the full names of the students, looks for them \n",
    "on the search box, and takes their profile URL'''"
   ]
  },
  {
   "cell_type": "code",
   "execution_count": 173,
   "id": "e2f1e4fd",
   "metadata": {},
   "outputs": [],
   "source": [
    "df3.to_csv('/Users/davidfernandez/Desktop/clean/scrapped/2017-2018.csv', index=False) \n"
   ]
  },
  {
   "cell_type": "markdown",
   "id": "fa338907",
   "metadata": {},
   "source": [
    "## Fourth URL scraping: 2018-2019 class"
   ]
  },
  {
   "cell_type": "code",
   "execution_count": null,
   "id": "9ee81082",
   "metadata": {},
   "outputs": [],
   "source": []
  },
  {
   "cell_type": "code",
   "execution_count": null,
   "id": "8acfe21d",
   "metadata": {},
   "outputs": [],
   "source": []
  },
  {
   "cell_type": "code",
   "execution_count": null,
   "id": "30349064",
   "metadata": {},
   "outputs": [],
   "source": []
  },
  {
   "cell_type": "code",
   "execution_count": null,
   "id": "3841b491",
   "metadata": {},
   "outputs": [],
   "source": []
  },
  {
   "cell_type": "code",
   "execution_count": null,
   "id": "fd6ed037",
   "metadata": {},
   "outputs": [],
   "source": []
  }
 ],
 "metadata": {
  "kernelspec": {
   "display_name": "Python 3 (ipykernel)",
   "language": "python",
   "name": "python3"
  },
  "language_info": {
   "codemirror_mode": {
    "name": "ipython",
    "version": 3
   },
   "file_extension": ".py",
   "mimetype": "text/x-python",
   "name": "python",
   "nbconvert_exporter": "python",
   "pygments_lexer": "ipython3",
   "version": "3.11.3"
  }
 },
 "nbformat": 4,
 "nbformat_minor": 5
}
