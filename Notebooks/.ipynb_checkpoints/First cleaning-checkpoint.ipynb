{
 "cells": [
  {
   "cell_type": "code",
   "execution_count": 408,
   "id": "d84a6815",
   "metadata": {},
   "outputs": [
    {
     "name": "stdout",
     "output_type": "stream",
     "text": [
      "Directorio actual: /Users/davidfernandez/Desktop/Projects/Final-project/Notebooks\n"
     ]
    }
   ],
   "source": [
    "import os\n",
    "import pandas as pd\n",
    "\n",
    "# Obtiene el directorio actual\n",
    "directorio_actual = os.getcwd()\n",
    "\n",
    "# Imprime la ubicación actual\n",
    "print(\"Directorio actual:\", directorio_actual)\n"
   ]
  },
  {
   "cell_type": "markdown",
   "id": "4063d928",
   "metadata": {},
   "source": [
    "## First dataframe (2015-2016)"
   ]
  },
  {
   "cell_type": "code",
   "execution_count": 409,
   "id": "6c038270",
   "metadata": {},
   "outputs": [],
   "source": [
    "df = pd.read_csv('/Users/davidfernandez/Desktop/Egresados CSV/2015-2016.csv')\n"
   ]
  },
  {
   "cell_type": "code",
   "execution_count": 410,
   "id": "e93c7ef6",
   "metadata": {},
   "outputs": [
    {
     "data": {
      "text/plain": [
       "array(['Grado en Com Audiovisual ', 'Grado en Publicidad      ',\n",
       "       'Grado en Historia Arte   ', 'PERIODISMO               ',\n",
       "       'HUMANIDADES              ', 'Grado en Historia        ',\n",
       "       'Gr. Educación Primaria   ', 'Gr. Educación Infantil   ',\n",
       "       'Grado en Periodismo      ', 'COMUNICACIÓN AUDIOVISUAL ',\n",
       "       'Gr. Comunicación Digital ', 'PUBLICIDAD Y REL.PÚBLICAS',\n",
       "       'Grado en Humanidades     '], dtype=object)"
      ]
     },
     "execution_count": 410,
     "metadata": {},
     "output_type": "execute_result"
    }
   ],
   "source": [
    "df['Nombre reducido'].unique() # We see the unique values in the columns of our Bachelor Degrees"
   ]
  },
  {
   "cell_type": "code",
   "execution_count": 411,
   "id": "2f14bd42",
   "metadata": {},
   "outputs": [],
   "source": [
    "nuevos = {'Grado en Com Audiovisual ': 'Comunicación audiovisual', 'Grado en Historia Arte   ': 'Historia Arte', 'HUMANIDADES              ': 'Humanidades', 'Gr. Educación Primaria   ': 'Educación primaria', 'Grado en Periodismo      ': 'Periodismo', 'Gr. Comunicación Digital ': 'Comunicación digital', 'Grado en Humanidades     ': 'Humanidades', 'Grado en Publicidad      ': 'Publicidad', 'PERIODISMO               ': 'Periodismo', 'Grado en Historia        ': 'Historia', 'Gr. Educación Infantil   ': 'Educación infantil', 'COMUNICACIÓN AUDIOVISUAL ': 'Comunicación audiovisual', 'PUBLICIDAD Y REL.PÚBLICAS': 'Publicidad'}"
   ]
  },
  {
   "cell_type": "code",
   "execution_count": 412,
   "id": "9484eb9e",
   "metadata": {},
   "outputs": [],
   "source": [
    "df['Nombre reducido'] = df['Nombre reducido'].replace(nuevos) # We replace our values by more comprehensible values\n"
   ]
  },
  {
   "cell_type": "code",
   "execution_count": 413,
   "id": "9baf8d76",
   "metadata": {},
   "outputs": [
    {
     "data": {
      "text/plain": [
       "array(['Comunicación audiovisual', 'Publicidad', 'Historia Arte',\n",
       "       'Periodismo', 'Humanidades', 'Historia', 'Educación primaria',\n",
       "       'Educación infantil', 'Comunicación digital'], dtype=object)"
      ]
     },
     "execution_count": 413,
     "metadata": {},
     "output_type": "execute_result"
    }
   ],
   "source": [
    "df['Nombre reducido'].unique()"
   ]
  },
  {
   "cell_type": "code",
   "execution_count": 414,
   "id": "5e36f394",
   "metadata": {},
   "outputs": [],
   "source": [
    "columnas_a_eliminar = {'Cod.facultad', 'Cod.carrera', 'Cv; telefono sms', 'Tipo expediente'} \n",
    "\n",
    "# We set the columns that we want to remove in our df"
   ]
  },
  {
   "cell_type": "code",
   "execution_count": 415,
   "id": "a2a0b9df",
   "metadata": {},
   "outputs": [],
   "source": [
    "df = df.drop(columnas_a_eliminar, axis=1)\n",
    "\n",
    " # And now we get rid of those columns and visualize again our dataframe"
   ]
  },
  {
   "cell_type": "code",
   "execution_count": 416,
   "id": "0408cad4",
   "metadata": {},
   "outputs": [],
   "source": [
    "nuevos_nombres = {'Nombre reducido': 'Grado', 'Nombre propio': 'Nombre', 'Cv; email asig.': 'Email universitario', 'Cv; email libre': 'Email personal'}"
   ]
  },
  {
   "cell_type": "code",
   "execution_count": 417,
   "id": "3054dc84",
   "metadata": {},
   "outputs": [],
   "source": [
    "df = df.rename(columns=nuevos_nombres)\n",
    "\n",
    "\n",
    "\n",
    "# Now we change our columns names"
   ]
  },
  {
   "cell_type": "code",
   "execution_count": 418,
   "id": "13a7c32e",
   "metadata": {},
   "outputs": [],
   "source": [
    "def eliminar_espacios_extra(cadena):\n",
    "    if isinstance(cadena, str):  \n",
    "        return cadena.strip()\n",
    "    else:\n",
    "        return cadena\n",
    "\n",
    "df = df.applymap(eliminar_espacios_extra)\n",
    "\n",
    "# We create a function to remove all spaces before and after each value of our dataframe\n",
    "\n"
   ]
  },
  {
   "cell_type": "code",
   "execution_count": 419,
   "id": "9f5a387e",
   "metadata": {},
   "outputs": [],
   "source": [
    "def crear_nombre_completo(row):\n",
    "    return f\"{row['Nombre']} {row['Primer apellido']} {row['Segundo apellido']}\"\n",
    "\n",
    "\n",
    "df['Nombre completo'] = df.apply(crear_nombre_completo, axis=1)\n",
    "\n",
    "\n",
    "\n",
    "# We create a function that mixes each student's name, first and second name. We then apply it to our df in a new column"
   ]
  },
  {
   "cell_type": "code",
   "execution_count": 420,
   "id": "19012e6f",
   "metadata": {},
   "outputs": [],
   "source": [
    "'''A lot of our graduates are duplicated, since they graduated from a dual degree. We are going to identify them, \n",
    "remove the second row, and in the column 'Grado' of our first row, we're going to add the dual degree'''\n",
    "\n",
    "\n",
    "import pandas as pd\n",
    "\n",
    "for index, row in df.iterrows():\n",
    "    \n",
    "    nombre_completo_actual = row['Nombre completo']\n",
    "    grado_actual = row['Grado']\n",
    "\n",
    "    duplicados = df[df['Nombre completo'] == nombre_completo_actual]\n",
    "    cantidad_duplicados = len(duplicados)\n",
    "\n",
    "    if cantidad_duplicados > 1:\n",
    "        \n",
    "        nuevos_grados = ' y '.join(duplicados['Grado'])\n",
    "        \n",
    "        df.loc[index, 'Grado'] = nuevos_grados\n",
    "        \n",
    "        df.drop(duplicados.index[1:], inplace=True)\n"
   ]
  },
  {
   "cell_type": "code",
   "execution_count": 421,
   "id": "44ee6a6a",
   "metadata": {},
   "outputs": [],
   "source": [
    "valores_a_eliminar = ['Educación primaria', 'Educación primaria y Educación infantil', 'Educación infantil']\n",
    "\n",
    "df = df[~df['Grado'].isin(valores_a_eliminar)].reset_index().drop('index', axis=1)\n",
    "\n",
    "\n",
    "\n",
    "# Finally, we get rid of the students from the degrees of Primary Education and Early Childhood Education "
   ]
  },
  {
   "cell_type": "markdown",
   "id": "b9ea6a22",
   "metadata": {},
   "source": [
    "## Second dataframe (2016-2017)"
   ]
  },
  {
   "cell_type": "code",
   "execution_count": 423,
   "id": "642f0287",
   "metadata": {},
   "outputs": [],
   "source": [
    "df2 = pd.read_csv('/Users/davidfernandez/Desktop/Egresados CSV/2016-2017.csv')\n"
   ]
  },
  {
   "cell_type": "code",
   "execution_count": 424,
   "id": "206cd1bd",
   "metadata": {},
   "outputs": [
    {
     "data": {
      "text/plain": [
       "array(['Grado en Publicidad      ', 'Grado en Historia Arte   ',\n",
       "       'Grado en Periodismo      ', 'Grado en Humanidades     ',\n",
       "       'Gr. Comunicación Digital ', 'Gr. Educación Infantil   ',\n",
       "       'Grado en Com Audiovisual ', 'Gr. Educación Primaria   ',\n",
       "       'Grado en Historia        '], dtype=object)"
      ]
     },
     "execution_count": 424,
     "metadata": {},
     "output_type": "execute_result"
    }
   ],
   "source": [
    "df2['Nombre reducido'].unique()"
   ]
  },
  {
   "cell_type": "code",
   "execution_count": 425,
   "id": "683d6fca",
   "metadata": {},
   "outputs": [],
   "source": [
    "nuevos2 = {'Grado en Com Audiovisual ': 'Comunicación audiovisual', 'Grado en Historia Arte   ': 'Historia Arte', 'Gr. Educación Primaria   ': 'Educación primaria', 'Grado en Periodismo      ': 'Periodismo', 'Grado en Humanidades     ': 'Humanidades', 'Grado en Publicidad      ': 'Publicidad', 'Grado en Periodismo      ': 'Periodismo', 'Grado en Historia        ': 'Historia', 'Gr. Educación Infantil   ': 'Educación infantil'}"
   ]
  },
  {
   "cell_type": "code",
   "execution_count": 426,
   "id": "d733b81d",
   "metadata": {},
   "outputs": [],
   "source": [
    "df2['Nombre reducido'] = df2['Nombre reducido'].replace(nuevos2) # We replace our values by more comprehensible values\n"
   ]
  },
  {
   "cell_type": "code",
   "execution_count": 429,
   "id": "dbe3b06b",
   "metadata": {},
   "outputs": [],
   "source": [
    "columnas_a_eliminar2 = {'Cod.facultad', 'Cod.carrera', 'Cv; telefono sms', 'Tipo expediente'} \n"
   ]
  },
  {
   "cell_type": "code",
   "execution_count": 430,
   "id": "d8371ad0",
   "metadata": {},
   "outputs": [],
   "source": [
    "df2 = df2.drop(columnas_a_eliminar2, axis=1)\n"
   ]
  },
  {
   "cell_type": "code",
   "execution_count": 431,
   "id": "34611001",
   "metadata": {},
   "outputs": [],
   "source": [
    "nuevos_nombres2 = {'Nombre reducido': 'Grado', 'Nombre propio': 'Nombre', 'Cv; email asig.': 'Email universitario', 'Cv; email libre': 'Email personal'}"
   ]
  },
  {
   "cell_type": "code",
   "execution_count": 432,
   "id": "d18cbc21",
   "metadata": {},
   "outputs": [],
   "source": [
    "df2 = df2.rename(columns=nuevos_nombres2)\n"
   ]
  },
  {
   "cell_type": "code",
   "execution_count": 433,
   "id": "f9327bd1",
   "metadata": {},
   "outputs": [],
   "source": [
    "df2 = df2.applymap(eliminar_espacios_extra)\n",
    "\n",
    "# We create a function to remove all spaces before and after each value of our dataframe"
   ]
  },
  {
   "cell_type": "code",
   "execution_count": 434,
   "id": "fbfc03f3",
   "metadata": {},
   "outputs": [],
   "source": [
    "df2['Nombre completo'] = df2.apply(crear_nombre_completo, axis=1)\n"
   ]
  },
  {
   "cell_type": "code",
   "execution_count": 435,
   "id": "a126b431",
   "metadata": {},
   "outputs": [],
   "source": [
    "for index, row in df2.iterrows():\n",
    "    \n",
    "    nombre_completo_actual = row['Nombre completo']\n",
    "    grado_actual = row['Grado']\n",
    "\n",
    "    duplicados = df2[df2['Nombre completo'] == nombre_completo_actual]\n",
    "    cantidad_duplicados = len(duplicados)\n",
    "\n",
    "    if cantidad_duplicados > 1:\n",
    "        \n",
    "        nuevos_grados = ' y '.join(duplicados['Grado'])\n",
    "        \n",
    "        df2.loc[index, 'Grado'] = nuevos_grados\n",
    "        \n",
    "        df2.drop(duplicados.index[1:], inplace=True)"
   ]
  },
  {
   "cell_type": "code",
   "execution_count": 436,
   "id": "abb75334",
   "metadata": {},
   "outputs": [],
   "source": [
    "df2 = df2[~df2['Grado'].isin(valores_a_eliminar)].reset_index().drop('index', axis=1)\n"
   ]
  },
  {
   "cell_type": "markdown",
   "id": "a9c70da7",
   "metadata": {},
   "source": [
    "## Third dataframe (2017-2018)"
   ]
  },
  {
   "cell_type": "code",
   "execution_count": 437,
   "id": "8907e196",
   "metadata": {},
   "outputs": [],
   "source": [
    "df3 = pd.read_csv('/Users/davidfernandez/Desktop/Egresados CSV/2017-2018.csv')\n"
   ]
  },
  {
   "cell_type": "code",
   "execution_count": 438,
   "id": "e6fe8e1b",
   "metadata": {},
   "outputs": [],
   "source": [
    "nuevos3 = {'Grado en Com Audiovisual ': 'Comunicación audiovisual', 'Grado en Historia Arte   ': 'Historia Arte', 'Gr. Educación Primaria   ': 'Educación primaria', 'Grado en Periodismo      ': 'Periodismo', 'Grado en Humanidades     ': 'Humanidades', 'Grado en Publicidad      ': 'Publicidad', 'Grado en Periodismo      ': 'Periodismo', 'Grado en Historia        ': 'Historia', 'Gr. Educación Infantil   ': 'Educación infantil'}"
   ]
  },
  {
   "cell_type": "code",
   "execution_count": 439,
   "id": "1a66147d",
   "metadata": {},
   "outputs": [],
   "source": [
    "df3['Nombre reducido'] = df3['Nombre reducido'].replace(nuevos2) # We replace our values by more comprehensible values\n"
   ]
  },
  {
   "cell_type": "code",
   "execution_count": 440,
   "id": "7570f765",
   "metadata": {},
   "outputs": [],
   "source": [
    "df3 = df3.rename(columns=nuevos_nombres3)\n"
   ]
  },
  {
   "cell_type": "code",
   "execution_count": 441,
   "id": "f5f09e08",
   "metadata": {},
   "outputs": [],
   "source": [
    "df3 = df3.applymap(eliminar_espacios_extra)\n"
   ]
  },
  {
   "cell_type": "code",
   "execution_count": 442,
   "id": "e17582db",
   "metadata": {},
   "outputs": [],
   "source": [
    "def transform_name(row):\n",
    "    if ',' in row['Nombre del alumno']:\n",
    "        parts = row['Nombre del alumno'].split(', ')\n",
    "        formatted_name = ' '.join([part.title() for part in parts[::-1]])\n",
    "        return formatted_name\n",
    "    else:\n",
    "        return row['Nombre del alumno']\n",
    "\n",
    "df3['Nombre completo'] = df3.apply(transform_name, axis=1)\n"
   ]
  },
  {
   "cell_type": "code",
   "execution_count": 443,
   "id": "38924ac6",
   "metadata": {},
   "outputs": [],
   "source": [
    "for index, row in df3.iterrows():\n",
    "    \n",
    "    nombre_completo_actual = row['Nombre completo']\n",
    "    grado_actual = row['Grado']\n",
    "\n",
    "    duplicados = df3[df3['Nombre completo'] == nombre_completo_actual]\n",
    "    cantidad_duplicados = len(duplicados)\n",
    "\n",
    "    if cantidad_duplicados > 1:\n",
    "        \n",
    "        nuevos_grados = ' y '.join(duplicados['Grado'])\n",
    "        \n",
    "        df3.loc[index, 'Grado'] = nuevos_grados\n",
    "        \n",
    "        df3.drop(duplicados.index[1:], inplace=True)"
   ]
  },
  {
   "cell_type": "code",
   "execution_count": 444,
   "id": "740bca6f",
   "metadata": {},
   "outputs": [],
   "source": [
    "df3 = df3[~df3['Grado'].isin(valores_a_eliminar)].reset_index().drop('index', axis=1)\n"
   ]
  },
  {
   "cell_type": "code",
   "execution_count": 445,
   "id": "a476c187",
   "metadata": {},
   "outputs": [],
   "source": [
    "columnas_a_eliminar3 = {'Cv; telefono sms', 'Calificacion exp', 'Cv; telefono sms', 'Nombre del alumno'} \n",
    "\n",
    "df3 = df3.drop(columnas_a_eliminar3, axis=1)"
   ]
  },
  {
   "cell_type": "markdown",
   "id": "53bdfa87",
   "metadata": {},
   "source": [
    "## Fourth dataframe (2018-2019)"
   ]
  },
  {
   "cell_type": "code",
   "execution_count": null,
   "id": "9765e51a",
   "metadata": {},
   "outputs": [],
   "source": [
    "df4 = pd.read_csv('/Users/davidfernandez/Desktop/Egresados CSV/2018-2019.csv')\n",
    "\n",
    "\n",
    "# DA ERROR, LO DEJAMOS PARA MÁS ADELANTE"
   ]
  },
  {
   "cell_type": "markdown",
   "id": "2df239dd",
   "metadata": {},
   "source": [
    "## Fifth dataframe (2019-2020)"
   ]
  },
  {
   "cell_type": "code",
   "execution_count": 446,
   "id": "a3bb36fc",
   "metadata": {},
   "outputs": [],
   "source": [
    "df5 = pd.read_csv('/Users/davidfernandez/Desktop/Egresados CSV/2019-2020.csv')\n"
   ]
  },
  {
   "cell_type": "code",
   "execution_count": null,
   "id": "cdc20652",
   "metadata": {},
   "outputs": [],
   "source": []
  },
  {
   "cell_type": "code",
   "execution_count": null,
   "id": "d64d599b",
   "metadata": {},
   "outputs": [],
   "source": []
  },
  {
   "cell_type": "code",
   "execution_count": null,
   "id": "7fa03e07",
   "metadata": {},
   "outputs": [],
   "source": []
  },
  {
   "cell_type": "code",
   "execution_count": null,
   "id": "efb9c2e6",
   "metadata": {},
   "outputs": [],
   "source": []
  },
  {
   "cell_type": "code",
   "execution_count": null,
   "id": "74472862",
   "metadata": {},
   "outputs": [],
   "source": []
  },
  {
   "cell_type": "markdown",
   "id": "2ce6cd50",
   "metadata": {},
   "source": [
    "## Web scraping"
   ]
  },
  {
   "cell_type": "code",
   "execution_count": 448,
   "id": "ea625466",
   "metadata": {},
   "outputs": [
    {
     "name": "stdout",
     "output_type": "stream",
     "text": [
      "Requirement already satisfied: selenium in /Users/davidfernandez/anaconda3/lib/python3.11/site-packages (4.13.0)\n",
      "Requirement already satisfied: urllib3[socks]<3,>=1.26 in /Users/davidfernandez/anaconda3/lib/python3.11/site-packages (from selenium) (1.26.16)\n",
      "Requirement already satisfied: trio~=0.17 in /Users/davidfernandez/anaconda3/lib/python3.11/site-packages (from selenium) (0.22.2)\n",
      "Requirement already satisfied: trio-websocket~=0.9 in /Users/davidfernandez/anaconda3/lib/python3.11/site-packages (from selenium) (0.11.1)\n",
      "Requirement already satisfied: certifi>=2021.10.8 in /Users/davidfernandez/anaconda3/lib/python3.11/site-packages (from selenium) (2023.5.7)\n",
      "Requirement already satisfied: attrs>=20.1.0 in /Users/davidfernandez/anaconda3/lib/python3.11/site-packages (from trio~=0.17->selenium) (22.1.0)\n",
      "Requirement already satisfied: sortedcontainers in /Users/davidfernandez/anaconda3/lib/python3.11/site-packages (from trio~=0.17->selenium) (2.4.0)\n",
      "Requirement already satisfied: idna in /Users/davidfernandez/anaconda3/lib/python3.11/site-packages (from trio~=0.17->selenium) (3.4)\n",
      "Requirement already satisfied: outcome in /Users/davidfernandez/anaconda3/lib/python3.11/site-packages (from trio~=0.17->selenium) (1.2.0)\n",
      "Requirement already satisfied: sniffio in /Users/davidfernandez/anaconda3/lib/python3.11/site-packages (from trio~=0.17->selenium) (1.2.0)\n",
      "Requirement already satisfied: wsproto>=0.14 in /Users/davidfernandez/anaconda3/lib/python3.11/site-packages (from trio-websocket~=0.9->selenium) (1.2.0)\n",
      "Requirement already satisfied: PySocks!=1.5.7,<2.0,>=1.5.6 in /Users/davidfernandez/anaconda3/lib/python3.11/site-packages (from urllib3[socks]<3,>=1.26->selenium) (1.7.1)\n",
      "Requirement already satisfied: h11<1,>=0.9.0 in /Users/davidfernandez/anaconda3/lib/python3.11/site-packages (from wsproto>=0.14->trio-websocket~=0.9->selenium) (0.14.0)\n",
      "Requirement already satisfied: webdriver-manager in /Users/davidfernandez/anaconda3/lib/python3.11/site-packages (4.0.1)\n",
      "Requirement already satisfied: requests in /Users/davidfernandez/anaconda3/lib/python3.11/site-packages (from webdriver-manager) (2.29.0)\n",
      "Requirement already satisfied: python-dotenv in /Users/davidfernandez/anaconda3/lib/python3.11/site-packages (from webdriver-manager) (1.0.0)\n",
      "Requirement already satisfied: packaging in /Users/davidfernandez/anaconda3/lib/python3.11/site-packages (from webdriver-manager) (23.0)\n",
      "Requirement already satisfied: charset-normalizer<4,>=2 in /Users/davidfernandez/anaconda3/lib/python3.11/site-packages (from requests->webdriver-manager) (2.0.4)\n",
      "Requirement already satisfied: idna<4,>=2.5 in /Users/davidfernandez/anaconda3/lib/python3.11/site-packages (from requests->webdriver-manager) (3.4)\n",
      "Requirement already satisfied: urllib3<1.27,>=1.21.1 in /Users/davidfernandez/anaconda3/lib/python3.11/site-packages (from requests->webdriver-manager) (1.26.16)\n",
      "Requirement already satisfied: certifi>=2017.4.17 in /Users/davidfernandez/anaconda3/lib/python3.11/site-packages (from requests->webdriver-manager) (2023.5.7)\n"
     ]
    }
   ],
   "source": [
    "!pip install selenium\n",
    "!pip install webdriver-manager\n",
    "\n",
    "import pandas as pd\n",
    "import numpy as np \n",
    "\n",
    "\n",
    "from selenium import webdriver\n",
    "from webdriver_manager.chrome import ChromeDriverManager \n",
    "from selenium.webdriver.common.keys import Keys \n",
    "from selenium.webdriver.chrome.options import Options\n",
    "from time import sleep \n",
    "\n",
    "\n",
    "import warnings \n",
    "warnings.filterwarnings('ignore')"
   ]
  },
  {
   "cell_type": "code",
   "execution_count": 449,
   "id": "aea15d89",
   "metadata": {},
   "outputs": [],
   "source": [
    "opciones= Options()\n",
    "opciones.add_experimental_option('excludeSwitches', ['enable-automation'])\n",
    "opciones.add_experimental_option('useAutomationExtension', False)\n",
    "opciones.add_argument('--start-maximized') \n",
    "opciones.add_argument('user.data-dir=selenium') \n",
    "opciones.add_argument('--incognito')"
   ]
  },
  {
   "cell_type": "markdown",
   "id": "44e56d63",
   "metadata": {},
   "source": [
    "### First URL scraping: 2015-2016"
   ]
  },
  {
   "cell_type": "code",
   "execution_count": 486,
   "id": "6f7d68ff",
   "metadata": {},
   "outputs": [],
   "source": [
    "from selenium.common.exceptions import NoSuchElementException, TimeoutException\n",
    "from selenium.webdriver.support.ui import WebDriverWait\n",
    "from selenium.webdriver.common.by import By\n",
    "from selenium.webdriver.support import expected_conditions as EC\n",
    "\n",
    "driver = webdriver.Firefox()\n",
    "driver.get(\"https://www.linkedin.com\")\n",
    "driver.implicitly_wait(3)\n",
    "\n",
    "driver.find_element(\"css selector\", '#session_key').send_keys('joseeee.perezzzz94@gmail.com')\n",
    "driver.find_element(\"css selector\", '#session_password').send_keys('Futurama96')\n",
    "driver.find_element(\"css selector\", 'button.btn-md:nth-child(3)').click()\n",
    "\n",
    "sleep(2)\n",
    "\n",
    "perfiles_linkedin = []\n",
    "\n",
    "for nombre_completo in df['Nombre completo']:\n",
    "    try:\n",
    "        driver.get(\"https://www.linkedin.com/school/universidad-san-pablo-ceu/people/\")    \n",
    "        driver.find_element('css selector', \"#people-search-keywords\").send_keys(nombre_completo, Keys.RETURN)\n",
    "\n",
    "        sleep(2)\n",
    "\n",
    "        link_elements = driver.find_elements(By.CSS_SELECTOR, 'a.app-aware-link ')[8]\n",
    "        \n",
    "        texto = link_elements.get_attribute('href')\n",
    "\n",
    "        if texto == 'https://www.linkedin.com/company/ceu-educational-group/':\n",
    "            \n",
    "            perfiles_linkedin.append('Link no existente')\n",
    "            \n",
    "        else:\n",
    "            \n",
    "            perfiles_linkedin.append(texto)\n",
    "            \n",
    "    except NoSuchElementException:\n",
    "        \n",
    "        perfiles_linkedin.append('Link no existente')\n",
    "        \n",
    "    except TimeoutException:\n",
    "        \n",
    "        perfiles_linkedin.append('Link no existente')\n",
    "\n",
    "df['Link perfil'] = perfiles_linkedin\n",
    "\n",
    "driver.quit()\n"
   ]
  },
  {
   "cell_type": "markdown",
   "id": "bd088c4c",
   "metadata": {},
   "source": [
    "### Second URL scraping (2016-2017)"
   ]
  },
  {
   "cell_type": "code",
   "execution_count": 501,
   "id": "29f7acd5",
   "metadata": {},
   "outputs": [],
   "source": [
    "driver = webdriver.Firefox()\n",
    "driver.get(\"https://www.linkedin.com\")\n",
    "driver.implicitly_wait(3)\n",
    "\n",
    "driver.find_element(\"css selector\", '#session_key').send_keys('joseeee.perezzzz94@gmail.com')\n",
    "driver.find_element(\"css selector\", '#session_password').send_keys('Futurama96')\n",
    "driver.find_element(\"css selector\", 'button.btn-md:nth-child(3)').click()\n",
    "\n",
    "sleep(2)\n",
    "\n",
    "perfiles_linkedin = []\n",
    "\n",
    "for nombre_completo in df2['Nombre completo']:\n",
    "    try:\n",
    "        driver.get(\"https://www.linkedin.com/school/universidad-san-pablo-ceu/people/\")    \n",
    "        driver.find_element('css selector', \"#people-search-keywords\").send_keys(nombre_completo, Keys.RETURN)\n",
    "\n",
    "        sleep(2)\n",
    "\n",
    "        link_elements = driver.find_elements(By.CSS_SELECTOR, 'a.app-aware-link ')[8]\n",
    "        \n",
    "        texto = link_elements.get_attribute('href')\n",
    "\n",
    "        if texto == 'https://www.linkedin.com/company/ceu-educational-group/':\n",
    "            \n",
    "            perfiles_linkedin.append('Link no existente')\n",
    "            \n",
    "        else:\n",
    "            \n",
    "            perfiles_linkedin.append(texto)\n",
    "            \n",
    "    except NoSuchElementException:\n",
    "        \n",
    "        perfiles_linkedin.append('Link no existente')\n",
    "        \n",
    "    except TimeoutException:\n",
    "        \n",
    "        perfiles_linkedin.append('Link no existente')\n",
    "\n",
    "df2['Link perfil'] = perfiles_linkedin\n",
    "\n",
    "driver.quit()\n"
   ]
  },
  {
   "cell_type": "code",
   "execution_count": 505,
   "id": "d1ec1d17",
   "metadata": {},
   "outputs": [
    {
     "data": {
      "text/html": [
       "<div>\n",
       "<style scoped>\n",
       "    .dataframe tbody tr th:only-of-type {\n",
       "        vertical-align: middle;\n",
       "    }\n",
       "\n",
       "    .dataframe tbody tr th {\n",
       "        vertical-align: top;\n",
       "    }\n",
       "\n",
       "    .dataframe thead th {\n",
       "        text-align: right;\n",
       "    }\n",
       "</style>\n",
       "<table border=\"1\" class=\"dataframe\">\n",
       "  <thead>\n",
       "    <tr style=\"text-align: right;\">\n",
       "      <th></th>\n",
       "      <th>Grado</th>\n",
       "      <th>Nombre</th>\n",
       "      <th>Primer apellido</th>\n",
       "      <th>Segundo apellido</th>\n",
       "      <th>Email universitario</th>\n",
       "      <th>Email personal</th>\n",
       "      <th>Nombre completo</th>\n",
       "      <th>Link perfil</th>\n",
       "    </tr>\n",
       "  </thead>\n",
       "  <tbody>\n",
       "    <tr>\n",
       "      <th>0</th>\n",
       "      <td>Publicidad</td>\n",
       "      <td>Coral</td>\n",
       "      <td>Moreno</td>\n",
       "      <td>Donaire</td>\n",
       "      <td>c.moreno32@usp.ceu.es</td>\n",
       "      <td>coralmoreno.d@hotmail.com</td>\n",
       "      <td>Coral Moreno Donaire</td>\n",
       "      <td>Link no existente</td>\n",
       "    </tr>\n",
       "    <tr>\n",
       "      <th>1</th>\n",
       "      <td>Publicidad</td>\n",
       "      <td>Patricia</td>\n",
       "      <td>Porteiro</td>\n",
       "      <td>Rey</td>\n",
       "      <td>p.porteiro@usp.ceu.es</td>\n",
       "      <td>m.crey@hotmail.com</td>\n",
       "      <td>Patricia Porteiro Rey</td>\n",
       "      <td>https://www.linkedin.com/in/patricia-porteiro-...</td>\n",
       "    </tr>\n",
       "    <tr>\n",
       "      <th>2</th>\n",
       "      <td>Publicidad</td>\n",
       "      <td>Mercedes</td>\n",
       "      <td>Martínez</td>\n",
       "      <td>Peña</td>\n",
       "      <td>m.martinez133@usp.ceu.es</td>\n",
       "      <td>rmartinezrol@redfarma.org</td>\n",
       "      <td>Mercedes Martínez Peña</td>\n",
       "      <td>https://www.linkedin.com/in/mercedes-martinez-...</td>\n",
       "    </tr>\n",
       "    <tr>\n",
       "      <th>3</th>\n",
       "      <td>Publicidad y Comunicación audiovisual</td>\n",
       "      <td>Nerea</td>\n",
       "      <td>Amate</td>\n",
       "      <td>Gata</td>\n",
       "      <td>n.amate@usp.ceu.es</td>\n",
       "      <td>n.amate@hotmail.com</td>\n",
       "      <td>Nerea Amate Gata</td>\n",
       "      <td>https://www.linkedin.com/in/namategata?miniPro...</td>\n",
       "    </tr>\n",
       "    <tr>\n",
       "      <th>4</th>\n",
       "      <td>Publicidad</td>\n",
       "      <td>Gerardo José</td>\n",
       "      <td>López</td>\n",
       "      <td>de la Peña</td>\n",
       "      <td>gj.lopez2@usp.ceu.es</td>\n",
       "      <td>gero.lopez.dlp@gmail.com</td>\n",
       "      <td>Gerardo José López de la Peña</td>\n",
       "      <td>https://www.linkedin.com/in/jos%C3%A9-arango-l...</td>\n",
       "    </tr>\n",
       "    <tr>\n",
       "      <th>...</th>\n",
       "      <td>...</td>\n",
       "      <td>...</td>\n",
       "      <td>...</td>\n",
       "      <td>...</td>\n",
       "      <td>...</td>\n",
       "      <td>...</td>\n",
       "      <td>...</td>\n",
       "      <td>...</td>\n",
       "    </tr>\n",
       "    <tr>\n",
       "      <th>267</th>\n",
       "      <td>Publicidad</td>\n",
       "      <td>David Unai</td>\n",
       "      <td>Mediavilla</td>\n",
       "      <td>Jiménez</td>\n",
       "      <td>du.mediavilla@usp.ceu.es</td>\n",
       "      <td>davidmediavilla_@hotmail.com</td>\n",
       "      <td>David Unai Mediavilla Jiménez</td>\n",
       "      <td>https://www.linkedin.com/in/david-unai-mediavi...</td>\n",
       "    </tr>\n",
       "    <tr>\n",
       "      <th>268</th>\n",
       "      <td>Publicidad</td>\n",
       "      <td>Claudia</td>\n",
       "      <td>Pérez Ullivarri</td>\n",
       "      <td>Pastor</td>\n",
       "      <td>c.perez91@usp.ceu.es</td>\n",
       "      <td>clau_ullivarri@hotmail.com</td>\n",
       "      <td>Claudia Pérez Ullivarri Pastor</td>\n",
       "      <td>Link no existente</td>\n",
       "    </tr>\n",
       "    <tr>\n",
       "      <th>269</th>\n",
       "      <td>Publicidad</td>\n",
       "      <td>Isabel Celia</td>\n",
       "      <td>Fortuño</td>\n",
       "      <td>Padilla</td>\n",
       "      <td>ic.fortuno@usp.ceu.es</td>\n",
       "      <td>isabel.fortuno@hotmail.com</td>\n",
       "      <td>Isabel Celia Fortuño Padilla</td>\n",
       "      <td>https://www.linkedin.com/in/isabel-fortu%C3%B1...</td>\n",
       "    </tr>\n",
       "    <tr>\n",
       "      <th>270</th>\n",
       "      <td>Publicidad</td>\n",
       "      <td>Belén</td>\n",
       "      <td>Muñoz</td>\n",
       "      <td>Luna</td>\n",
       "      <td>b.munoz14@usp.ceu.es</td>\n",
       "      <td>belenmluna@gmail.com</td>\n",
       "      <td>Belén Muñoz Luna</td>\n",
       "      <td>https://www.linkedin.com/in/bel%C3%A9n-mu%C3%B...</td>\n",
       "    </tr>\n",
       "    <tr>\n",
       "      <th>271</th>\n",
       "      <td>Periodismo</td>\n",
       "      <td>Miguel</td>\n",
       "      <td>Pérez</td>\n",
       "      <td>Sánchez</td>\n",
       "      <td>m.perez129@usp.ceu.es</td>\n",
       "      <td>migueloon@gmail.com</td>\n",
       "      <td>Miguel Pérez Sánchez</td>\n",
       "      <td>https://www.linkedin.com/in/miguel-p%C3%A9rez-...</td>\n",
       "    </tr>\n",
       "  </tbody>\n",
       "</table>\n",
       "<p>272 rows × 8 columns</p>\n",
       "</div>"
      ],
      "text/plain": [
       "                                     Grado        Nombre  Primer apellido  \\\n",
       "0                               Publicidad         Coral           Moreno   \n",
       "1                               Publicidad      Patricia         Porteiro   \n",
       "2                               Publicidad      Mercedes         Martínez   \n",
       "3    Publicidad y Comunicación audiovisual         Nerea            Amate   \n",
       "4                               Publicidad  Gerardo José            López   \n",
       "..                                     ...           ...              ...   \n",
       "267                             Publicidad    David Unai       Mediavilla   \n",
       "268                             Publicidad       Claudia  Pérez Ullivarri   \n",
       "269                             Publicidad  Isabel Celia          Fortuño   \n",
       "270                             Publicidad         Belén            Muñoz   \n",
       "271                             Periodismo        Miguel            Pérez   \n",
       "\n",
       "    Segundo apellido       Email universitario                Email personal  \\\n",
       "0            Donaire     c.moreno32@usp.ceu.es     coralmoreno.d@hotmail.com   \n",
       "1                Rey     p.porteiro@usp.ceu.es            m.crey@hotmail.com   \n",
       "2               Peña  m.martinez133@usp.ceu.es     rmartinezrol@redfarma.org   \n",
       "3               Gata        n.amate@usp.ceu.es           n.amate@hotmail.com   \n",
       "4         de la Peña      gj.lopez2@usp.ceu.es      gero.lopez.dlp@gmail.com   \n",
       "..               ...                       ...                           ...   \n",
       "267          Jiménez  du.mediavilla@usp.ceu.es  davidmediavilla_@hotmail.com   \n",
       "268           Pastor      c.perez91@usp.ceu.es    clau_ullivarri@hotmail.com   \n",
       "269          Padilla     ic.fortuno@usp.ceu.es    isabel.fortuno@hotmail.com   \n",
       "270             Luna      b.munoz14@usp.ceu.es          belenmluna@gmail.com   \n",
       "271          Sánchez     m.perez129@usp.ceu.es           migueloon@gmail.com   \n",
       "\n",
       "                    Nombre completo  \\\n",
       "0              Coral Moreno Donaire   \n",
       "1             Patricia Porteiro Rey   \n",
       "2            Mercedes Martínez Peña   \n",
       "3                  Nerea Amate Gata   \n",
       "4     Gerardo José López de la Peña   \n",
       "..                              ...   \n",
       "267   David Unai Mediavilla Jiménez   \n",
       "268  Claudia Pérez Ullivarri Pastor   \n",
       "269    Isabel Celia Fortuño Padilla   \n",
       "270                Belén Muñoz Luna   \n",
       "271            Miguel Pérez Sánchez   \n",
       "\n",
       "                                           Link perfil  \n",
       "0                                    Link no existente  \n",
       "1    https://www.linkedin.com/in/patricia-porteiro-...  \n",
       "2    https://www.linkedin.com/in/mercedes-martinez-...  \n",
       "3    https://www.linkedin.com/in/namategata?miniPro...  \n",
       "4    https://www.linkedin.com/in/jos%C3%A9-arango-l...  \n",
       "..                                                 ...  \n",
       "267  https://www.linkedin.com/in/david-unai-mediavi...  \n",
       "268                                  Link no existente  \n",
       "269  https://www.linkedin.com/in/isabel-fortu%C3%B1...  \n",
       "270  https://www.linkedin.com/in/bel%C3%A9n-mu%C3%B...  \n",
       "271  https://www.linkedin.com/in/miguel-p%C3%A9rez-...  \n",
       "\n",
       "[272 rows x 8 columns]"
      ]
     },
     "execution_count": 505,
     "metadata": {},
     "output_type": "execute_result"
    }
   ],
   "source": [
    "df2"
   ]
  },
  {
   "cell_type": "code",
   "execution_count": null,
   "id": "56b80da8",
   "metadata": {},
   "outputs": [],
   "source": []
  },
  {
   "cell_type": "code",
   "execution_count": null,
   "id": "04c5c761",
   "metadata": {},
   "outputs": [],
   "source": []
  },
  {
   "cell_type": "code",
   "execution_count": null,
   "id": "6c4c3ad1",
   "metadata": {},
   "outputs": [],
   "source": []
  },
  {
   "cell_type": "code",
   "execution_count": null,
   "id": "45387224",
   "metadata": {},
   "outputs": [],
   "source": []
  },
  {
   "cell_type": "code",
   "execution_count": null,
   "id": "faf9acf5",
   "metadata": {},
   "outputs": [],
   "source": []
  },
  {
   "cell_type": "code",
   "execution_count": null,
   "id": "27772194",
   "metadata": {},
   "outputs": [],
   "source": []
  }
 ],
 "metadata": {
  "kernelspec": {
   "display_name": "Python 3 (ipykernel)",
   "language": "python",
   "name": "python3"
  },
  "language_info": {
   "codemirror_mode": {
    "name": "ipython",
    "version": 3
   },
   "file_extension": ".py",
   "mimetype": "text/x-python",
   "name": "python",
   "nbconvert_exporter": "python",
   "pygments_lexer": "ipython3",
   "version": "3.11.3"
  }
 },
 "nbformat": 4,
 "nbformat_minor": 5
}
