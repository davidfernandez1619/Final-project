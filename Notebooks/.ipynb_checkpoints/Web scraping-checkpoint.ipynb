{
 "cells": [
  {
   "cell_type": "markdown",
   "id": "3a473fc7",
   "metadata": {},
   "source": [
    "# Scraping URLs with Selenium "
   ]
  },
  {
   "cell_type": "code",
   "execution_count": 8,
   "id": "0fa39e89",
   "metadata": {},
   "outputs": [
    {
     "name": "stdout",
     "output_type": "stream",
     "text": [
      "Requirement already satisfied: selenium in /Users/davidfernandez/anaconda3/lib/python3.11/site-packages (4.13.0)\n",
      "Requirement already satisfied: urllib3[socks]<3,>=1.26 in /Users/davidfernandez/anaconda3/lib/python3.11/site-packages (from selenium) (1.26.16)\n",
      "Requirement already satisfied: trio~=0.17 in /Users/davidfernandez/anaconda3/lib/python3.11/site-packages (from selenium) (0.22.2)\n",
      "Requirement already satisfied: trio-websocket~=0.9 in /Users/davidfernandez/anaconda3/lib/python3.11/site-packages (from selenium) (0.11.1)\n",
      "Requirement already satisfied: certifi>=2021.10.8 in /Users/davidfernandez/anaconda3/lib/python3.11/site-packages (from selenium) (2023.5.7)\n",
      "Requirement already satisfied: attrs>=20.1.0 in /Users/davidfernandez/anaconda3/lib/python3.11/site-packages (from trio~=0.17->selenium) (22.1.0)\n",
      "Requirement already satisfied: sortedcontainers in /Users/davidfernandez/anaconda3/lib/python3.11/site-packages (from trio~=0.17->selenium) (2.4.0)\n",
      "Requirement already satisfied: idna in /Users/davidfernandez/anaconda3/lib/python3.11/site-packages (from trio~=0.17->selenium) (3.4)\n",
      "Requirement already satisfied: outcome in /Users/davidfernandez/anaconda3/lib/python3.11/site-packages (from trio~=0.17->selenium) (1.2.0)\n",
      "Requirement already satisfied: sniffio in /Users/davidfernandez/anaconda3/lib/python3.11/site-packages (from trio~=0.17->selenium) (1.2.0)\n",
      "Requirement already satisfied: wsproto>=0.14 in /Users/davidfernandez/anaconda3/lib/python3.11/site-packages (from trio-websocket~=0.9->selenium) (1.2.0)\n",
      "Requirement already satisfied: PySocks!=1.5.7,<2.0,>=1.5.6 in /Users/davidfernandez/anaconda3/lib/python3.11/site-packages (from urllib3[socks]<3,>=1.26->selenium) (1.7.1)\n",
      "Requirement already satisfied: h11<1,>=0.9.0 in /Users/davidfernandez/anaconda3/lib/python3.11/site-packages (from wsproto>=0.14->trio-websocket~=0.9->selenium) (0.14.0)\n",
      "Requirement already satisfied: webdriver-manager in /Users/davidfernandez/anaconda3/lib/python3.11/site-packages (4.0.1)\n",
      "Requirement already satisfied: requests in /Users/davidfernandez/anaconda3/lib/python3.11/site-packages (from webdriver-manager) (2.29.0)\n",
      "Requirement already satisfied: python-dotenv in /Users/davidfernandez/anaconda3/lib/python3.11/site-packages (from webdriver-manager) (1.0.0)\n",
      "Requirement already satisfied: packaging in /Users/davidfernandez/anaconda3/lib/python3.11/site-packages (from webdriver-manager) (23.0)\n",
      "Requirement already satisfied: charset-normalizer<4,>=2 in /Users/davidfernandez/anaconda3/lib/python3.11/site-packages (from requests->webdriver-manager) (2.0.4)\n",
      "Requirement already satisfied: idna<4,>=2.5 in /Users/davidfernandez/anaconda3/lib/python3.11/site-packages (from requests->webdriver-manager) (3.4)\n",
      "Requirement already satisfied: urllib3<1.27,>=1.21.1 in /Users/davidfernandez/anaconda3/lib/python3.11/site-packages (from requests->webdriver-manager) (1.26.16)\n",
      "Requirement already satisfied: certifi>=2017.4.17 in /Users/davidfernandez/anaconda3/lib/python3.11/site-packages (from requests->webdriver-manager) (2023.5.7)\n"
     ]
    }
   ],
   "source": [
    "!pip install selenium\n",
    "!pip install webdriver-manager\n",
    "\n",
    "import pandas as pd\n",
    "import numpy as np \n",
    "\n",
    "\n",
    "from selenium import webdriver\n",
    "from webdriver_manager.chrome import ChromeDriverManager \n",
    "from selenium.webdriver.common.keys import Keys \n",
    "from selenium.webdriver.chrome.options import Options\n",
    "from time import sleep \n",
    "from selenium.common.exceptions import NoSuchElementException, TimeoutException\n",
    "from selenium.webdriver.support.ui import WebDriverWait\n",
    "from selenium.webdriver.common.by import By\n",
    "from selenium.webdriver.support import expected_conditions as EC\n",
    "\n",
    "\n",
    "import warnings \n",
    "warnings.filterwarnings('ignore')"
   ]
  },
  {
   "cell_type": "code",
   "execution_count": 7,
   "id": "3ba39d78",
   "metadata": {},
   "outputs": [],
   "source": [
    "opciones= Options()\n",
    "opciones.add_experimental_option('excludeSwitches', ['enable-automation'])\n",
    "opciones.add_experimental_option('useAutomationExtension', False)\n",
    "opciones.add_argument('--start-maximized') \n",
    "opciones.add_argument('user.data-dir=selenium') \n",
    "opciones.add_argument('--incognito')"
   ]
  },
  {
   "cell_type": "markdown",
   "id": "9b8731bd",
   "metadata": {},
   "source": [
    "## First URL scraping: 2015-2016 with Selenium"
   ]
  },
  {
   "cell_type": "code",
   "execution_count": null,
   "id": "d21dc738",
   "metadata": {},
   "outputs": [],
   "source": [
    "df = pd.read_csv('/Users/davidfernandez/Desktop/clean/no scrapped/2015-2016.csv')"
   ]
  },
  {
   "cell_type": "code",
   "execution_count": 9,
   "id": "a0dba62a",
   "metadata": {},
   "outputs": [],
   "source": [
    "driver = webdriver.Firefox()\n",
    "driver.get(\"https://www.linkedin.com\")\n",
    "driver.implicitly_wait(3)\n",
    "\n",
    "driver.find_element(\"css selector\", '#session_key').send_keys('joseeee.perezzzz94@gmail.com')\n",
    "driver.find_element(\"css selector\", '#session_password').send_keys('Futurama96')\n",
    "driver.find_element(\"css selector\", 'button.btn-md:nth-child(3)').click()\n",
    "\n",
    "sleep(2)\n",
    "\n",
    "perfiles_linkedin = []\n",
    "\n",
    "for nombre_completo in df['Nombre completo']:\n",
    "    try:\n",
    "        driver.get(\"https://www.linkedin.com/school/universidad-san-pablo-ceu/people/\")    \n",
    "        driver.find_element('css selector', \"#people-search-keywords\").send_keys(nombre_completo, Keys.RETURN)\n",
    "\n",
    "        sleep(2)\n",
    "\n",
    "        link_elements = driver.find_elements(By.CSS_SELECTOR, 'a.app-aware-link ')[8]\n",
    "        \n",
    "        texto = link_elements.get_attribute('href')\n",
    "\n",
    "        if texto == 'https://www.linkedin.com/company/ceu-educational-group/':\n",
    "            \n",
    "            perfiles_linkedin.append('Link no existente')\n",
    "            \n",
    "        else:\n",
    "            \n",
    "            perfiles_linkedin.append(texto)\n",
    "            \n",
    "    except NoSuchElementException:\n",
    "        \n",
    "        perfiles_linkedin.append('Link no existente')\n",
    "        \n",
    "    except TimeoutException:\n",
    "        \n",
    "        perfiles_linkedin.append('Link no existente')\n",
    "\n",
    "df['Link perfil'] = perfiles_linkedin\n",
    "\n",
    "driver.quit()"
   ]
  },
  {
   "cell_type": "code",
   "execution_count": 14,
   "id": "5d24776d",
   "metadata": {},
   "outputs": [],
   "source": [
    "df.to_csv('/Users/davidfernandez/Desktop/clean/scrapped/2015-2016.csv', index=False)\n"
   ]
  },
  {
   "cell_type": "markdown",
   "id": "0cc567bc",
   "metadata": {},
   "source": [
    "## Extracting data with Beautiful Soup"
   ]
  },
  {
   "cell_type": "code",
   "execution_count": 32,
   "id": "604e6481",
   "metadata": {},
   "outputs": [],
   "source": [
    "from bs4 import BeautifulSoup\n"
   ]
  },
  {
   "cell_type": "code",
   "execution_count": 30,
   "id": "fab5af83",
   "metadata": {},
   "outputs": [],
   "source": [
    "df5 = df.head(10)"
   ]
  },
  {
   "cell_type": "code",
   "execution_count": 58,
   "id": "40d22589",
   "metadata": {},
   "outputs": [],
   "source": [
    "mascara = df5['Link perfil'] != 'Link no existente'\n",
    "\n",
    "df5 = df5[mascara]\n"
   ]
  },
  {
   "cell_type": "code",
   "execution_count": 48,
   "id": "3558d56a",
   "metadata": {},
   "outputs": [
    {
     "data": {
      "text/plain": [
       "{'experiencias': [{'nombre_empresa': 'CHMRP',\n",
       "   'link': 'https://www.linkedin.com/search/results/all/?keywords=CHMRP',\n",
       "   'puestos': [{'nombre_puesto': 'ARB Architect/Project Manager/BIM Manager',\n",
       "     'fecha_inicio': 'abr. 2017',\n",
       "     'fecha_fin': 'may. 2019',\n",
       "     'duracion': '2 años 2 meses'}]},\n",
       "  {'nombre_empresa': 'Architects of Invention',\n",
       "   'link': 'https://www.linkedin.com/company/5020583/',\n",
       "   'puestos': [{'nombre_puesto': 'Arquitecto Senior',\n",
       "     'fecha_inicio': 'sept. 2015',\n",
       "     'fecha_fin': 'abr. 2017',\n",
       "     'duracion': '1 año 8 meses'}]},\n",
       "  {'nombre_empresa': 'Universidad Europea',\n",
       "   'link': 'https://www.linkedin.com/company/29216/',\n",
       "   'puestos': [{'nombre_puesto': 'Tutor privado',\n",
       "     'fecha_inicio': 'ene. 2015',\n",
       "     'fecha_fin': 'ago. 2015',\n",
       "     'duracion': '8 meses'}]},\n",
       "  {'nombre_empresa': 'KM0 Arquitectura',\n",
       "   'link': 'https://www.linkedin.com/search/results/all/?keywords=KM0+Arquitectura',\n",
       "   'puestos': [{'nombre_puesto': 'Arquitecto Junior',\n",
       "     'fecha_inicio': 'jul. 2014',\n",
       "     'fecha_fin': 'ago. 2015',\n",
       "     'duracion': '1 año 2 meses'}]}]}"
      ]
     },
     "execution_count": 48,
     "metadata": {},
     "output_type": "execute_result"
    }
   ],
   "source": [
    "datos_finales_experiencia"
   ]
  },
  {
   "cell_type": "code",
   "execution_count": null,
   "id": "314e866f",
   "metadata": {},
   "outputs": [],
   "source": []
  },
  {
   "cell_type": "code",
   "execution_count": null,
   "id": "2b26aa6f",
   "metadata": {},
   "outputs": [],
   "source": []
  },
  {
   "cell_type": "code",
   "execution_count": null,
   "id": "547041c1",
   "metadata": {},
   "outputs": [],
   "source": []
  },
  {
   "cell_type": "code",
   "execution_count": null,
   "id": "69fb19d9",
   "metadata": {},
   "outputs": [],
   "source": []
  }
 ],
 "metadata": {
  "kernelspec": {
   "display_name": "Python 3 (ipykernel)",
   "language": "python",
   "name": "python3"
  },
  "language_info": {
   "codemirror_mode": {
    "name": "ipython",
    "version": 3
   },
   "file_extension": ".py",
   "mimetype": "text/x-python",
   "name": "python",
   "nbconvert_exporter": "python",
   "pygments_lexer": "ipython3",
   "version": "3.11.3"
  }
 },
 "nbformat": 4,
 "nbformat_minor": 5
}
