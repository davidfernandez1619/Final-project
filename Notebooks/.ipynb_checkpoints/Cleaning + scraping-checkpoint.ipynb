{
 "cells": [
  {
   "cell_type": "code",
   "execution_count": 408,
   "id": "d84a6815",
   "metadata": {},
   "outputs": [
    {
     "name": "stdout",
     "output_type": "stream",
     "text": [
      "Directorio actual: /Users/davidfernandez/Desktop/Projects/Final-project/Notebooks\n"
     ]
    }
   ],
   "source": [
    "import os\n",
    "import pandas as pd\n",
    "\n",
    "# Obtiene el directorio actual\n",
    "directorio_actual = os.getcwd()\n",
    "\n",
    "# Imprime la ubicación actual\n",
    "print(\"Directorio actual:\", directorio_actual)\n"
   ]
  },
  {
   "cell_type": "markdown",
   "id": "0adbc9b0",
   "metadata": {},
   "source": [
    "## First dataframe (2015-2016)"
   ]
  },
  {
   "cell_type": "code",
   "execution_count": 409,
   "id": "6c038270",
   "metadata": {},
   "outputs": [],
   "source": [
    "df = pd.read_csv('/Users/davidfernandez/Desktop/Egresados CSV/2015-2016.csv')\n"
   ]
  },
  {
   "cell_type": "code",
   "execution_count": 410,
   "id": "e93c7ef6",
   "metadata": {},
   "outputs": [
    {
     "data": {
      "text/plain": [
       "array(['Grado en Com Audiovisual ', 'Grado en Publicidad      ',\n",
       "       'Grado en Historia Arte   ', 'PERIODISMO               ',\n",
       "       'HUMANIDADES              ', 'Grado en Historia        ',\n",
       "       'Gr. Educación Primaria   ', 'Gr. Educación Infantil   ',\n",
       "       'Grado en Periodismo      ', 'COMUNICACIÓN AUDIOVISUAL ',\n",
       "       'Gr. Comunicación Digital ', 'PUBLICIDAD Y REL.PÚBLICAS',\n",
       "       'Grado en Humanidades     '], dtype=object)"
      ]
     },
     "execution_count": 410,
     "metadata": {},
     "output_type": "execute_result"
    }
   ],
   "source": [
    "df['Nombre reducido'].unique() # We see the unique values in the columns of our Bachelor Degrees"
   ]
  },
  {
   "cell_type": "code",
   "execution_count": 411,
   "id": "2f14bd42",
   "metadata": {},
   "outputs": [],
   "source": [
    "nuevos = {'Grado en Com Audiovisual ': 'Comunicación audiovisual', 'Grado en Historia Arte   ': 'Historia Arte', 'HUMANIDADES              ': 'Humanidades', 'Gr. Educación Primaria   ': 'Educación primaria', 'Grado en Periodismo      ': 'Periodismo', 'Gr. Comunicación Digital ': 'Comunicación digital', 'Grado en Humanidades     ': 'Humanidades', 'Grado en Publicidad      ': 'Publicidad', 'PERIODISMO               ': 'Periodismo', 'Grado en Historia        ': 'Historia', 'Gr. Educación Infantil   ': 'Educación infantil', 'COMUNICACIÓN AUDIOVISUAL ': 'Comunicación audiovisual', 'PUBLICIDAD Y REL.PÚBLICAS': 'Publicidad'}"
   ]
  },
  {
   "cell_type": "code",
   "execution_count": 412,
   "id": "9484eb9e",
   "metadata": {},
   "outputs": [],
   "source": [
    "df['Nombre reducido'] = df['Nombre reducido'].replace(nuevos) # We replace our values by more comprehensible values\n"
   ]
  },
  {
   "cell_type": "code",
   "execution_count": 413,
   "id": "9baf8d76",
   "metadata": {},
   "outputs": [
    {
     "data": {
      "text/plain": [
       "array(['Comunicación audiovisual', 'Publicidad', 'Historia Arte',\n",
       "       'Periodismo', 'Humanidades', 'Historia', 'Educación primaria',\n",
       "       'Educación infantil', 'Comunicación digital'], dtype=object)"
      ]
     },
     "execution_count": 413,
     "metadata": {},
     "output_type": "execute_result"
    }
   ],
   "source": [
    "df['Nombre reducido'].unique()"
   ]
  },
  {
   "cell_type": "code",
   "execution_count": 414,
   "id": "5e36f394",
   "metadata": {},
   "outputs": [],
   "source": [
    "columnas_a_eliminar = {'Cod.facultad', 'Cod.carrera', 'Cv; telefono sms', 'Tipo expediente'} \n",
    "\n",
    "# We set the columns that we want to remove in our df"
   ]
  },
  {
   "cell_type": "code",
   "execution_count": 415,
   "id": "a2a0b9df",
   "metadata": {},
   "outputs": [],
   "source": [
    "df = df.drop(columnas_a_eliminar, axis=1)\n",
    "\n",
    " # And now we get rid of those columns and visualize again our dataframe"
   ]
  },
  {
   "cell_type": "code",
   "execution_count": 416,
   "id": "0408cad4",
   "metadata": {},
   "outputs": [],
   "source": [
    "nuevos_nombres = {'Nombre reducido': 'Grado', 'Nombre propio': 'Nombre', 'Cv; email asig.': 'Email universitario', 'Cv; email libre': 'Email personal'}"
   ]
  },
  {
   "cell_type": "code",
   "execution_count": 417,
   "id": "3054dc84",
   "metadata": {},
   "outputs": [],
   "source": [
    "df = df.rename(columns=nuevos_nombres)\n",
    "\n",
    "\n",
    "\n",
    "# Now we change our columns names"
   ]
  },
  {
   "cell_type": "code",
   "execution_count": 418,
   "id": "d5b87dcb",
   "metadata": {},
   "outputs": [],
   "source": [
    "def eliminar_espacios_extra(cadena):\n",
    "    if isinstance(cadena, str):  \n",
    "        return cadena.strip()\n",
    "    else:\n",
    "        return cadena\n",
    "\n",
    "df = df.applymap(eliminar_espacios_extra)\n",
    "\n",
    "# We create a function to remove all spaces before and after each value of our dataframe\n",
    "\n"
   ]
  },
  {
   "cell_type": "code",
   "execution_count": 419,
   "id": "7fff625f",
   "metadata": {},
   "outputs": [],
   "source": [
    "def crear_nombre_completo(row):\n",
    "    return f\"{row['Nombre']} {row['Primer apellido']} {row['Segundo apellido']}\"\n",
    "\n",
    "\n",
    "df['Nombre completo'] = df.apply(crear_nombre_completo, axis=1)\n",
    "\n",
    "\n",
    "\n",
    "# We create a function that mixes each student's name, first and second name. We then apply it to our df in a new column"
   ]
  },
  {
   "cell_type": "code",
   "execution_count": 420,
   "id": "6460e1ef",
   "metadata": {},
   "outputs": [],
   "source": [
    "'''A lot of our graduates are duplicated, since they graduated from a dual degree. We are going to identify them, \n",
    "remove the second row, and in the column 'Grado' of our first row, we're going to add the dual degree'''\n",
    "\n",
    "\n",
    "import pandas as pd\n",
    "\n",
    "for index, row in df.iterrows():\n",
    "    \n",
    "    nombre_completo_actual = row['Nombre completo']\n",
    "    grado_actual = row['Grado']\n",
    "\n",
    "    duplicados = df[df['Nombre completo'] == nombre_completo_actual]\n",
    "    cantidad_duplicados = len(duplicados)\n",
    "\n",
    "    if cantidad_duplicados > 1:\n",
    "        \n",
    "        nuevos_grados = ' y '.join(duplicados['Grado'])\n",
    "        \n",
    "        df.loc[index, 'Grado'] = nuevos_grados\n",
    "        \n",
    "        df.drop(duplicados.index[1:], inplace=True)\n"
   ]
  },
  {
   "cell_type": "code",
   "execution_count": 421,
   "id": "ae0ab2e3",
   "metadata": {},
   "outputs": [],
   "source": [
    "valores_a_eliminar = ['Educación primaria', 'Educación primaria y Educación infantil', 'Educación infantil']\n",
    "\n",
    "df = df[~df['Grado'].isin(valores_a_eliminar)].reset_index().drop('index', axis=1)\n",
    "\n",
    "\n",
    "\n",
    "# Finally, we get rid of the students from the degrees of Primary Education and Early Childhood Education "
   ]
  },
  {
   "cell_type": "markdown",
   "id": "724c75e1",
   "metadata": {},
   "source": [
    "## Second dataframe (2016-2017)"
   ]
  },
  {
   "cell_type": "code",
   "execution_count": 423,
   "id": "26275453",
   "metadata": {},
   "outputs": [],
   "source": [
    "df2 = pd.read_csv('/Users/davidfernandez/Desktop/Egresados CSV/2016-2017.csv')\n"
   ]
  },
  {
   "cell_type": "code",
   "execution_count": 424,
   "id": "eed0d046",
   "metadata": {},
   "outputs": [
    {
     "data": {
      "text/plain": [
       "array(['Grado en Publicidad      ', 'Grado en Historia Arte   ',\n",
       "       'Grado en Periodismo      ', 'Grado en Humanidades     ',\n",
       "       'Gr. Comunicación Digital ', 'Gr. Educación Infantil   ',\n",
       "       'Grado en Com Audiovisual ', 'Gr. Educación Primaria   ',\n",
       "       'Grado en Historia        '], dtype=object)"
      ]
     },
     "execution_count": 424,
     "metadata": {},
     "output_type": "execute_result"
    }
   ],
   "source": [
    "df2['Nombre reducido'].unique()"
   ]
  },
  {
   "cell_type": "code",
   "execution_count": 425,
   "id": "2a04f32e",
   "metadata": {},
   "outputs": [],
   "source": [
    "nuevos2 = {'Grado en Com Audiovisual ': 'Comunicación audiovisual', 'Grado en Historia Arte   ': 'Historia Arte', 'Gr. Educación Primaria   ': 'Educación primaria', 'Grado en Periodismo      ': 'Periodismo', 'Grado en Humanidades     ': 'Humanidades', 'Grado en Publicidad      ': 'Publicidad', 'Grado en Periodismo      ': 'Periodismo', 'Grado en Historia        ': 'Historia', 'Gr. Educación Infantil   ': 'Educación infantil'}"
   ]
  },
  {
   "cell_type": "code",
   "execution_count": 426,
   "id": "3c147b5f",
   "metadata": {},
   "outputs": [],
   "source": [
    "df2['Nombre reducido'] = df2['Nombre reducido'].replace(nuevos2) # We replace our values by more comprehensible values\n"
   ]
  },
  {
   "cell_type": "code",
   "execution_count": 429,
   "id": "2241c659",
   "metadata": {},
   "outputs": [],
   "source": [
    "columnas_a_eliminar2 = {'Cod.facultad', 'Cod.carrera', 'Cv; telefono sms', 'Tipo expediente'} \n"
   ]
  },
  {
   "cell_type": "code",
   "execution_count": 430,
   "id": "105c52eb",
   "metadata": {},
   "outputs": [],
   "source": [
    "df2 = df2.drop(columnas_a_eliminar2, axis=1)\n"
   ]
  },
  {
   "cell_type": "code",
   "execution_count": 431,
   "id": "0706e494",
   "metadata": {},
   "outputs": [],
   "source": [
    "nuevos_nombres2 = {'Nombre reducido': 'Grado', 'Nombre propio': 'Nombre', 'Cv; email asig.': 'Email universitario', 'Cv; email libre': 'Email personal'}"
   ]
  },
  {
   "cell_type": "code",
   "execution_count": 432,
   "id": "5bcd9a9d",
   "metadata": {},
   "outputs": [],
   "source": [
    "df2 = df2.rename(columns=nuevos_nombres2)\n"
   ]
  },
  {
   "cell_type": "code",
   "execution_count": 433,
   "id": "eed3ee96",
   "metadata": {},
   "outputs": [],
   "source": [
    "df2 = df2.applymap(eliminar_espacios_extra)\n",
    "\n",
    "# We create a function to remove all spaces before and after each value of our dataframe"
   ]
  },
  {
   "cell_type": "code",
   "execution_count": 434,
   "id": "c57237c8",
   "metadata": {},
   "outputs": [],
   "source": [
    "df2['Nombre completo'] = df2.apply(crear_nombre_completo, axis=1)\n"
   ]
  },
  {
   "cell_type": "code",
   "execution_count": 435,
   "id": "2fe42b3b",
   "metadata": {},
   "outputs": [],
   "source": [
    "for index, row in df2.iterrows():\n",
    "    \n",
    "    nombre_completo_actual = row['Nombre completo']\n",
    "    grado_actual = row['Grado']\n",
    "\n",
    "    duplicados = df2[df2['Nombre completo'] == nombre_completo_actual]\n",
    "    cantidad_duplicados = len(duplicados)\n",
    "\n",
    "    if cantidad_duplicados > 1:\n",
    "        \n",
    "        nuevos_grados = ' y '.join(duplicados['Grado'])\n",
    "        \n",
    "        df2.loc[index, 'Grado'] = nuevos_grados\n",
    "        \n",
    "        df2.drop(duplicados.index[1:], inplace=True)"
   ]
  },
  {
   "cell_type": "code",
   "execution_count": 436,
   "id": "7309f226",
   "metadata": {},
   "outputs": [],
   "source": [
    "df2 = df2[~df2['Grado'].isin(valores_a_eliminar)].reset_index().drop('index', axis=1)\n"
   ]
  },
  {
   "cell_type": "markdown",
   "id": "339804e4",
   "metadata": {},
   "source": [
    "## Third dataframe (2017-2018)"
   ]
  },
  {
   "cell_type": "code",
   "execution_count": 437,
   "id": "47002483",
   "metadata": {},
   "outputs": [],
   "source": [
    "df3 = pd.read_csv('/Users/davidfernandez/Desktop/Egresados CSV/2017-2018.csv')\n"
   ]
  },
  {
   "cell_type": "code",
   "execution_count": 438,
   "id": "c44a40dc",
   "metadata": {},
   "outputs": [],
   "source": [
    "nuevos3 = {'Grado en Com Audiovisual ': 'Comunicación audiovisual', 'Grado en Historia Arte   ': 'Historia Arte', 'Gr. Educación Primaria   ': 'Educación primaria', 'Grado en Periodismo      ': 'Periodismo', 'Grado en Humanidades     ': 'Humanidades', 'Grado en Publicidad      ': 'Publicidad', 'Grado en Periodismo      ': 'Periodismo', 'Grado en Historia        ': 'Historia', 'Gr. Educación Infantil   ': 'Educación infantil'}"
   ]
  },
  {
   "cell_type": "code",
   "execution_count": 439,
   "id": "13f8b5c4",
   "metadata": {},
   "outputs": [],
   "source": [
    "df3['Nombre reducido'] = df3['Nombre reducido'].replace(nuevos2) # We replace our values by more comprehensible values\n"
   ]
  },
  {
   "cell_type": "code",
   "execution_count": 440,
   "id": "8d2d3e26",
   "metadata": {},
   "outputs": [],
   "source": [
    "df3 = df3.rename(columns=nuevos_nombres3)\n"
   ]
  },
  {
   "cell_type": "code",
   "execution_count": 441,
   "id": "5c7972c2",
   "metadata": {},
   "outputs": [],
   "source": [
    "df3 = df3.applymap(eliminar_espacios_extra)\n"
   ]
  },
  {
   "cell_type": "code",
   "execution_count": 442,
   "id": "9ac98c5d",
   "metadata": {},
   "outputs": [],
   "source": [
    "def transform_name(row):\n",
    "    if ',' in row['Nombre del alumno']:\n",
    "        parts = row['Nombre del alumno'].split(', ')\n",
    "        formatted_name = ' '.join([part.title() for part in parts[::-1]])\n",
    "        return formatted_name\n",
    "    else:\n",
    "        return row['Nombre del alumno']\n",
    "\n",
    "df3['Nombre completo'] = df3.apply(transform_name, axis=1)\n"
   ]
  },
  {
   "cell_type": "code",
   "execution_count": 443,
   "id": "2135e101",
   "metadata": {},
   "outputs": [],
   "source": [
    "for index, row in df3.iterrows():\n",
    "    \n",
    "    nombre_completo_actual = row['Nombre completo']\n",
    "    grado_actual = row['Grado']\n",
    "\n",
    "    duplicados = df3[df3['Nombre completo'] == nombre_completo_actual]\n",
    "    cantidad_duplicados = len(duplicados)\n",
    "\n",
    "    if cantidad_duplicados > 1:\n",
    "        \n",
    "        nuevos_grados = ' y '.join(duplicados['Grado'])\n",
    "        \n",
    "        df3.loc[index, 'Grado'] = nuevos_grados\n",
    "        \n",
    "        df3.drop(duplicados.index[1:], inplace=True)"
   ]
  },
  {
   "cell_type": "code",
   "execution_count": 444,
   "id": "ab52e40f",
   "metadata": {},
   "outputs": [],
   "source": [
    "df3 = df3[~df3['Grado'].isin(valores_a_eliminar)].reset_index().drop('index', axis=1)\n"
   ]
  },
  {
   "cell_type": "code",
   "execution_count": 445,
   "id": "fecbd85f",
   "metadata": {},
   "outputs": [],
   "source": [
    "columnas_a_eliminar3 = {'Cv; telefono sms', 'Calificacion exp', 'Cv; telefono sms', 'Nombre del alumno'} \n",
    "\n",
    "df3 = df3.drop(columnas_a_eliminar3, axis=1)"
   ]
  },
  {
   "cell_type": "markdown",
   "id": "569e557e",
   "metadata": {},
   "source": [
    "## Fourth dataframe (2018-2019)"
   ]
  },
  {
   "cell_type": "code",
   "execution_count": null,
   "id": "f75a1665",
   "metadata": {},
   "outputs": [],
   "source": [
    "df4 = pd.read_csv('/Users/davidfernandez/Desktop/Egresados CSV/2018-2019.csv')\n",
    "\n",
    "\n",
    "# DA ERROR, LO DEJAMOS PARA MÁS ADELANTE"
   ]
  },
  {
   "cell_type": "markdown",
   "id": "52c178f8",
   "metadata": {},
   "source": [
    "## Fifth dataframe (2019-2020)"
   ]
  },
  {
   "cell_type": "code",
   "execution_count": 446,
   "id": "b911dbe5",
   "metadata": {},
   "outputs": [],
   "source": [
    "df5 = pd.read_csv('/Users/davidfernandez/Desktop/Egresados CSV/2019-2020.csv')\n"
   ]
  },
  {
   "cell_type": "code",
   "execution_count": null,
   "id": "932bded2",
   "metadata": {},
   "outputs": [],
   "source": []
  },
  {
   "cell_type": "code",
   "execution_count": null,
   "id": "52e43599",
   "metadata": {},
   "outputs": [],
   "source": []
  },
  {
   "cell_type": "markdown",
   "id": "d683e2ef",
   "metadata": {},
   "source": [
    "## Web scraping"
   ]
  },
  {
   "cell_type": "code",
   "execution_count": 448,
   "id": "ea625466",
   "metadata": {},
   "outputs": [
    {
     "name": "stdout",
     "output_type": "stream",
     "text": [
      "Requirement already satisfied: selenium in /Users/davidfernandez/anaconda3/lib/python3.11/site-packages (4.13.0)\n",
      "Requirement already satisfied: urllib3[socks]<3,>=1.26 in /Users/davidfernandez/anaconda3/lib/python3.11/site-packages (from selenium) (1.26.16)\n",
      "Requirement already satisfied: trio~=0.17 in /Users/davidfernandez/anaconda3/lib/python3.11/site-packages (from selenium) (0.22.2)\n",
      "Requirement already satisfied: trio-websocket~=0.9 in /Users/davidfernandez/anaconda3/lib/python3.11/site-packages (from selenium) (0.11.1)\n",
      "Requirement already satisfied: certifi>=2021.10.8 in /Users/davidfernandez/anaconda3/lib/python3.11/site-packages (from selenium) (2023.5.7)\n",
      "Requirement already satisfied: attrs>=20.1.0 in /Users/davidfernandez/anaconda3/lib/python3.11/site-packages (from trio~=0.17->selenium) (22.1.0)\n",
      "Requirement already satisfied: sortedcontainers in /Users/davidfernandez/anaconda3/lib/python3.11/site-packages (from trio~=0.17->selenium) (2.4.0)\n",
      "Requirement already satisfied: idna in /Users/davidfernandez/anaconda3/lib/python3.11/site-packages (from trio~=0.17->selenium) (3.4)\n",
      "Requirement already satisfied: outcome in /Users/davidfernandez/anaconda3/lib/python3.11/site-packages (from trio~=0.17->selenium) (1.2.0)\n",
      "Requirement already satisfied: sniffio in /Users/davidfernandez/anaconda3/lib/python3.11/site-packages (from trio~=0.17->selenium) (1.2.0)\n",
      "Requirement already satisfied: wsproto>=0.14 in /Users/davidfernandez/anaconda3/lib/python3.11/site-packages (from trio-websocket~=0.9->selenium) (1.2.0)\n",
      "Requirement already satisfied: PySocks!=1.5.7,<2.0,>=1.5.6 in /Users/davidfernandez/anaconda3/lib/python3.11/site-packages (from urllib3[socks]<3,>=1.26->selenium) (1.7.1)\n",
      "Requirement already satisfied: h11<1,>=0.9.0 in /Users/davidfernandez/anaconda3/lib/python3.11/site-packages (from wsproto>=0.14->trio-websocket~=0.9->selenium) (0.14.0)\n",
      "Requirement already satisfied: webdriver-manager in /Users/davidfernandez/anaconda3/lib/python3.11/site-packages (4.0.1)\n",
      "Requirement already satisfied: requests in /Users/davidfernandez/anaconda3/lib/python3.11/site-packages (from webdriver-manager) (2.29.0)\n",
      "Requirement already satisfied: python-dotenv in /Users/davidfernandez/anaconda3/lib/python3.11/site-packages (from webdriver-manager) (1.0.0)\n",
      "Requirement already satisfied: packaging in /Users/davidfernandez/anaconda3/lib/python3.11/site-packages (from webdriver-manager) (23.0)\n",
      "Requirement already satisfied: charset-normalizer<4,>=2 in /Users/davidfernandez/anaconda3/lib/python3.11/site-packages (from requests->webdriver-manager) (2.0.4)\n",
      "Requirement already satisfied: idna<4,>=2.5 in /Users/davidfernandez/anaconda3/lib/python3.11/site-packages (from requests->webdriver-manager) (3.4)\n",
      "Requirement already satisfied: urllib3<1.27,>=1.21.1 in /Users/davidfernandez/anaconda3/lib/python3.11/site-packages (from requests->webdriver-manager) (1.26.16)\n",
      "Requirement already satisfied: certifi>=2017.4.17 in /Users/davidfernandez/anaconda3/lib/python3.11/site-packages (from requests->webdriver-manager) (2023.5.7)\n"
     ]
    }
   ],
   "source": [
    "!pip install selenium\n",
    "!pip install webdriver-manager\n",
    "\n",
    "import pandas as pd\n",
    "import numpy as np \n",
    "\n",
    "\n",
    "from selenium import webdriver\n",
    "from webdriver_manager.chrome import ChromeDriverManager \n",
    "from selenium.webdriver.common.keys import Keys \n",
    "from selenium.webdriver.chrome.options import Options\n",
    "from time import sleep \n",
    "\n",
    "\n",
    "import warnings \n",
    "warnings.filterwarnings('ignore')"
   ]
  },
  {
   "cell_type": "code",
   "execution_count": 449,
   "id": "aea15d89",
   "metadata": {},
   "outputs": [],
   "source": [
    "opciones= Options()\n",
    "opciones.add_experimental_option('excludeSwitches', ['enable-automation'])\n",
    "opciones.add_experimental_option('useAutomationExtension', False)\n",
    "opciones.add_argument('--start-maximized') \n",
    "opciones.add_argument('user.data-dir=selenium') \n",
    "opciones.add_argument('--incognito')"
   ]
  },
  {
   "cell_type": "markdown",
   "id": "8605686b",
   "metadata": {},
   "source": [
    "### First URL scraping: 2015-2016"
   ]
  },
  {
   "cell_type": "code",
   "execution_count": 486,
   "id": "c83f4e32",
   "metadata": {},
   "outputs": [],
   "source": [
    "from selenium.common.exceptions import NoSuchElementException, TimeoutException\n",
    "from selenium.webdriver.support.ui import WebDriverWait\n",
    "from selenium.webdriver.common.by import By\n",
    "from selenium.webdriver.support import expected_conditions as EC\n",
    "\n",
    "driver = webdriver.Firefox()\n",
    "driver.get(\"https://www.linkedin.com\")\n",
    "driver.implicitly_wait(3)\n",
    "\n",
    "driver.find_element(\"css selector\", '#session_key').send_keys('joseeee.perezzzz94@gmail.com')\n",
    "driver.find_element(\"css selector\", '#session_password').send_keys('Futurama96')\n",
    "driver.find_element(\"css selector\", 'button.btn-md:nth-child(3)').click()\n",
    "\n",
    "sleep(2)\n",
    "\n",
    "perfiles_linkedin = []\n",
    "\n",
    "for nombre_completo in df['Nombre completo']:\n",
    "    try:\n",
    "        driver.get(\"https://www.linkedin.com/school/universidad-san-pablo-ceu/people/\")    \n",
    "        driver.find_element('css selector', \"#people-search-keywords\").send_keys(nombre_completo, Keys.RETURN)\n",
    "\n",
    "        sleep(2)\n",
    "\n",
    "        link_elements = driver.find_elements(By.CSS_SELECTOR, 'a.app-aware-link ')[8]\n",
    "        \n",
    "        texto = link_elements.get_attribute('href')\n",
    "\n",
    "        if texto == 'https://www.linkedin.com/company/ceu-educational-group/':\n",
    "            \n",
    "            perfiles_linkedin.append('Link no existente')\n",
    "            \n",
    "        else:\n",
    "            \n",
    "            perfiles_linkedin.append(texto)\n",
    "            \n",
    "    except NoSuchElementException:\n",
    "        \n",
    "        perfiles_linkedin.append('Link no existente')\n",
    "        \n",
    "    except TimeoutException:\n",
    "        \n",
    "        perfiles_linkedin.append('Link no existente')\n",
    "\n",
    "df['Link perfil'] = perfiles_linkedin\n",
    "\n",
    "driver.quit()\n"
   ]
  },
  {
   "cell_type": "markdown",
   "id": "5f5552fb",
   "metadata": {},
   "source": [
    "### Second URL scraping (2016-2017)"
   ]
  },
  {
   "cell_type": "code",
   "execution_count": 501,
   "id": "758fb619",
   "metadata": {},
   "outputs": [],
   "source": [
    "driver = webdriver.Firefox()\n",
    "driver.get(\"https://www.linkedin.com\")\n",
    "driver.implicitly_wait(3)\n",
    "\n",
    "driver.find_element(\"css selector\", '#session_key').send_keys('joseeee.perezzzz94@gmail.com')\n",
    "driver.find_element(\"css selector\", '#session_password').send_keys('Futurama96')\n",
    "driver.find_element(\"css selector\", 'button.btn-md:nth-child(3)').click()\n",
    "\n",
    "sleep(2)\n",
    "\n",
    "perfiles_linkedin = []\n",
    "\n",
    "for nombre_completo in df2['Nombre completo']:\n",
    "    try:\n",
    "        driver.get(\"https://www.linkedin.com/school/universidad-san-pablo-ceu/people/\")    \n",
    "        driver.find_element('css selector', \"#people-search-keywords\").send_keys(nombre_completo, Keys.RETURN)\n",
    "\n",
    "        sleep(2)\n",
    "\n",
    "        link_elements = driver.find_elements(By.CSS_SELECTOR, 'a.app-aware-link ')[8]\n",
    "        \n",
    "        texto = link_elements.get_attribute('href')\n",
    "\n",
    "        if texto == 'https://www.linkedin.com/company/ceu-educational-group/':\n",
    "            \n",
    "            perfiles_linkedin.append('Link no existente')\n",
    "            \n",
    "        else:\n",
    "            \n",
    "            perfiles_linkedin.append(texto)\n",
    "            \n",
    "    except NoSuchElementException:\n",
    "        \n",
    "        perfiles_linkedin.append('Link no existente')\n",
    "        \n",
    "    except TimeoutException:\n",
    "        \n",
    "        perfiles_linkedin.append('Link no existente')\n",
    "\n",
    "df2['Link perfil'] = perfiles_linkedin\n",
    "\n",
    "driver.quit()\n"
   ]
  },
  {
   "cell_type": "markdown",
   "id": "d4afdcc6",
   "metadata": {},
   "source": [
    "### Third URL scraping (2017-2018)"
   ]
  },
  {
   "cell_type": "code",
   "execution_count": 508,
   "id": "061cf317",
   "metadata": {},
   "outputs": [],
   "source": [
    "driver = webdriver.Firefox()\n",
    "driver.get(\"https://www.linkedin.com\")\n",
    "driver.implicitly_wait(3)\n",
    "\n",
    "driver.find_element(\"css selector\", '#session_key').send_keys('joseeee.perezzzz94@gmail.com')\n",
    "driver.find_element(\"css selector\", '#session_password').send_keys('Futurama96')\n",
    "driver.find_element(\"css selector\", 'button.btn-md:nth-child(3)').click()\n",
    "\n",
    "sleep(2)\n",
    "\n",
    "perfiles_linkedin = []\n",
    "\n",
    "for nombre_completo in df3['Nombre completo']:\n",
    "    try:\n",
    "        driver.get(\"https://www.linkedin.com/school/universidad-san-pablo-ceu/people/\")    \n",
    "        driver.find_element('css selector', \"#people-search-keywords\").send_keys(nombre_completo, Keys.RETURN)\n",
    "\n",
    "        sleep(2)\n",
    "\n",
    "        link_elements = driver.find_elements(By.CSS_SELECTOR, 'a.app-aware-link ')[8]\n",
    "        \n",
    "        texto = link_elements.get_attribute('href')\n",
    "\n",
    "        if texto == 'https://www.linkedin.com/company/ceu-educational-group/':\n",
    "            \n",
    "            perfiles_linkedin.append('Link no existente')\n",
    "            \n",
    "        else:\n",
    "            \n",
    "            perfiles_linkedin.append(texto)\n",
    "            \n",
    "    except NoSuchElementException:\n",
    "        \n",
    "        perfiles_linkedin.append('Link no existente')\n",
    "        \n",
    "    except TimeoutException:\n",
    "        \n",
    "        perfiles_linkedin.append('Link no existente')\n",
    "\n",
    "df3['Link perfil'] = perfiles_linkedin\n",
    "\n",
    "driver.quit()\n"
   ]
  },
  {
   "cell_type": "markdown",
   "id": "678d03d9",
   "metadata": {},
   "source": [
    "### Fourth URL scraping (2018-2019)"
   ]
  },
  {
   "cell_type": "code",
   "execution_count": null,
   "id": "4488b9a8",
   "metadata": {},
   "outputs": [],
   "source": []
  },
  {
   "cell_type": "code",
   "execution_count": null,
   "id": "074b5461",
   "metadata": {},
   "outputs": [],
   "source": []
  },
  {
   "cell_type": "markdown",
   "id": "5824b8c3",
   "metadata": {},
   "source": [
    "## Scrap data from URL"
   ]
  },
  {
   "cell_type": "code",
   "execution_count": 516,
   "id": "1ec7f32c",
   "metadata": {},
   "outputs": [
    {
     "data": {
      "text/html": [
       "<div>\n",
       "<style scoped>\n",
       "    .dataframe tbody tr th:only-of-type {\n",
       "        vertical-align: middle;\n",
       "    }\n",
       "\n",
       "    .dataframe tbody tr th {\n",
       "        vertical-align: top;\n",
       "    }\n",
       "\n",
       "    .dataframe thead th {\n",
       "        text-align: right;\n",
       "    }\n",
       "</style>\n",
       "<table border=\"1\" class=\"dataframe\">\n",
       "  <thead>\n",
       "    <tr style=\"text-align: right;\">\n",
       "      <th></th>\n",
       "      <th>Grado</th>\n",
       "      <th>Email universitario</th>\n",
       "      <th>Email personal</th>\n",
       "      <th>Nombre completo</th>\n",
       "      <th>Link perfil</th>\n",
       "    </tr>\n",
       "  </thead>\n",
       "  <tbody>\n",
       "    <tr>\n",
       "      <th>0</th>\n",
       "      <td>Periodismo</td>\n",
       "      <td>l.abajo@usp.ceu.es</td>\n",
       "      <td>luciaabajo@hotmail.com</td>\n",
       "      <td>Lucia Abajo Lopez</td>\n",
       "      <td>https://www.linkedin.com/in/luc%C3%ADa-abajo-l...</td>\n",
       "    </tr>\n",
       "    <tr>\n",
       "      <th>1</th>\n",
       "      <td>Periodismo</td>\n",
       "      <td>c.acitores@usp.ceu.es</td>\n",
       "      <td>celiacitores@hotmail.com</td>\n",
       "      <td>Celia Acitores Garcia Mon</td>\n",
       "      <td>https://www.linkedin.com/in/celiaacitoresmon?m...</td>\n",
       "    </tr>\n",
       "    <tr>\n",
       "      <th>2</th>\n",
       "      <td>Publicidad</td>\n",
       "      <td>a.aguado5@usp.ceu.es</td>\n",
       "      <td>apu16_16@hotmail.com</td>\n",
       "      <td>Arturo Aguado Nevado</td>\n",
       "      <td>https://www.linkedin.com/in/arturo-aguado-neva...</td>\n",
       "    </tr>\n",
       "    <tr>\n",
       "      <th>3</th>\n",
       "      <td>Publicidad</td>\n",
       "      <td>n.aguado4@usp.ceu.es</td>\n",
       "      <td>natalia_aguado@hotmail.com</td>\n",
       "      <td>Natalia Aguado Nevado</td>\n",
       "      <td>https://www.linkedin.com/in/natalia-aguado-nev...</td>\n",
       "    </tr>\n",
       "    <tr>\n",
       "      <th>4</th>\n",
       "      <td>Comunicación audiovisual</td>\n",
       "      <td>br.agudo@usp.ceu.es</td>\n",
       "      <td>blanca.agudo@outlook.es</td>\n",
       "      <td>Blanca De Los Reye Agudo Hernandez</td>\n",
       "      <td>https://www.linkedin.com/in/blancagomezgonzale...</td>\n",
       "    </tr>\n",
       "    <tr>\n",
       "      <th>...</th>\n",
       "      <td>...</td>\n",
       "      <td>...</td>\n",
       "      <td>...</td>\n",
       "      <td>...</td>\n",
       "      <td>...</td>\n",
       "    </tr>\n",
       "    <tr>\n",
       "      <th>266</th>\n",
       "      <td>Comunicación audiovisual y Publicidad</td>\n",
       "      <td>n.zapata@usp.ceu.es</td>\n",
       "      <td>nataliazapata95@hotmail.com</td>\n",
       "      <td>Natalia Zapata Fernandez</td>\n",
       "      <td>https://www.linkedin.com/in/natalia-castejon-f...</td>\n",
       "    </tr>\n",
       "    <tr>\n",
       "      <th>267</th>\n",
       "      <td>Publicidad</td>\n",
       "      <td>j.zapatero2@usp.ceu.es</td>\n",
       "      <td>titozapatero@hotmail.com</td>\n",
       "      <td>Julio Zapatero De Gorgolas</td>\n",
       "      <td>https://www.linkedin.com/in/julio-zapatero-de-...</td>\n",
       "    </tr>\n",
       "    <tr>\n",
       "      <th>268</th>\n",
       "      <td>Periodismo y Comunicación audiovisual</td>\n",
       "      <td>p.zapatero@usp.ceu.es</td>\n",
       "      <td>patiforever@hotmail.com</td>\n",
       "      <td>Patricia Zapatero De Gorgolas</td>\n",
       "      <td>https://www.linkedin.com/in/patricia-de-andres...</td>\n",
       "    </tr>\n",
       "    <tr>\n",
       "      <th>269</th>\n",
       "      <td>Publicidad</td>\n",
       "      <td>a.zubizarreta@usp.ceu.es</td>\n",
       "      <td>barrosojulia85@gmail.com</td>\n",
       "      <td>Ane Zubizarreta Barroso</td>\n",
       "      <td>https://www.linkedin.com/in/anezubizarretabarr...</td>\n",
       "    </tr>\n",
       "    <tr>\n",
       "      <th>270</th>\n",
       "      <td>Publicidad</td>\n",
       "      <td>b.zurita@usp.ceu.es</td>\n",
       "      <td>blanca.zm@hotmail.com</td>\n",
       "      <td>Blanca Zurita Muñoz</td>\n",
       "      <td>https://www.linkedin.com/in/blanca-zurita-mu%C...</td>\n",
       "    </tr>\n",
       "  </tbody>\n",
       "</table>\n",
       "<p>271 rows × 5 columns</p>\n",
       "</div>"
      ],
      "text/plain": [
       "                                     Grado       Email universitario  \\\n",
       "0                               Periodismo        l.abajo@usp.ceu.es   \n",
       "1                               Periodismo     c.acitores@usp.ceu.es   \n",
       "2                               Publicidad      a.aguado5@usp.ceu.es   \n",
       "3                               Publicidad      n.aguado4@usp.ceu.es   \n",
       "4                 Comunicación audiovisual       br.agudo@usp.ceu.es   \n",
       "..                                     ...                       ...   \n",
       "266  Comunicación audiovisual y Publicidad       n.zapata@usp.ceu.es   \n",
       "267                             Publicidad    j.zapatero2@usp.ceu.es   \n",
       "268  Periodismo y Comunicación audiovisual     p.zapatero@usp.ceu.es   \n",
       "269                             Publicidad  a.zubizarreta@usp.ceu.es   \n",
       "270                             Publicidad       b.zurita@usp.ceu.es   \n",
       "\n",
       "                  Email personal                     Nombre completo  \\\n",
       "0         luciaabajo@hotmail.com                   Lucia Abajo Lopez   \n",
       "1       celiacitores@hotmail.com           Celia Acitores Garcia Mon   \n",
       "2           apu16_16@hotmail.com                Arturo Aguado Nevado   \n",
       "3     natalia_aguado@hotmail.com               Natalia Aguado Nevado   \n",
       "4        blanca.agudo@outlook.es  Blanca De Los Reye Agudo Hernandez   \n",
       "..                           ...                                 ...   \n",
       "266  nataliazapata95@hotmail.com            Natalia Zapata Fernandez   \n",
       "267     titozapatero@hotmail.com          Julio Zapatero De Gorgolas   \n",
       "268      patiforever@hotmail.com       Patricia Zapatero De Gorgolas   \n",
       "269     barrosojulia85@gmail.com             Ane Zubizarreta Barroso   \n",
       "270        blanca.zm@hotmail.com                 Blanca Zurita Muñoz   \n",
       "\n",
       "                                           Link perfil  \n",
       "0    https://www.linkedin.com/in/luc%C3%ADa-abajo-l...  \n",
       "1    https://www.linkedin.com/in/celiaacitoresmon?m...  \n",
       "2    https://www.linkedin.com/in/arturo-aguado-neva...  \n",
       "3    https://www.linkedin.com/in/natalia-aguado-nev...  \n",
       "4    https://www.linkedin.com/in/blancagomezgonzale...  \n",
       "..                                                 ...  \n",
       "266  https://www.linkedin.com/in/natalia-castejon-f...  \n",
       "267  https://www.linkedin.com/in/julio-zapatero-de-...  \n",
       "268  https://www.linkedin.com/in/patricia-de-andres...  \n",
       "269  https://www.linkedin.com/in/anezubizarretabarr...  \n",
       "270  https://www.linkedin.com/in/blanca-zurita-mu%C...  \n",
       "\n",
       "[271 rows x 5 columns]"
      ]
     },
     "execution_count": 516,
     "metadata": {},
     "output_type": "execute_result"
    }
   ],
   "source": [
    "df3"
   ]
  },
  {
   "cell_type": "code",
   "execution_count": 518,
   "id": "a5151eb8",
   "metadata": {},
   "outputs": [
    {
     "data": {
      "text/html": [
       "<div>\n",
       "<style scoped>\n",
       "    .dataframe tbody tr th:only-of-type {\n",
       "        vertical-align: middle;\n",
       "    }\n",
       "\n",
       "    .dataframe tbody tr th {\n",
       "        vertical-align: top;\n",
       "    }\n",
       "\n",
       "    .dataframe thead th {\n",
       "        text-align: right;\n",
       "    }\n",
       "</style>\n",
       "<table border=\"1\" class=\"dataframe\">\n",
       "  <thead>\n",
       "    <tr style=\"text-align: right;\">\n",
       "      <th></th>\n",
       "      <th>Grado</th>\n",
       "      <th>Email universitario</th>\n",
       "      <th>Email personal</th>\n",
       "      <th>Nombre completo</th>\n",
       "      <th>Link perfil</th>\n",
       "    </tr>\n",
       "  </thead>\n",
       "  <tbody>\n",
       "    <tr>\n",
       "      <th>0</th>\n",
       "      <td>Periodismo</td>\n",
       "      <td>l.abajo@usp.ceu.es</td>\n",
       "      <td>luciaabajo@hotmail.com</td>\n",
       "      <td>Lucia Abajo Lopez</td>\n",
       "      <td>https://www.linkedin.com/in/luc%C3%ADa-abajo-l...</td>\n",
       "    </tr>\n",
       "    <tr>\n",
       "      <th>1</th>\n",
       "      <td>Periodismo</td>\n",
       "      <td>c.acitores@usp.ceu.es</td>\n",
       "      <td>celiacitores@hotmail.com</td>\n",
       "      <td>Celia Acitores Garcia Mon</td>\n",
       "      <td>https://www.linkedin.com/in/celiaacitoresmon?m...</td>\n",
       "    </tr>\n",
       "    <tr>\n",
       "      <th>2</th>\n",
       "      <td>Publicidad</td>\n",
       "      <td>a.aguado5@usp.ceu.es</td>\n",
       "      <td>apu16_16@hotmail.com</td>\n",
       "      <td>Arturo Aguado Nevado</td>\n",
       "      <td>https://www.linkedin.com/in/arturo-aguado-neva...</td>\n",
       "    </tr>\n",
       "    <tr>\n",
       "      <th>3</th>\n",
       "      <td>Publicidad</td>\n",
       "      <td>n.aguado4@usp.ceu.es</td>\n",
       "      <td>natalia_aguado@hotmail.com</td>\n",
       "      <td>Natalia Aguado Nevado</td>\n",
       "      <td>https://www.linkedin.com/in/natalia-aguado-nev...</td>\n",
       "    </tr>\n",
       "    <tr>\n",
       "      <th>4</th>\n",
       "      <td>Comunicación audiovisual</td>\n",
       "      <td>br.agudo@usp.ceu.es</td>\n",
       "      <td>blanca.agudo@outlook.es</td>\n",
       "      <td>Blanca De Los Reye Agudo Hernandez</td>\n",
       "      <td>https://www.linkedin.com/in/blancagomezgonzale...</td>\n",
       "    </tr>\n",
       "    <tr>\n",
       "      <th>5</th>\n",
       "      <td>Gr. Comunicación Digital</td>\n",
       "      <td>c.aguilera3@usp.ceu.es</td>\n",
       "      <td>carmen_aguilera1@hotmail.com</td>\n",
       "      <td>Carmen Aguilera Ibañez</td>\n",
       "      <td>https://www.linkedin.com/in/carmen-aguilera-ib...</td>\n",
       "    </tr>\n",
       "    <tr>\n",
       "      <th>6</th>\n",
       "      <td>Periodismo</td>\n",
       "      <td>c.aguirre9@usp.ceu.es</td>\n",
       "      <td>c.aguirredecarcer@gmail.com</td>\n",
       "      <td>Carla Aguirre De Carcer Brias</td>\n",
       "      <td>https://www.linkedin.com/in/carla-aguirre-de-c...</td>\n",
       "    </tr>\n",
       "    <tr>\n",
       "      <th>7</th>\n",
       "      <td>Publicidad</td>\n",
       "      <td>i.albo@usp.ceu.es</td>\n",
       "      <td></td>\n",
       "      <td>Ignacio Albo Perez Serrano</td>\n",
       "      <td>https://www.linkedin.com/in/ignacio-alonso-p%C...</td>\n",
       "    </tr>\n",
       "    <tr>\n",
       "      <th>8</th>\n",
       "      <td>Periodismo</td>\n",
       "      <td>pc.alejo@usp.ceu.es</td>\n",
       "      <td>paulaalejo1995@gmail.com</td>\n",
       "      <td>Paula Carmen Alejo Rodriguez</td>\n",
       "      <td>https://www.linkedin.com/in/carmen-rodriguez-r...</td>\n",
       "    </tr>\n",
       "    <tr>\n",
       "      <th>9</th>\n",
       "      <td>Periodismo</td>\n",
       "      <td>jm.almeida@usp.ceu.es</td>\n",
       "      <td>rutegomes64@yahoo.com</td>\n",
       "      <td>Joana Margarida De Almeida Gomes</td>\n",
       "      <td>https://www.linkedin.com/in/margarida-cepeda-a...</td>\n",
       "    </tr>\n",
       "  </tbody>\n",
       "</table>\n",
       "</div>"
      ],
      "text/plain": [
       "                      Grado     Email universitario  \\\n",
       "0                Periodismo      l.abajo@usp.ceu.es   \n",
       "1                Periodismo   c.acitores@usp.ceu.es   \n",
       "2                Publicidad    a.aguado5@usp.ceu.es   \n",
       "3                Publicidad    n.aguado4@usp.ceu.es   \n",
       "4  Comunicación audiovisual     br.agudo@usp.ceu.es   \n",
       "5  Gr. Comunicación Digital  c.aguilera3@usp.ceu.es   \n",
       "6                Periodismo   c.aguirre9@usp.ceu.es   \n",
       "7                Publicidad       i.albo@usp.ceu.es   \n",
       "8                Periodismo     pc.alejo@usp.ceu.es   \n",
       "9                Periodismo   jm.almeida@usp.ceu.es   \n",
       "\n",
       "                 Email personal                     Nombre completo  \\\n",
       "0        luciaabajo@hotmail.com                   Lucia Abajo Lopez   \n",
       "1      celiacitores@hotmail.com           Celia Acitores Garcia Mon   \n",
       "2          apu16_16@hotmail.com                Arturo Aguado Nevado   \n",
       "3    natalia_aguado@hotmail.com               Natalia Aguado Nevado   \n",
       "4       blanca.agudo@outlook.es  Blanca De Los Reye Agudo Hernandez   \n",
       "5  carmen_aguilera1@hotmail.com              Carmen Aguilera Ibañez   \n",
       "6   c.aguirredecarcer@gmail.com       Carla Aguirre De Carcer Brias   \n",
       "7                                        Ignacio Albo Perez Serrano   \n",
       "8      paulaalejo1995@gmail.com        Paula Carmen Alejo Rodriguez   \n",
       "9         rutegomes64@yahoo.com    Joana Margarida De Almeida Gomes   \n",
       "\n",
       "                                         Link perfil  \n",
       "0  https://www.linkedin.com/in/luc%C3%ADa-abajo-l...  \n",
       "1  https://www.linkedin.com/in/celiaacitoresmon?m...  \n",
       "2  https://www.linkedin.com/in/arturo-aguado-neva...  \n",
       "3  https://www.linkedin.com/in/natalia-aguado-nev...  \n",
       "4  https://www.linkedin.com/in/blancagomezgonzale...  \n",
       "5  https://www.linkedin.com/in/carmen-aguilera-ib...  \n",
       "6  https://www.linkedin.com/in/carla-aguirre-de-c...  \n",
       "7  https://www.linkedin.com/in/ignacio-alonso-p%C...  \n",
       "8  https://www.linkedin.com/in/carmen-rodriguez-r...  \n",
       "9  https://www.linkedin.com/in/margarida-cepeda-a...  "
      ]
     },
     "execution_count": 518,
     "metadata": {},
     "output_type": "execute_result"
    }
   ],
   "source": [
    "df5 = df3.head(10)\n",
    "\n",
    "df5"
   ]
  },
  {
   "cell_type": "code",
   "execution_count": 523,
   "id": "b3150fef",
   "metadata": {},
   "outputs": [
    {
     "data": {
      "text/plain": [
       "[{'Nombre completo': 'Lucia Abajo Lopez',\n",
       "  'Link perfil': 'https://www.linkedin.com/in/luc%C3%ADa-abajo-l%C3%B3pez-a05b69149?miniProfileUrn=urn%3Ali%3Afs_miniProfile%3AACoAACPx_GUBEInqV6-XevGdG2G8j16ASpOdDWU'},\n",
       " {'Nombre completo': 'Celia Acitores Garcia Mon',\n",
       "  'Link perfil': 'https://www.linkedin.com/in/celiaacitoresmon?miniProfileUrn=urn%3Ali%3Afs_miniProfile%3AACoAABZjrigBq3LWrKrfRcRkZbuDrIWpoS3D5wA'},\n",
       " {'Nombre completo': 'Arturo Aguado Nevado',\n",
       "  'Link perfil': 'https://www.linkedin.com/in/arturo-aguado-nevado-b55a9216b?miniProfileUrn=urn%3Ali%3Afs_miniProfile%3AACoAACiPlPEBUvQZ8IjuGmB8h_3CpphwzR2l3-c'},\n",
       " {'Nombre completo': 'Natalia Aguado Nevado',\n",
       "  'Link perfil': 'https://www.linkedin.com/in/natalia-aguado-nevado-274297151?miniProfileUrn=urn%3Ali%3Afs_miniProfile%3AACoAACSG8bgBwslzaiuLMb7iKuNnp4qsshKYQcg'},\n",
       " {'Nombre completo': 'Blanca De Los Reye Agudo Hernandez',\n",
       "  'Link perfil': 'https://www.linkedin.com/in/blancagomezgonzalez?miniProfileUrn=urn%3Ali%3Afs_miniProfile%3AACoAAAK17DgB_2BLoOaZKxeB_dkoSFTg47qVqXM'},\n",
       " {'Nombre completo': 'Carmen Aguilera Ibañez',\n",
       "  'Link perfil': 'https://www.linkedin.com/in/carmen-aguilera-ib%C3%A1%C3%B1ez-787481115?miniProfileUrn=urn%3Ali%3Afs_miniProfile%3AACoAABy5UxcBpar29g0qrIEyxutEkm2iAlVnFVQ'},\n",
       " {'Nombre completo': 'Carla Aguirre De Carcer Brias',\n",
       "  'Link perfil': 'https://www.linkedin.com/in/carla-aguirre-de-c%C3%A1rcer-brias-792860120?miniProfileUrn=urn%3Ali%3Afs_miniProfile%3AACoAAB4Gyl4B-Hwcy_Kjl9x2BB0PWXZldonO9zs'},\n",
       " {'Nombre completo': 'Ignacio Albo Perez Serrano',\n",
       "  'Link perfil': 'https://www.linkedin.com/in/ignacio-alonso-p%C3%A9rez-navarro-20816242?miniProfileUrn=urn%3Ali%3Afs_miniProfile%3AACoAAAjr4KgBS6vilTP81kHMQ5cp2Z0lpUuDcEU'},\n",
       " {'Nombre completo': 'Paula Carmen Alejo Rodriguez',\n",
       "  'Link perfil': 'https://www.linkedin.com/in/carmen-rodriguez-rivera-002295148?miniProfileUrn=urn%3Ali%3Afs_miniProfile%3AACoAACOjEsIBYRzQnNzmyzA8MICvOBOoC-xsvVE'},\n",
       " {'Nombre completo': 'Joana Margarida De Almeida Gomes',\n",
       "  'Link perfil': 'https://www.linkedin.com/in/margarida-cepeda-a4b027152?miniProfileUrn=urn%3Ali%3Afs_miniProfile%3AACoAACSqtxsB8urIst6n4kZ2pWsPDcUaVkH7rQo'}]"
      ]
     },
     "execution_count": 523,
     "metadata": {},
     "output_type": "execute_result"
    }
   ],
   "source": [
    "list_dict = []\n",
    "\n",
    "for index, row in df5.iterrows():\n",
    "    \n",
    "    nombre_completo = row['Nombre completo']\n",
    "    \n",
    "    link_perfil = row['Link perfil']\n",
    "    \n",
    "    dict_data = {'Nombre completo': nombre_completo, 'Link perfil': link_perfil}\n",
    "    list_dict.append(dict_data)\n",
    "    \n",
    "list_dict\n"
   ]
  },
  {
   "cell_type": "code",
   "execution_count": null,
   "id": "54351a03",
   "metadata": {},
   "outputs": [],
   "source": [
    "def obtener_datos_experiencia(list_dict):\n",
    "    \n",
    "    for dicc in list_dict\n",
    "        \n",
    "        full_name = dicc['Nombre completo']\n",
    "        url = dicc['Link perfil']\n",
    "        experience_data = {'Experiences': []}\n",
    "        \n",
    "        driver.get(url)\n",
    "        \n",
    "        # Experience\n",
    "        \n",
    "        try:\n",
    "\n",
    "            experiencess = driver.find_elements(By.CLASS_NAME, \"experience_company_logo\")\n",
    "            \n",
    "            for experience in experiencess:\n",
    "                \n",
    "                try: \n",
    "                    \n",
    "                position = driver.find_element(By.CLASS_NAME, 'display-flex full-width').text\n",
    "                \n",
    "\n",
    "                \n",
    "\n",
    "            datos_experiencia = []\n",
    "            for elemento in experiencia_elements:\n",
    "\n",
    "            return datos_experiencia\n",
    "\n",
    "        except Exception as e:\n",
    "            print(f\"No se pudo obtener datos de experiencia: {str(e)}\")\n",
    "\n",
    "        finally:\n",
    "            driver.quit()"
   ]
  },
  {
   "cell_type": "code",
   "execution_count": null,
   "id": "1f86af65",
   "metadata": {},
   "outputs": [],
   "source": []
  },
  {
   "cell_type": "code",
   "execution_count": null,
   "id": "66d3d882",
   "metadata": {},
   "outputs": [],
   "source": []
  },
  {
   "cell_type": "code",
   "execution_count": null,
   "id": "f859c744",
   "metadata": {},
   "outputs": [],
   "source": []
  },
  {
   "cell_type": "code",
   "execution_count": null,
   "id": "465fe4f5",
   "metadata": {},
   "outputs": [],
   "source": []
  },
  {
   "cell_type": "code",
   "execution_count": null,
   "id": "43294246",
   "metadata": {},
   "outputs": [],
   "source": [
    "def scrap(lst_dicc):\n",
    "    \n",
    "    try:\n",
    "        for dicc in lst_dicc:\n",
    "            \n",
    "            datos_finales_experiencia = {'experiencias':[]}\n",
    "            datos_finales_educacion = {'educacion':[]}\n",
    "            name = dicc['nombre']\n",
    "            url = dicc['enlace']\n",
    "            driver.get(url)\n",
    "            time.sleep(10)\n",
    "            \n",
    "            #EXPERIENCIA:\n",
    "            try:\n",
    "                experiencias = driver.find_elements(By.CSS_SELECTOR, 'a[data-field=experience_company_logo]')                               # Selecionamos las cajas de las experiencias a través del id del logo\n",
    "                experiencias_logo = []                                                                                                      # Definimos un objeto donde guardar sólo los objetos de selenium del logo(evitar casos de experiencias complejas que coge dos veces cada compleja)\n",
    "\n",
    "                for experiencia in experiencias:\n",
    "\n",
    "                    child_text = experiencia.find_element(By.CSS_SELECTOR, \"*\").text                                                        # Encuentra todos los elementos del ID anterior que tengan texto\n",
    "\n",
    "                    if not child_text:                                                                   \n",
    "                        experiencias_logo.append(experiencia)                                                                               # Guarda aquellos elementos que no tengan texto (los elementos relacionados con los logos de la empresa)\n",
    "\n",
    "\n",
    "                for logo in experiencias_logo:\n",
    "\n",
    "                    experiencia = {'nombre_empresa': None, 'link':None,'puestos': []}\n",
    "\n",
    "                    experiencia[\"link\"] = logo.get_attribute('href')                                                                         # Link de la empresa   \n",
    "\n",
    "                    # En logos\n",
    "\n",
    "                    job_info = logo.find_element(By.XPATH, (\"../..\")).find_element(By.CSS_SELECTOR, \"div:nth-child(2)>  div:nth-child(1)\")   # Desde los logos, subre a dos padres, baja al hijo segundo y de ahí al hijo primero\n",
    "\n",
    "                    job_header = job_info.find_element(By.CSS_SELECTOR, \"*\")\n",
    "\n",
    "                    tag = job_header.tag_name\n",
    "\n",
    "                    # Experiencia simple:\n",
    "\n",
    "                    if tag == \"div\":\n",
    "\n",
    "                        puesto = {}\n",
    "                        try:\n",
    "                            puesto[\"nombre_puesto\"] = job_header.find_element(By.CSS_SELECTOR, \"div:nth-child(1) > div:nth-child(1) > span.visually-hidden\").text\n",
    "                        except:\n",
    "                            pass\n",
    "                        try:\n",
    "                            puesto[\"fecha_inicio\"] = job_header.find_element(By.CSS_SELECTOR, \"span:nth-child(3) > span.visually-hidden\").text.split(\" - \")[0]\n",
    "                        except:\n",
    "                            pass\n",
    "                        try:\n",
    "                            puesto[\"fecha_fin\"] = job_header.find_element(By.CSS_SELECTOR, \"span:nth-child(3) > span.visually-hidden\").text.split(\" - \")[1].split(\" · \")[0]\n",
    "                            if puesto[\"fecha_fin\"] == \"actualidad\":\n",
    "                                puesto[\"fecha_fin\"] = datetime.now().strftime(\"%Y-%m\")\n",
    "                        except:\n",
    "                            pass\n",
    "                        try:\n",
    "                            puesto[\"duracion\"] = job_header.find_element(By.CSS_SELECTOR, \"span:nth-child(3) > span.visually-hidden\").text.split(\" - \")[1].split(\" · \")[1]\n",
    "                        except:\n",
    "                            pass\n",
    "                        try:\n",
    "                            puesto[\"ubicacion\"] = job_header.find_element(By.CSS_SELECTOR, \"span:nth-child(4) > span.visually-hidden\").text\n",
    "                        except:\n",
    "                            pass\n",
    "                        try:\n",
    "                            experiencia[\"nombre_empresa\"] = job_header.find_element(By.CSS_SELECTOR, \"span:nth-child(2) > span.visually-hidden\").text\n",
    "                        except:\n",
    "                            pass\n",
    "                        try:\n",
    "                            experiencia[\"puestos\"].append(puesto)\n",
    "                        except:\n",
    "                            pass\n",
    "\n",
    "                    # Experiencia compleja:\n",
    "\n",
    "                    else:\n",
    "\n",
    "                        experiencia[\"nombre_empresa\"] = job_header.find_element(By.CSS_SELECTOR, \"div:nth-child(1) > div:nth-child(1) > span.visually-hidden\").text\n",
    "\n",
    "                        jobs_list = logo.find_element(By.XPATH, (\"../..\")).find_element(By.CSS_SELECTOR, \"div:nth-child(2) > div:nth-child(2) > ul:nth-child(1)\").find_elements(By.CLASS_NAME, \"optional-action-target-wrapper.display-flex.flex-column.full-width\")\n",
    "\n",
    "                        for job in jobs_list:\n",
    "\n",
    "                            puesto = {}\n",
    "                            try: \n",
    "                                puesto[\"nombre_puesto\"] = job.find_element(By.CSS_SELECTOR, \"div > span.visually-hidden\").text\n",
    "                            except:\n",
    "                                pass\n",
    "                            try:\n",
    "                                spans = job.find_elements(By.CLASS_NAME, 't-14.t-normal.t-black--light')\n",
    "                            except:\n",
    "                                pass\n",
    "                            try:\n",
    "                                puesto[\"fecha_inicio\"] = spans[0].find_element(By.CSS_SELECTOR, 'span.visually-hidden').text.split(\" - \")[0]\n",
    "                            except:\n",
    "                                pass\n",
    "                            try:\n",
    "                                puesto[\"fecha_fin\"] = spans[0].find_element(By.CSS_SELECTOR, 'span.visually-hidden').text.split(\" - \")[1].split(\" · \")[0]\n",
    "                                if puesto[\"fecha_fin\"] == \"actualidad\":\n",
    "                                    puesto[\"fecha_fin\"] = datetime.now().strftime(\"%Y-%m\")\n",
    "                            except:\n",
    "                                pass\n",
    "                            try:\n",
    "                                puesto[\"duracion\"] = spans[0].find_element(By.CSS_SELECTOR, 'span.visually-hidden').text.split(\" - \")[1].split(\" · \")[1]\n",
    "                            except:\n",
    "                                pass\n",
    "                            try:\n",
    "                                puesto[\"ubicacion\"] = spans[1].find_element(By.CSS_SELECTOR, 'span.visually-hidden').text\n",
    "                            except:\n",
    "                                pass\n",
    "\n",
    "\n",
    "                            experiencia[\"puestos\"].append(puesto)\n",
    "\n",
    "\n",
    "\n",
    "                    datos_finales_experiencia['experiencias'].append(experiencia)\n",
    "\n",
    "                    # To MONGODB\n",
    "                try:\n",
    "                    collection.insert_one({'enlace': url, 'nombre': name, 'experiencia_laboral' : datos_finales_experiencia})\n",
    "\n",
    "                except pymongo.errors.DuplicateKeyError as e:\n",
    "                    pass\n",
    "                \n",
    "            except Exception as e:\n",
    "                print(f\"No se pudo encontrar o scrapear 'experience' para {nombre}\")\n",
    "            time.sleep(1)\n",
    "                \n",
    "            #EDUCACIÓN:\n",
    "            try:\n",
    "                tarjetas = driver.find_element(By.ID, 'education')\n",
    "                tarjetas_estudios = tarjetas.find_element(By.XPATH, (\"..\")).find_elements(By.CSS_SELECTOR, \"ul >li > div > div > div > a\")\n",
    "\n",
    "\n",
    "                educacion = {'institucion': None, 'carrera':None,'fecha_inicio': None, 'fecha_fin': None}\n",
    "                for tarjetas_estudio in tarjetas_estudios:\n",
    "\n",
    "                    estudios = {}\n",
    "                    try:\n",
    "                        estudios['institucion'] = tarjetas_estudio.find_element(By.CSS_SELECTOR, 'span.visually-hidden').text\n",
    "                    except:\n",
    "                        pass\n",
    "                    try:\n",
    "                        estudios['carrera'] = tarjetas_estudio.find_element(By.CSS_SELECTOR, \"span:nth-child(2) > span:nth-child(2)\").text\n",
    "                    except:\n",
    "                        pass\n",
    "                    try:\n",
    "                        estudios['fecha_inicio'] = tarjetas_estudio.find_element(By.CSS_SELECTOR, \"span.t-14.t-normal.t-black--light > span:nth-child(2)\").text.split(\" - \")[0]\n",
    "                    except:\n",
    "                        pass\n",
    "                    try:\n",
    "                        estudios['fecha_fin'] = tarjetas_estudio.find_element(By.CSS_SELECTOR, \"span.t-14.t-normal.t-black--light > span:nth-child(2)\").text.split(\" - \")[1]\n",
    "                    except:\n",
    "                        pass\n",
    "                    \n",
    "                    datos_finales_educacion['educacion'].append(estudios)\n",
    "\n",
    "\n",
    "\n",
    "                # To MONGODB\n",
    "                try:\n",
    "                    collection.insert_one({'enlace': url, 'nombre': name, 'educación' : datos_finales_educacion})\n",
    "\n",
    "                except pymongo.errors.DuplicateKeyError as e:\n",
    "                    pass\n",
    "\n",
    "            except Exception as e:\n",
    "                print(f\"No se pudo encontrar o scrapear 'education' para {nombre}\")\n",
    "                \n",
    "    except Exception as e:\n",
    "        print(f\"Ocurrió un error: {str(e)}\")\n",
    "        pass\n"
   ]
  },
  {
   "cell_type": "code",
   "execution_count": null,
   "id": "ba93ae27",
   "metadata": {},
   "outputs": [],
   "source": []
  },
  {
   "cell_type": "code",
   "execution_count": null,
   "id": "00f48190",
   "metadata": {},
   "outputs": [],
   "source": []
  },
  {
   "cell_type": "code",
   "execution_count": null,
   "id": "d12ee640",
   "metadata": {},
   "outputs": [],
   "source": []
  },
  {
   "cell_type": "code",
   "execution_count": null,
   "id": "864421af",
   "metadata": {},
   "outputs": [],
   "source": []
  },
  {
   "cell_type": "code",
   "execution_count": null,
   "id": "340615a4",
   "metadata": {},
   "outputs": [],
   "source": []
  },
  {
   "cell_type": "code",
   "execution_count": null,
   "id": "8cd00f8f",
   "metadata": {},
   "outputs": [],
   "source": []
  },
  {
   "cell_type": "code",
   "execution_count": null,
   "id": "b463b2ef",
   "metadata": {},
   "outputs": [],
   "source": []
  }
 ],
 "metadata": {
  "kernelspec": {
   "display_name": "Python 3 (ipykernel)",
   "language": "python",
   "name": "python3"
  },
  "language_info": {
   "codemirror_mode": {
    "name": "ipython",
    "version": 3
   },
   "file_extension": ".py",
   "mimetype": "text/x-python",
   "name": "python",
   "nbconvert_exporter": "python",
   "pygments_lexer": "ipython3",
   "version": "3.11.3"
  }
 },
 "nbformat": 4,
 "nbformat_minor": 5
}
