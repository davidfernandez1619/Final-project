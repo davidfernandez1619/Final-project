{
 "cells": [
  {
   "cell_type": "code",
   "execution_count": 408,
   "id": "d84a6815",
   "metadata": {},
   "outputs": [
    {
     "name": "stdout",
     "output_type": "stream",
     "text": [
      "Directorio actual: /Users/davidfernandez/Desktop/Projects/Final-project/Notebooks\n"
     ]
    }
   ],
   "source": [
    "import os\n",
    "import pandas as pd\n",
    "\n",
    "# Obtiene el directorio actual\n",
    "directorio_actual = os.getcwd()\n",
    "\n",
    "# Imprime la ubicación actual\n",
    "print(\"Directorio actual:\", directorio_actual)\n"
   ]
  },
  {
   "cell_type": "markdown",
   "id": "6e3fa971",
   "metadata": {},
   "source": [
    "## First dataframe (2015-2016)"
   ]
  },
  {
   "cell_type": "code",
   "execution_count": 409,
   "id": "6c038270",
   "metadata": {},
   "outputs": [],
   "source": [
    "df = pd.read_csv('/Users/davidfernandez/Desktop/Egresados CSV/2015-2016.csv')\n"
   ]
  },
  {
   "cell_type": "code",
   "execution_count": 410,
   "id": "e93c7ef6",
   "metadata": {},
   "outputs": [
    {
     "data": {
      "text/plain": [
       "array(['Grado en Com Audiovisual ', 'Grado en Publicidad      ',\n",
       "       'Grado en Historia Arte   ', 'PERIODISMO               ',\n",
       "       'HUMANIDADES              ', 'Grado en Historia        ',\n",
       "       'Gr. Educación Primaria   ', 'Gr. Educación Infantil   ',\n",
       "       'Grado en Periodismo      ', 'COMUNICACIÓN AUDIOVISUAL ',\n",
       "       'Gr. Comunicación Digital ', 'PUBLICIDAD Y REL.PÚBLICAS',\n",
       "       'Grado en Humanidades     '], dtype=object)"
      ]
     },
     "execution_count": 410,
     "metadata": {},
     "output_type": "execute_result"
    }
   ],
   "source": [
    "df['Nombre reducido'].unique() # We see the unique values in the columns of our Bachelor Degrees"
   ]
  },
  {
   "cell_type": "code",
   "execution_count": 411,
   "id": "2f14bd42",
   "metadata": {},
   "outputs": [],
   "source": [
    "nuevos = {'Grado en Com Audiovisual ': 'Comunicación audiovisual', 'Grado en Historia Arte   ': 'Historia Arte', 'HUMANIDADES              ': 'Humanidades', 'Gr. Educación Primaria   ': 'Educación primaria', 'Grado en Periodismo      ': 'Periodismo', 'Gr. Comunicación Digital ': 'Comunicación digital', 'Grado en Humanidades     ': 'Humanidades', 'Grado en Publicidad      ': 'Publicidad', 'PERIODISMO               ': 'Periodismo', 'Grado en Historia        ': 'Historia', 'Gr. Educación Infantil   ': 'Educación infantil', 'COMUNICACIÓN AUDIOVISUAL ': 'Comunicación audiovisual', 'PUBLICIDAD Y REL.PÚBLICAS': 'Publicidad'}"
   ]
  },
  {
   "cell_type": "code",
   "execution_count": 412,
   "id": "9484eb9e",
   "metadata": {},
   "outputs": [],
   "source": [
    "df['Nombre reducido'] = df['Nombre reducido'].replace(nuevos) # We replace our values by more comprehensible values\n"
   ]
  },
  {
   "cell_type": "code",
   "execution_count": 413,
   "id": "9baf8d76",
   "metadata": {},
   "outputs": [
    {
     "data": {
      "text/plain": [
       "array(['Comunicación audiovisual', 'Publicidad', 'Historia Arte',\n",
       "       'Periodismo', 'Humanidades', 'Historia', 'Educación primaria',\n",
       "       'Educación infantil', 'Comunicación digital'], dtype=object)"
      ]
     },
     "execution_count": 413,
     "metadata": {},
     "output_type": "execute_result"
    }
   ],
   "source": [
    "df['Nombre reducido'].unique()"
   ]
  },
  {
   "cell_type": "code",
   "execution_count": 414,
   "id": "5e36f394",
   "metadata": {},
   "outputs": [],
   "source": [
    "columnas_a_eliminar = {'Cod.facultad', 'Cod.carrera', 'Cv; telefono sms', 'Tipo expediente'} \n",
    "\n",
    "# We set the columns that we want to remove in our df"
   ]
  },
  {
   "cell_type": "code",
   "execution_count": 415,
   "id": "a2a0b9df",
   "metadata": {},
   "outputs": [],
   "source": [
    "df = df.drop(columnas_a_eliminar, axis=1)\n",
    "\n",
    " # And now we get rid of those columns and visualize again our dataframe"
   ]
  },
  {
   "cell_type": "code",
   "execution_count": 416,
   "id": "0408cad4",
   "metadata": {},
   "outputs": [],
   "source": [
    "nuevos_nombres = {'Nombre reducido': 'Grado', 'Nombre propio': 'Nombre', 'Cv; email asig.': 'Email universitario', 'Cv; email libre': 'Email personal'}"
   ]
  },
  {
   "cell_type": "code",
   "execution_count": 417,
   "id": "3054dc84",
   "metadata": {},
   "outputs": [],
   "source": [
    "df = df.rename(columns=nuevos_nombres)\n",
    "\n",
    "\n",
    "\n",
    "# Now we change our columns names"
   ]
  },
  {
   "cell_type": "code",
   "execution_count": 418,
   "id": "acf8d2bb",
   "metadata": {},
   "outputs": [],
   "source": [
    "def eliminar_espacios_extra(cadena):\n",
    "    if isinstance(cadena, str):  \n",
    "        return cadena.strip()\n",
    "    else:\n",
    "        return cadena\n",
    "\n",
    "df = df.applymap(eliminar_espacios_extra)\n",
    "\n",
    "# We create a function to remove all spaces before and after each value of our dataframe\n",
    "\n"
   ]
  },
  {
   "cell_type": "code",
   "execution_count": 419,
   "id": "664252d6",
   "metadata": {},
   "outputs": [],
   "source": [
    "def crear_nombre_completo(row):\n",
    "    return f\"{row['Nombre']} {row['Primer apellido']} {row['Segundo apellido']}\"\n",
    "\n",
    "\n",
    "df['Nombre completo'] = df.apply(crear_nombre_completo, axis=1)\n",
    "\n",
    "\n",
    "\n",
    "# We create a function that mixes each student's name, first and second name. We then apply it to our df in a new column"
   ]
  },
  {
   "cell_type": "code",
   "execution_count": 420,
   "id": "575f4548",
   "metadata": {},
   "outputs": [],
   "source": [
    "'''A lot of our graduates are duplicated, since they graduated from a dual degree. We are going to identify them, \n",
    "remove the second row, and in the column 'Grado' of our first row, we're going to add the dual degree'''\n",
    "\n",
    "\n",
    "import pandas as pd\n",
    "\n",
    "for index, row in df.iterrows():\n",
    "    \n",
    "    nombre_completo_actual = row['Nombre completo']\n",
    "    grado_actual = row['Grado']\n",
    "\n",
    "    duplicados = df[df['Nombre completo'] == nombre_completo_actual]\n",
    "    cantidad_duplicados = len(duplicados)\n",
    "\n",
    "    if cantidad_duplicados > 1:\n",
    "        \n",
    "        nuevos_grados = ' y '.join(duplicados['Grado'])\n",
    "        \n",
    "        df.loc[index, 'Grado'] = nuevos_grados\n",
    "        \n",
    "        df.drop(duplicados.index[1:], inplace=True)\n"
   ]
  },
  {
   "cell_type": "code",
   "execution_count": 421,
   "id": "7dfcc86c",
   "metadata": {},
   "outputs": [],
   "source": [
    "valores_a_eliminar = ['Educación primaria', 'Educación primaria y Educación infantil', 'Educación infantil']\n",
    "\n",
    "df = df[~df['Grado'].isin(valores_a_eliminar)].reset_index().drop('index', axis=1)\n",
    "\n",
    "\n",
    "\n",
    "# Finally, we get rid of the students from the degrees of Primary Education and Early Childhood Education "
   ]
  },
  {
   "cell_type": "markdown",
   "id": "1e712b05",
   "metadata": {},
   "source": [
    "## Second dataframe (2016-2017)"
   ]
  },
  {
   "cell_type": "code",
   "execution_count": 423,
   "id": "ac5fe3fe",
   "metadata": {},
   "outputs": [],
   "source": [
    "df2 = pd.read_csv('/Users/davidfernandez/Desktop/Egresados CSV/2016-2017.csv')\n"
   ]
  },
  {
   "cell_type": "code",
   "execution_count": 424,
   "id": "f1bddb46",
   "metadata": {},
   "outputs": [
    {
     "data": {
      "text/plain": [
       "array(['Grado en Publicidad      ', 'Grado en Historia Arte   ',\n",
       "       'Grado en Periodismo      ', 'Grado en Humanidades     ',\n",
       "       'Gr. Comunicación Digital ', 'Gr. Educación Infantil   ',\n",
       "       'Grado en Com Audiovisual ', 'Gr. Educación Primaria   ',\n",
       "       'Grado en Historia        '], dtype=object)"
      ]
     },
     "execution_count": 424,
     "metadata": {},
     "output_type": "execute_result"
    }
   ],
   "source": [
    "df2['Nombre reducido'].unique()"
   ]
  },
  {
   "cell_type": "code",
   "execution_count": 425,
   "id": "b5bd97ab",
   "metadata": {},
   "outputs": [],
   "source": [
    "nuevos2 = {'Grado en Com Audiovisual ': 'Comunicación audiovisual', 'Grado en Historia Arte   ': 'Historia Arte', 'Gr. Educación Primaria   ': 'Educación primaria', 'Grado en Periodismo      ': 'Periodismo', 'Grado en Humanidades     ': 'Humanidades', 'Grado en Publicidad      ': 'Publicidad', 'Grado en Periodismo      ': 'Periodismo', 'Grado en Historia        ': 'Historia', 'Gr. Educación Infantil   ': 'Educación infantil'}"
   ]
  },
  {
   "cell_type": "code",
   "execution_count": 426,
   "id": "20e562f6",
   "metadata": {},
   "outputs": [],
   "source": [
    "df2['Nombre reducido'] = df2['Nombre reducido'].replace(nuevos2) # We replace our values by more comprehensible values\n"
   ]
  },
  {
   "cell_type": "code",
   "execution_count": 429,
   "id": "5ac7c364",
   "metadata": {},
   "outputs": [],
   "source": [
    "columnas_a_eliminar2 = {'Cod.facultad', 'Cod.carrera', 'Cv; telefono sms', 'Tipo expediente'} \n"
   ]
  },
  {
   "cell_type": "code",
   "execution_count": 430,
   "id": "511e572e",
   "metadata": {},
   "outputs": [],
   "source": [
    "df2 = df2.drop(columnas_a_eliminar2, axis=1)\n"
   ]
  },
  {
   "cell_type": "code",
   "execution_count": 431,
   "id": "151b26ed",
   "metadata": {},
   "outputs": [],
   "source": [
    "nuevos_nombres2 = {'Nombre reducido': 'Grado', 'Nombre propio': 'Nombre', 'Cv; email asig.': 'Email universitario', 'Cv; email libre': 'Email personal'}"
   ]
  },
  {
   "cell_type": "code",
   "execution_count": 432,
   "id": "7ad8fbaa",
   "metadata": {},
   "outputs": [],
   "source": [
    "df2 = df2.rename(columns=nuevos_nombres2)\n"
   ]
  },
  {
   "cell_type": "code",
   "execution_count": 433,
   "id": "1e6f1326",
   "metadata": {},
   "outputs": [],
   "source": [
    "df2 = df2.applymap(eliminar_espacios_extra)\n",
    "\n",
    "# We create a function to remove all spaces before and after each value of our dataframe"
   ]
  },
  {
   "cell_type": "code",
   "execution_count": 434,
   "id": "dfbe143f",
   "metadata": {},
   "outputs": [],
   "source": [
    "df2['Nombre completo'] = df2.apply(crear_nombre_completo, axis=1)\n"
   ]
  },
  {
   "cell_type": "code",
   "execution_count": 435,
   "id": "cbc97de6",
   "metadata": {},
   "outputs": [],
   "source": [
    "for index, row in df2.iterrows():\n",
    "    \n",
    "    nombre_completo_actual = row['Nombre completo']\n",
    "    grado_actual = row['Grado']\n",
    "\n",
    "    duplicados = df2[df2['Nombre completo'] == nombre_completo_actual]\n",
    "    cantidad_duplicados = len(duplicados)\n",
    "\n",
    "    if cantidad_duplicados > 1:\n",
    "        \n",
    "        nuevos_grados = ' y '.join(duplicados['Grado'])\n",
    "        \n",
    "        df2.loc[index, 'Grado'] = nuevos_grados\n",
    "        \n",
    "        df2.drop(duplicados.index[1:], inplace=True)"
   ]
  },
  {
   "cell_type": "code",
   "execution_count": 436,
   "id": "356dd757",
   "metadata": {},
   "outputs": [],
   "source": [
    "df2 = df2[~df2['Grado'].isin(valores_a_eliminar)].reset_index().drop('index', axis=1)\n"
   ]
  },
  {
   "cell_type": "markdown",
   "id": "b747df9e",
   "metadata": {},
   "source": [
    "## Third dataframe (2017-2018)"
   ]
  },
  {
   "cell_type": "code",
   "execution_count": 437,
   "id": "85e8471f",
   "metadata": {},
   "outputs": [],
   "source": [
    "df3 = pd.read_csv('/Users/davidfernandez/Desktop/Egresados CSV/2017-2018.csv')\n"
   ]
  },
  {
   "cell_type": "code",
   "execution_count": 438,
   "id": "39669cb6",
   "metadata": {},
   "outputs": [],
   "source": [
    "nuevos3 = {'Grado en Com Audiovisual ': 'Comunicación audiovisual', 'Grado en Historia Arte   ': 'Historia Arte', 'Gr. Educación Primaria   ': 'Educación primaria', 'Grado en Periodismo      ': 'Periodismo', 'Grado en Humanidades     ': 'Humanidades', 'Grado en Publicidad      ': 'Publicidad', 'Grado en Periodismo      ': 'Periodismo', 'Grado en Historia        ': 'Historia', 'Gr. Educación Infantil   ': 'Educación infantil'}"
   ]
  },
  {
   "cell_type": "code",
   "execution_count": 439,
   "id": "8065cb07",
   "metadata": {},
   "outputs": [],
   "source": [
    "df3['Nombre reducido'] = df3['Nombre reducido'].replace(nuevos2) # We replace our values by more comprehensible values\n"
   ]
  },
  {
   "cell_type": "code",
   "execution_count": 440,
   "id": "6618090a",
   "metadata": {},
   "outputs": [],
   "source": [
    "df3 = df3.rename(columns=nuevos_nombres3)\n"
   ]
  },
  {
   "cell_type": "code",
   "execution_count": 441,
   "id": "a6cbb295",
   "metadata": {},
   "outputs": [],
   "source": [
    "df3 = df3.applymap(eliminar_espacios_extra)\n"
   ]
  },
  {
   "cell_type": "code",
   "execution_count": 442,
   "id": "6eea056c",
   "metadata": {},
   "outputs": [],
   "source": [
    "def transform_name(row):\n",
    "    if ',' in row['Nombre del alumno']:\n",
    "        parts = row['Nombre del alumno'].split(', ')\n",
    "        formatted_name = ' '.join([part.title() for part in parts[::-1]])\n",
    "        return formatted_name\n",
    "    else:\n",
    "        return row['Nombre del alumno']\n",
    "\n",
    "df3['Nombre completo'] = df3.apply(transform_name, axis=1)\n"
   ]
  },
  {
   "cell_type": "code",
   "execution_count": 443,
   "id": "db5044c0",
   "metadata": {},
   "outputs": [],
   "source": [
    "for index, row in df3.iterrows():\n",
    "    \n",
    "    nombre_completo_actual = row['Nombre completo']\n",
    "    grado_actual = row['Grado']\n",
    "\n",
    "    duplicados = df3[df3['Nombre completo'] == nombre_completo_actual]\n",
    "    cantidad_duplicados = len(duplicados)\n",
    "\n",
    "    if cantidad_duplicados > 1:\n",
    "        \n",
    "        nuevos_grados = ' y '.join(duplicados['Grado'])\n",
    "        \n",
    "        df3.loc[index, 'Grado'] = nuevos_grados\n",
    "        \n",
    "        df3.drop(duplicados.index[1:], inplace=True)"
   ]
  },
  {
   "cell_type": "code",
   "execution_count": 444,
   "id": "df6d30cd",
   "metadata": {},
   "outputs": [],
   "source": [
    "df3 = df3[~df3['Grado'].isin(valores_a_eliminar)].reset_index().drop('index', axis=1)\n"
   ]
  },
  {
   "cell_type": "code",
   "execution_count": 445,
   "id": "2d36c56e",
   "metadata": {},
   "outputs": [],
   "source": [
    "columnas_a_eliminar3 = {'Cv; telefono sms', 'Calificacion exp', 'Cv; telefono sms', 'Nombre del alumno'} \n",
    "\n",
    "df3 = df3.drop(columnas_a_eliminar3, axis=1)"
   ]
  },
  {
   "cell_type": "markdown",
   "id": "00876d99",
   "metadata": {},
   "source": [
    "## Fourth dataframe (2018-2019)"
   ]
  },
  {
   "cell_type": "code",
   "execution_count": null,
   "id": "11537d20",
   "metadata": {},
   "outputs": [],
   "source": [
    "df4 = pd.read_csv('/Users/davidfernandez/Desktop/Egresados CSV/2018-2019.csv')\n",
    "\n",
    "\n",
    "# DA ERROR, LO DEJAMOS PARA MÁS ADELANTE"
   ]
  },
  {
   "cell_type": "markdown",
   "id": "dd8c071a",
   "metadata": {},
   "source": [
    "## Fifth dataframe (2019-2020)"
   ]
  },
  {
   "cell_type": "code",
   "execution_count": 446,
   "id": "bfb6f298",
   "metadata": {},
   "outputs": [],
   "source": [
    "df5 = pd.read_csv('/Users/davidfernandez/Desktop/Egresados CSV/2019-2020.csv')\n"
   ]
  },
  {
   "cell_type": "code",
   "execution_count": null,
   "id": "159c2fc6",
   "metadata": {},
   "outputs": [],
   "source": []
  },
  {
   "cell_type": "code",
   "execution_count": null,
   "id": "2e246eb0",
   "metadata": {},
   "outputs": [],
   "source": []
  },
  {
   "cell_type": "markdown",
   "id": "56301231",
   "metadata": {},
   "source": [
    "## Web scraping"
   ]
  },
  {
   "cell_type": "code",
   "execution_count": 448,
   "id": "ea625466",
   "metadata": {},
   "outputs": [
    {
     "name": "stdout",
     "output_type": "stream",
     "text": [
      "Requirement already satisfied: selenium in /Users/davidfernandez/anaconda3/lib/python3.11/site-packages (4.13.0)\n",
      "Requirement already satisfied: urllib3[socks]<3,>=1.26 in /Users/davidfernandez/anaconda3/lib/python3.11/site-packages (from selenium) (1.26.16)\n",
      "Requirement already satisfied: trio~=0.17 in /Users/davidfernandez/anaconda3/lib/python3.11/site-packages (from selenium) (0.22.2)\n",
      "Requirement already satisfied: trio-websocket~=0.9 in /Users/davidfernandez/anaconda3/lib/python3.11/site-packages (from selenium) (0.11.1)\n",
      "Requirement already satisfied: certifi>=2021.10.8 in /Users/davidfernandez/anaconda3/lib/python3.11/site-packages (from selenium) (2023.5.7)\n",
      "Requirement already satisfied: attrs>=20.1.0 in /Users/davidfernandez/anaconda3/lib/python3.11/site-packages (from trio~=0.17->selenium) (22.1.0)\n",
      "Requirement already satisfied: sortedcontainers in /Users/davidfernandez/anaconda3/lib/python3.11/site-packages (from trio~=0.17->selenium) (2.4.0)\n",
      "Requirement already satisfied: idna in /Users/davidfernandez/anaconda3/lib/python3.11/site-packages (from trio~=0.17->selenium) (3.4)\n",
      "Requirement already satisfied: outcome in /Users/davidfernandez/anaconda3/lib/python3.11/site-packages (from trio~=0.17->selenium) (1.2.0)\n",
      "Requirement already satisfied: sniffio in /Users/davidfernandez/anaconda3/lib/python3.11/site-packages (from trio~=0.17->selenium) (1.2.0)\n",
      "Requirement already satisfied: wsproto>=0.14 in /Users/davidfernandez/anaconda3/lib/python3.11/site-packages (from trio-websocket~=0.9->selenium) (1.2.0)\n",
      "Requirement already satisfied: PySocks!=1.5.7,<2.0,>=1.5.6 in /Users/davidfernandez/anaconda3/lib/python3.11/site-packages (from urllib3[socks]<3,>=1.26->selenium) (1.7.1)\n",
      "Requirement already satisfied: h11<1,>=0.9.0 in /Users/davidfernandez/anaconda3/lib/python3.11/site-packages (from wsproto>=0.14->trio-websocket~=0.9->selenium) (0.14.0)\n",
      "Requirement already satisfied: webdriver-manager in /Users/davidfernandez/anaconda3/lib/python3.11/site-packages (4.0.1)\n",
      "Requirement already satisfied: requests in /Users/davidfernandez/anaconda3/lib/python3.11/site-packages (from webdriver-manager) (2.29.0)\n",
      "Requirement already satisfied: python-dotenv in /Users/davidfernandez/anaconda3/lib/python3.11/site-packages (from webdriver-manager) (1.0.0)\n",
      "Requirement already satisfied: packaging in /Users/davidfernandez/anaconda3/lib/python3.11/site-packages (from webdriver-manager) (23.0)\n",
      "Requirement already satisfied: charset-normalizer<4,>=2 in /Users/davidfernandez/anaconda3/lib/python3.11/site-packages (from requests->webdriver-manager) (2.0.4)\n",
      "Requirement already satisfied: idna<4,>=2.5 in /Users/davidfernandez/anaconda3/lib/python3.11/site-packages (from requests->webdriver-manager) (3.4)\n",
      "Requirement already satisfied: urllib3<1.27,>=1.21.1 in /Users/davidfernandez/anaconda3/lib/python3.11/site-packages (from requests->webdriver-manager) (1.26.16)\n",
      "Requirement already satisfied: certifi>=2017.4.17 in /Users/davidfernandez/anaconda3/lib/python3.11/site-packages (from requests->webdriver-manager) (2023.5.7)\n"
     ]
    }
   ],
   "source": [
    "!pip install selenium\n",
    "!pip install webdriver-manager\n",
    "\n",
    "import pandas as pd\n",
    "import numpy as np \n",
    "\n",
    "\n",
    "from selenium import webdriver\n",
    "from webdriver_manager.chrome import ChromeDriverManager \n",
    "from selenium.webdriver.common.keys import Keys \n",
    "from selenium.webdriver.chrome.options import Options\n",
    "from time import sleep \n",
    "\n",
    "\n",
    "import warnings \n",
    "warnings.filterwarnings('ignore')"
   ]
  },
  {
   "cell_type": "code",
   "execution_count": 449,
   "id": "aea15d89",
   "metadata": {},
   "outputs": [],
   "source": [
    "opciones= Options()\n",
    "opciones.add_experimental_option('excludeSwitches', ['enable-automation'])\n",
    "opciones.add_experimental_option('useAutomationExtension', False)\n",
    "opciones.add_argument('--start-maximized') \n",
    "opciones.add_argument('user.data-dir=selenium') \n",
    "opciones.add_argument('--incognito')"
   ]
  },
  {
   "cell_type": "markdown",
   "id": "eebc8d9d",
   "metadata": {},
   "source": [
    "### First URL scraping: 2015-2016"
   ]
  },
  {
   "cell_type": "code",
   "execution_count": 486,
   "id": "2898049e",
   "metadata": {},
   "outputs": [],
   "source": [
    "from selenium.common.exceptions import NoSuchElementException, TimeoutException\n",
    "from selenium.webdriver.support.ui import WebDriverWait\n",
    "from selenium.webdriver.common.by import By\n",
    "from selenium.webdriver.support import expected_conditions as EC\n",
    "\n",
    "driver = webdriver.Firefox()\n",
    "driver.get(\"https://www.linkedin.com\")\n",
    "driver.implicitly_wait(3)\n",
    "\n",
    "driver.find_element(\"css selector\", '#session_key').send_keys('joseeee.perezzzz94@gmail.com')\n",
    "driver.find_element(\"css selector\", '#session_password').send_keys('Futurama96')\n",
    "driver.find_element(\"css selector\", 'button.btn-md:nth-child(3)').click()\n",
    "\n",
    "sleep(2)\n",
    "\n",
    "perfiles_linkedin = []\n",
    "\n",
    "for nombre_completo in df['Nombre completo']:\n",
    "    try:\n",
    "        driver.get(\"https://www.linkedin.com/school/universidad-san-pablo-ceu/people/\")    \n",
    "        driver.find_element('css selector', \"#people-search-keywords\").send_keys(nombre_completo, Keys.RETURN)\n",
    "\n",
    "        sleep(2)\n",
    "\n",
    "        link_elements = driver.find_elements(By.CSS_SELECTOR, 'a.app-aware-link ')[8]\n",
    "        \n",
    "        texto = link_elements.get_attribute('href')\n",
    "\n",
    "        if texto == 'https://www.linkedin.com/company/ceu-educational-group/':\n",
    "            \n",
    "            perfiles_linkedin.append('Link no existente')\n",
    "            \n",
    "        else:\n",
    "            \n",
    "            perfiles_linkedin.append(texto)\n",
    "            \n",
    "    except NoSuchElementException:\n",
    "        \n",
    "        perfiles_linkedin.append('Link no existente')\n",
    "        \n",
    "    except TimeoutException:\n",
    "        \n",
    "        perfiles_linkedin.append('Link no existente')\n",
    "\n",
    "df['Link perfil'] = perfiles_linkedin\n",
    "\n",
    "driver.quit()\n"
   ]
  },
  {
   "cell_type": "markdown",
   "id": "00696cfe",
   "metadata": {},
   "source": [
    "### Second URL scraping (2016-2017)"
   ]
  },
  {
   "cell_type": "code",
   "execution_count": 501,
   "id": "00af7b14",
   "metadata": {},
   "outputs": [],
   "source": [
    "driver = webdriver.Firefox()\n",
    "driver.get(\"https://www.linkedin.com\")\n",
    "driver.implicitly_wait(3)\n",
    "\n",
    "driver.find_element(\"css selector\", '#session_key').send_keys('joseeee.perezzzz94@gmail.com')\n",
    "driver.find_element(\"css selector\", '#session_password').send_keys('Futurama96')\n",
    "driver.find_element(\"css selector\", 'button.btn-md:nth-child(3)').click()\n",
    "\n",
    "sleep(2)\n",
    "\n",
    "perfiles_linkedin = []\n",
    "\n",
    "for nombre_completo in df2['Nombre completo']:\n",
    "    try:\n",
    "        driver.get(\"https://www.linkedin.com/school/universidad-san-pablo-ceu/people/\")    \n",
    "        driver.find_element('css selector', \"#people-search-keywords\").send_keys(nombre_completo, Keys.RETURN)\n",
    "\n",
    "        sleep(2)\n",
    "\n",
    "        link_elements = driver.find_elements(By.CSS_SELECTOR, 'a.app-aware-link ')[8]\n",
    "        \n",
    "        texto = link_elements.get_attribute('href')\n",
    "\n",
    "        if texto == 'https://www.linkedin.com/company/ceu-educational-group/':\n",
    "            \n",
    "            perfiles_linkedin.append('Link no existente')\n",
    "            \n",
    "        else:\n",
    "            \n",
    "            perfiles_linkedin.append(texto)\n",
    "            \n",
    "    except NoSuchElementException:\n",
    "        \n",
    "        perfiles_linkedin.append('Link no existente')\n",
    "        \n",
    "    except TimeoutException:\n",
    "        \n",
    "        perfiles_linkedin.append('Link no existente')\n",
    "\n",
    "df2['Link perfil'] = perfiles_linkedin\n",
    "\n",
    "driver.quit()\n"
   ]
  },
  {
   "cell_type": "markdown",
   "id": "a7e2a5ee",
   "metadata": {},
   "source": [
    "### Third URL scraping (2017-2018)"
   ]
  },
  {
   "cell_type": "code",
   "execution_count": 508,
   "id": "fa8ad1c5",
   "metadata": {},
   "outputs": [],
   "source": [
    "driver = webdriver.Firefox()\n",
    "driver.get(\"https://www.linkedin.com\")\n",
    "driver.implicitly_wait(3)\n",
    "\n",
    "driver.find_element(\"css selector\", '#session_key').send_keys('joseeee.perezzzz94@gmail.com')\n",
    "driver.find_element(\"css selector\", '#session_password').send_keys('Futurama96')\n",
    "driver.find_element(\"css selector\", 'button.btn-md:nth-child(3)').click()\n",
    "\n",
    "sleep(2)\n",
    "\n",
    "perfiles_linkedin = []\n",
    "\n",
    "for nombre_completo in df3['Nombre completo']:\n",
    "    try:\n",
    "        driver.get(\"https://www.linkedin.com/school/universidad-san-pablo-ceu/people/\")    \n",
    "        driver.find_element('css selector', \"#people-search-keywords\").send_keys(nombre_completo, Keys.RETURN)\n",
    "\n",
    "        sleep(2)\n",
    "\n",
    "        link_elements = driver.find_elements(By.CSS_SELECTOR, 'a.app-aware-link ')[8]\n",
    "        \n",
    "        texto = link_elements.get_attribute('href')\n",
    "\n",
    "        if texto == 'https://www.linkedin.com/company/ceu-educational-group/':\n",
    "            \n",
    "            perfiles_linkedin.append('Link no existente')\n",
    "            \n",
    "        else:\n",
    "            \n",
    "            perfiles_linkedin.append(texto)\n",
    "            \n",
    "    except NoSuchElementException:\n",
    "        \n",
    "        perfiles_linkedin.append('Link no existente')\n",
    "        \n",
    "    except TimeoutException:\n",
    "        \n",
    "        perfiles_linkedin.append('Link no existente')\n",
    "\n",
    "df3['Link perfil'] = perfiles_linkedin\n",
    "\n",
    "driver.quit()\n"
   ]
  },
  {
   "cell_type": "markdown",
   "id": "11249ac5",
   "metadata": {},
   "source": [
    "### Fourth URL scraping (2018-2019)"
   ]
  },
  {
   "cell_type": "code",
   "execution_count": null,
   "id": "89d01ffa",
   "metadata": {},
   "outputs": [],
   "source": []
  },
  {
   "cell_type": "code",
   "execution_count": null,
   "id": "2685ab08",
   "metadata": {},
   "outputs": [],
   "source": []
  },
  {
   "cell_type": "code",
   "execution_count": null,
   "id": "e1b00cf0",
   "metadata": {},
   "outputs": [],
   "source": []
  },
  {
   "cell_type": "code",
   "execution_count": null,
   "id": "b44d8caa",
   "metadata": {},
   "outputs": [],
   "source": []
  },
  {
   "cell_type": "code",
   "execution_count": null,
   "id": "33ae95f8",
   "metadata": {},
   "outputs": [],
   "source": []
  },
  {
   "cell_type": "code",
   "execution_count": null,
   "id": "ae075353",
   "metadata": {},
   "outputs": [],
   "source": []
  }
 ],
 "metadata": {
  "kernelspec": {
   "display_name": "Python 3 (ipykernel)",
   "language": "python",
   "name": "python3"
  },
  "language_info": {
   "codemirror_mode": {
    "name": "ipython",
    "version": 3
   },
   "file_extension": ".py",
   "mimetype": "text/x-python",
   "name": "python",
   "nbconvert_exporter": "python",
   "pygments_lexer": "ipython3",
   "version": "3.11.3"
  }
 },
 "nbformat": 4,
 "nbformat_minor": 5
}
