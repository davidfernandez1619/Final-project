{
 "cells": [
  {
   "cell_type": "code",
   "execution_count": 2,
   "id": "d84a6815",
   "metadata": {},
   "outputs": [
    {
     "name": "stdout",
     "output_type": "stream",
     "text": [
      "Directorio actual: /Users/davidfernandez/Desktop/Projects/Final-project/Notebooks\n"
     ]
    }
   ],
   "source": [
    "import os\n",
    "import pandas as pd\n",
    "\n",
    "# Obtiene el directorio actual\n",
    "directorio_actual = os.getcwd()\n",
    "\n",
    "# Imprime la ubicación actual\n",
    "print(\"Directorio actual:\", directorio_actual)\n"
   ]
  },
  {
   "cell_type": "markdown",
   "id": "f333b285",
   "metadata": {},
   "source": [
    "# Cleaning our dataframes"
   ]
  },
  {
   "cell_type": "markdown",
   "id": "c8b13df3",
   "metadata": {},
   "source": [
    "## First dataframe (2015-2016)"
   ]
  },
  {
   "cell_type": "code",
   "execution_count": 3,
   "id": "6c038270",
   "metadata": {},
   "outputs": [],
   "source": [
    "df = pd.read_csv('/Users/davidfernandez/Desktop/Egresados CSV/2015-2016.csv')\n",
    "# We open our first csv, which contains all the names of the graduating students in the 2015-2016 class"
   ]
  },
  {
   "cell_type": "code",
   "execution_count": 4,
   "id": "e93c7ef6",
   "metadata": {},
   "outputs": [
    {
     "data": {
      "text/plain": [
       "array(['Grado en Com Audiovisual ', 'Grado en Publicidad      ',\n",
       "       'Grado en Historia Arte   ', 'PERIODISMO               ',\n",
       "       'HUMANIDADES              ', 'Grado en Historia        ',\n",
       "       'Gr. Educación Primaria   ', 'Gr. Educación Infantil   ',\n",
       "       'Grado en Periodismo      ', 'COMUNICACIÓN AUDIOVISUAL ',\n",
       "       'Gr. Comunicación Digital ', 'PUBLICIDAD Y REL.PÚBLICAS',\n",
       "       'Grado en Humanidades     '], dtype=object)"
      ]
     },
     "execution_count": 4,
     "metadata": {},
     "output_type": "execute_result"
    }
   ],
   "source": [
    "df['Nombre reducido'].unique() # We see the unique values in the columns of our Bachelor Degrees"
   ]
  },
  {
   "cell_type": "code",
   "execution_count": 5,
   "id": "2f14bd42",
   "metadata": {},
   "outputs": [],
   "source": [
    "nuevos = {'Grado en Com Audiovisual ': 'Comunicación audiovisual', 'Grado en Historia Arte   ': 'Historia Arte', 'HUMANIDADES              ': 'Humanidades', 'Gr. Educación Primaria   ': 'Educación primaria', 'Grado en Periodismo      ': 'Periodismo', 'Gr. Comunicación Digital ': 'Comunicación digital', 'Grado en Humanidades     ': 'Humanidades', 'Grado en Publicidad      ': 'Publicidad', 'PERIODISMO               ': 'Periodismo', 'Grado en Historia        ': 'Historia', 'Gr. Educación Infantil   ': 'Educación infantil', 'COMUNICACIÓN AUDIOVISUAL ': 'Comunicación audiovisual', 'PUBLICIDAD Y REL.PÚBLICAS': 'Publicidad'}"
   ]
  },
  {
   "cell_type": "code",
   "execution_count": 6,
   "id": "9484eb9e",
   "metadata": {},
   "outputs": [],
   "source": [
    "df['Nombre reducido'] = df['Nombre reducido'].replace(nuevos) # We replace our values by more comprehensible values\n"
   ]
  },
  {
   "cell_type": "code",
   "execution_count": 7,
   "id": "9baf8d76",
   "metadata": {},
   "outputs": [
    {
     "data": {
      "text/plain": [
       "array(['Comunicación audiovisual', 'Publicidad', 'Historia Arte',\n",
       "       'Periodismo', 'Humanidades', 'Historia', 'Educación primaria',\n",
       "       'Educación infantil', 'Comunicación digital'], dtype=object)"
      ]
     },
     "execution_count": 7,
     "metadata": {},
     "output_type": "execute_result"
    }
   ],
   "source": [
    "df['Nombre reducido'].unique()"
   ]
  },
  {
   "cell_type": "code",
   "execution_count": 8,
   "id": "5e36f394",
   "metadata": {},
   "outputs": [],
   "source": [
    "columnas_a_eliminar = {'Cod.facultad', 'Cod.carrera', 'Cv; telefono sms', 'Tipo expediente'} \n",
    "\n",
    "# We set the columns that we want to remove in our df"
   ]
  },
  {
   "cell_type": "code",
   "execution_count": 9,
   "id": "a2a0b9df",
   "metadata": {},
   "outputs": [],
   "source": [
    "df = df.drop(columnas_a_eliminar, axis=1)\n",
    "\n",
    " # And now we get rid of those columns and visualize again our dataframe"
   ]
  },
  {
   "cell_type": "code",
   "execution_count": 10,
   "id": "0408cad4",
   "metadata": {},
   "outputs": [],
   "source": [
    "nuevos_nombres = {'Nombre reducido': 'Grado', 'Nombre propio': 'Nombre', 'Cv; email asig.': 'Email universitario', 'Cv; email libre': 'Email personal'}"
   ]
  },
  {
   "cell_type": "code",
   "execution_count": 11,
   "id": "3054dc84",
   "metadata": {},
   "outputs": [],
   "source": [
    "df = df.rename(columns=nuevos_nombres)\n",
    "\n",
    "# Now we change our columns names"
   ]
  },
  {
   "cell_type": "code",
   "execution_count": 12,
   "id": "d5c9fadf",
   "metadata": {},
   "outputs": [],
   "source": [
    "def eliminar_espacios_extra(cadena):\n",
    "    if isinstance(cadena, str):  \n",
    "        return cadena.strip()\n",
    "    else:\n",
    "        return cadena\n",
    "\n",
    "df = df.applymap(eliminar_espacios_extra)\n",
    "\n",
    "# We create a function to remove all spaces before and after each value of our dataframe"
   ]
  },
  {
   "cell_type": "code",
   "execution_count": 13,
   "id": "0e82f079",
   "metadata": {},
   "outputs": [],
   "source": [
    "def crear_nombre_completo(row):\n",
    "    return f\"{row['Nombre']} {row['Primer apellido']} {row['Segundo apellido']}\"\n",
    "\n",
    "\n",
    "df['Nombre completo'] = df.apply(crear_nombre_completo, axis=1)\n",
    "\n",
    "# We create a function that mixes each student's name, first and second name. We then apply it to our df in a new column"
   ]
  },
  {
   "cell_type": "code",
   "execution_count": 14,
   "id": "a213bf93",
   "metadata": {},
   "outputs": [],
   "source": [
    "'''A lot of our graduates are duplicated, since they graduated from a dual degree. We are going to identify them, \n",
    "remove the second row, and in the column 'Grado' of our first row, we're going to add the dual degree'''\n",
    "\n",
    "\n",
    "import pandas as pd\n",
    "\n",
    "for index, row in df.iterrows():\n",
    "    \n",
    "    nombre_completo_actual = row['Nombre completo']\n",
    "    grado_actual = row['Grado']\n",
    "\n",
    "    duplicados = df[df['Nombre completo'] == nombre_completo_actual]\n",
    "    cantidad_duplicados = len(duplicados)\n",
    "\n",
    "    if cantidad_duplicados > 1:\n",
    "        \n",
    "        nuevos_grados = ' y '.join(duplicados['Grado'])\n",
    "        \n",
    "        df.loc[index, 'Grado'] = nuevos_grados\n",
    "        \n",
    "        df.drop(duplicados.index[1:], inplace=True)"
   ]
  },
  {
   "cell_type": "code",
   "execution_count": 118,
   "id": "c5d638c9",
   "metadata": {},
   "outputs": [],
   "source": [
    "valores_a_eliminar = ['Educación primaria', 'Educación primaria y Educación infantil', 'Educación infantil y Educación primaria', 'Educación infantil']\n",
    "\n",
    "df = df[~df['Grado'].isin(valores_a_eliminar)].reset_index().drop('index', axis=1)\n",
    "\n",
    "# Now, we get rid of the students from the degrees of Primary Education and Early Childhood Education "
   ]
  },
  {
   "cell_type": "code",
   "execution_count": 43,
   "id": "96db6409",
   "metadata": {},
   "outputs": [],
   "source": [
    "df.to_csv('/Users/davidfernandez/Desktop/clean/2015-2016.csv', index=False)\n",
    "\n",
    "# Finally, we save our dataframe in csv format"
   ]
  },
  {
   "cell_type": "markdown",
   "id": "c3047ebf",
   "metadata": {},
   "source": [
    "## Second dataframe (2016-2017)"
   ]
  },
  {
   "cell_type": "code",
   "execution_count": 16,
   "id": "c8bd71c8",
   "metadata": {},
   "outputs": [],
   "source": [
    "df2 = pd.read_csv('/Users/davidfernandez/Desktop/Egresados CSV/2016-2017.csv')\n"
   ]
  },
  {
   "cell_type": "code",
   "execution_count": 17,
   "id": "1638cb90",
   "metadata": {},
   "outputs": [
    {
     "data": {
      "text/plain": [
       "array(['Grado en Publicidad      ', 'Grado en Historia Arte   ',\n",
       "       'Grado en Periodismo      ', 'Grado en Humanidades     ',\n",
       "       'Gr. Comunicación Digital ', 'Gr. Educación Infantil   ',\n",
       "       'Grado en Com Audiovisual ', 'Gr. Educación Primaria   ',\n",
       "       'Grado en Historia        '], dtype=object)"
      ]
     },
     "execution_count": 17,
     "metadata": {},
     "output_type": "execute_result"
    }
   ],
   "source": [
    "df2['Nombre reducido'].unique()"
   ]
  },
  {
   "cell_type": "code",
   "execution_count": 18,
   "id": "643e375d",
   "metadata": {},
   "outputs": [],
   "source": [
    "nuevos2 = {'Grado en Com Audiovisual ': 'Comunicación audiovisual', 'Grado en Historia Arte   ': 'Historia Arte', 'Gr. Educación Primaria   ': 'Educación primaria', 'Grado en Periodismo      ': 'Periodismo', 'Grado en Humanidades     ': 'Humanidades', 'Grado en Publicidad      ': 'Publicidad', 'Grado en Periodismo      ': 'Periodismo', 'Grado en Historia        ': 'Historia', 'Gr. Educación Infantil   ': 'Educación infantil'}"
   ]
  },
  {
   "cell_type": "code",
   "execution_count": 19,
   "id": "6d325885",
   "metadata": {},
   "outputs": [],
   "source": [
    "df2['Nombre reducido'] = df2['Nombre reducido'].replace(nuevos2) # We replace our values by more comprehensible values\n"
   ]
  },
  {
   "cell_type": "code",
   "execution_count": 20,
   "id": "2de628e9",
   "metadata": {},
   "outputs": [],
   "source": [
    "columnas_a_eliminar2 = {'Cod.facultad', 'Cod.carrera', 'Cv; telefono sms', 'Tipo expediente'} \n"
   ]
  },
  {
   "cell_type": "code",
   "execution_count": 21,
   "id": "3cbab3f2",
   "metadata": {},
   "outputs": [],
   "source": [
    "df2 = df2.drop(columnas_a_eliminar2, axis=1)\n"
   ]
  },
  {
   "cell_type": "code",
   "execution_count": 22,
   "id": "cb97df5b",
   "metadata": {},
   "outputs": [],
   "source": [
    "nuevos_nombres2 = {'Nombre reducido': 'Grado', 'Nombre propio': 'Nombre', 'Cv; email asig.': 'Email universitario', 'Cv; email libre': 'Email personal'}"
   ]
  },
  {
   "cell_type": "code",
   "execution_count": 23,
   "id": "b68b2b3a",
   "metadata": {},
   "outputs": [],
   "source": [
    "df2 = df2.rename(columns=nuevos_nombres2)\n"
   ]
  },
  {
   "cell_type": "code",
   "execution_count": 24,
   "id": "6b5a5db7",
   "metadata": {},
   "outputs": [],
   "source": [
    "df2 = df2.applymap(eliminar_espacios_extra)\n",
    "\n",
    "# We create a function to remove all spaces before and after each value of our dataframe"
   ]
  },
  {
   "cell_type": "code",
   "execution_count": 25,
   "id": "a608298b",
   "metadata": {},
   "outputs": [],
   "source": [
    "df2['Nombre completo'] = df2.apply(crear_nombre_completo, axis=1)\n"
   ]
  },
  {
   "cell_type": "code",
   "execution_count": 26,
   "id": "6968a526",
   "metadata": {},
   "outputs": [],
   "source": [
    "for index, row in df2.iterrows():\n",
    "    \n",
    "    nombre_completo_actual = row['Nombre completo']\n",
    "    grado_actual = row['Grado']\n",
    "\n",
    "    duplicados = df2[df2['Nombre completo'] == nombre_completo_actual]\n",
    "    cantidad_duplicados = len(duplicados)\n",
    "\n",
    "    if cantidad_duplicados > 1:\n",
    "        \n",
    "        nuevos_grados = ' y '.join(duplicados['Grado'])\n",
    "        \n",
    "        df2.loc[index, 'Grado'] = nuevos_grados\n",
    "        \n",
    "        df2.drop(duplicados.index[1:], inplace=True)"
   ]
  },
  {
   "cell_type": "code",
   "execution_count": 27,
   "id": "a45e305b",
   "metadata": {},
   "outputs": [],
   "source": [
    "df2 = df2[~df2['Grado'].isin(valores_a_eliminar)].reset_index().drop('index', axis=1)\n"
   ]
  },
  {
   "cell_type": "code",
   "execution_count": 44,
   "id": "fcbaa058",
   "metadata": {},
   "outputs": [],
   "source": [
    "df2.to_csv('/Users/davidfernandez/Desktop/clean/2016-2017.csv', index=False)\n"
   ]
  },
  {
   "cell_type": "markdown",
   "id": "6193780c",
   "metadata": {},
   "source": [
    "## Third dataframe (2017-2018)"
   ]
  },
  {
   "cell_type": "code",
   "execution_count": 91,
   "id": "d17cbe4d",
   "metadata": {},
   "outputs": [],
   "source": [
    "df3 = pd.read_csv('/Users/davidfernandez/Desktop/Egresados CSV/2017-2018.csv')\n"
   ]
  },
  {
   "cell_type": "code",
   "execution_count": 98,
   "id": "e30151a2",
   "metadata": {},
   "outputs": [],
   "source": [
    "nuevos3 = {'Gr. Comunicación Digital': 'Comunicación digital', 'Grado en Com Audiovisual ': 'Comunicación audiovisual', 'Grado en Historia Arte   ': 'Historia Arte', 'Gr. Educación Primaria   ': 'Educación primaria', 'Grado en Periodismo      ': 'Periodismo', 'Grado en Humanidades     ': 'Humanidades', 'Grado en Publicidad      ': 'Publicidad', 'Grado en Periodismo      ': 'Periodismo', 'Grado en Historia        ': 'Historia', 'Gr. Educación Infantil   ': 'Educación infantil'}"
   ]
  },
  {
   "cell_type": "code",
   "execution_count": 99,
   "id": "ccfed705",
   "metadata": {},
   "outputs": [],
   "source": [
    "df3['Nombre reducido'] = df3['Nombre reducido'].replace(nuevos3) \n",
    "\n",
    "# We replace our degree values by more comprehensible values\n"
   ]
  },
  {
   "cell_type": "code",
   "execution_count": 101,
   "id": "882699aa",
   "metadata": {},
   "outputs": [],
   "source": [
    "df3 = df3.applymap(eliminar_espacios_extra)"
   ]
  },
  {
   "cell_type": "code",
   "execution_count": 102,
   "id": "51e8ecdb",
   "metadata": {},
   "outputs": [],
   "source": [
    "def transform_name(row):\n",
    "    if ',' in row['Nombre del alumno']:\n",
    "        parts = row['Nombre del alumno'].split(', ')\n",
    "        formatted_name = ' '.join([part.title() for part in parts[::-1]])\n",
    "        return formatted_name\n",
    "    else:\n",
    "        return row['Nombre del alumno']\n",
    "\n",
    "df3['Nombre completo'] = df3.apply(transform_name, axis=1)\n",
    "\n",
    "# We create a new column with more comprehensible names\n"
   ]
  },
  {
   "cell_type": "code",
   "execution_count": 109,
   "id": "8204f687",
   "metadata": {},
   "outputs": [],
   "source": [
    "nuevos_nombres = {'Nombre reducido': 'Grado', 'Cv; email asig.': 'Email universitario', 'Cv; email libre': 'Email personal'}\n",
    "\n",
    "df3 = df3.rename(columns=nuevos_nombres)"
   ]
  },
  {
   "cell_type": "code",
   "execution_count": 116,
   "id": "2a6c8242",
   "metadata": {},
   "outputs": [],
   "source": [
    "import pandas as pd\n",
    "\n",
    "for index, row in df3.iterrows():\n",
    "    \n",
    "    nombre_completo_actual = row['Nombre completo']\n",
    "    grado_actual = row['Grado']\n",
    "\n",
    "    duplicados = df3[df3['Nombre completo'] == nombre_completo_actual]\n",
    "    cantidad_duplicados = len(duplicados)\n",
    "\n",
    "    if cantidad_duplicados > 1:\n",
    "        \n",
    "        nuevos_grados = ' y '.join(duplicados['Grado'])\n",
    "        \n",
    "        df3.loc[index, 'Grado'] = nuevos_grados\n",
    "        \n",
    "        df3.drop(duplicados.index[1:], inplace=True)\n"
   ]
  },
  {
   "cell_type": "code",
   "execution_count": 119,
   "id": "e4c85731",
   "metadata": {},
   "outputs": [],
   "source": [
    "df3 = df3[~df3['Grado'].isin(valores_a_eliminar)].reset_index().drop('index', axis=1)\n"
   ]
  },
  {
   "cell_type": "code",
   "execution_count": 120,
   "id": "362ce9ac",
   "metadata": {},
   "outputs": [],
   "source": [
    "columnas_a_eliminar3 = {'Calificacion exp', 'Cv; telefono sms', 'Nombre del alumno'} \n",
    "\n",
    "df3 = df3.drop(columnas_a_eliminar3, axis=1)"
   ]
  },
  {
   "cell_type": "code",
   "execution_count": 125,
   "id": "5a3a76b3",
   "metadata": {},
   "outputs": [],
   "source": [
    "df3.to_csv('/Users/davidfernandez/Desktop/clean/no scrapped/2017-2018.csv', index=False)\n"
   ]
  },
  {
   "cell_type": "markdown",
   "id": "c329eed9",
   "metadata": {},
   "source": [
    "## Fourth dataframe (2018-2019)"
   ]
  },
  {
   "cell_type": "code",
   "execution_count": null,
   "id": "d4cfc6ac",
   "metadata": {},
   "outputs": [],
   "source": [
    "df4 = pd.read_csv('/Users/davidfernandez/Desktop/Egresados CSV/2018-2019.csv', delimiter=';')\n",
    "\n",
    "\n",
    "NO PODEMOS ABRIR ESTE ARCHIVO, PASAMOS AL SIGUIENTE"
   ]
  },
  {
   "cell_type": "markdown",
   "id": "e3302a13",
   "metadata": {},
   "source": [
    "## Fifth dataframe (2019-2020)"
   ]
  },
  {
   "cell_type": "code",
   "execution_count": 149,
   "id": "0dc1d06a",
   "metadata": {},
   "outputs": [],
   "source": [
    "df5 = pd.read_csv('/Users/davidfernandez/Desktop/Egresados CSV/2019-2020.csv')\n"
   ]
  },
  {
   "cell_type": "code",
   "execution_count": 151,
   "id": "58e1568f",
   "metadata": {},
   "outputs": [],
   "source": [
    "nuevos5 = {'Gr. Publicidad y Market. ': 'Publicidad', 'Grado en Publicidad      ': 'Publicidad', 'Gr. Comunicación Digital ': 'Comunicación digital', 'Grado en Com Audiovisual ': 'Comunicación audiovisual', 'PERIODISMO               ': 'Periodismo', 'Gr. Historia e Hist.Arte ': 'Historia y Historia del arte', 'Gr. Historia y Periodismo': 'Historia y periodismo', 'Grado en Humanidades     ': 'Humanidades', 'Grado en Periodismo      ': 'Periodismo', 'Gr. Humanidades y Public.': 'Humanidades y Publicidad', 'Gr. Humanidades y Period.': 'Humanidades y periodismo', 'Grado en Historia        ': 'Historia', 'Gr. Com. Aud y Public.   ': 'Comunicación audiovisual y publicidad', 'Gr. Periodismo y Com.Aud ': 'Periodismo y Comunicación audiovisual', 'Grado en Historia Arte   ': 'Historia del arte'}           \n",
    "           \n",
    "\n",
    "df5['Nombre reducido'] = df5['Nombre reducido'].replace(nuevos5) \n",
    "          "
   ]
  },
  {
   "cell_type": "code",
   "execution_count": 152,
   "id": "dc447ae3",
   "metadata": {},
   "outputs": [],
   "source": [
    "df5 = df5.applymap(eliminar_espacios_extra)"
   ]
  },
  {
   "cell_type": "code",
   "execution_count": 153,
   "id": "b8395460",
   "metadata": {},
   "outputs": [],
   "source": [
    "df5['Nombre completo'] = df5.apply(transform_name, axis=1)\n"
   ]
  },
  {
   "cell_type": "code",
   "execution_count": 154,
   "id": "5b0b0f9f",
   "metadata": {},
   "outputs": [],
   "source": [
    "nuevos_nombres5 = {'Nombre reducido': 'Grado', 'Cv; email asig.': 'Email universitario', 'Cv; email libre': 'Email personal'}\n",
    "\n",
    "df5 = df5.rename(columns=nuevos_nombres5)\n"
   ]
  },
  {
   "cell_type": "code",
   "execution_count": 144,
   "id": "3d08a5c4",
   "metadata": {},
   "outputs": [],
   "source": [
    "import pandas as pd\n",
    "\n",
    "for index, row in df5.iterrows():\n",
    "    \n",
    "    nombre_completo_actual = row['Nombre completo']\n",
    "    grado_actual = row['Grado']\n",
    "\n",
    "    duplicados = df5[df5['Nombre completo'] == nombre_completo_actual]\n",
    "    cantidad_duplicados = len(duplicados)\n",
    "\n",
    "    if cantidad_duplicados > 1:\n",
    "        \n",
    "        nuevos_grados = ' y '.join(duplicados['Grado'])\n",
    "        \n",
    "        df5.loc[index, 'Grado'] = nuevos_grados\n",
    "        \n",
    "        df5.drop(duplicados.index[1:], inplace=True)\n"
   ]
  },
  {
   "cell_type": "code",
   "execution_count": 157,
   "id": "f4b85b2e",
   "metadata": {},
   "outputs": [
    {
     "data": {
      "text/html": [
       "<div>\n",
       "<style scoped>\n",
       "    .dataframe tbody tr th:only-of-type {\n",
       "        vertical-align: middle;\n",
       "    }\n",
       "\n",
       "    .dataframe tbody tr th {\n",
       "        vertical-align: top;\n",
       "    }\n",
       "\n",
       "    .dataframe thead th {\n",
       "        text-align: right;\n",
       "    }\n",
       "</style>\n",
       "<table border=\"1\" class=\"dataframe\">\n",
       "  <thead>\n",
       "    <tr style=\"text-align: right;\">\n",
       "      <th></th>\n",
       "      <th>Grado</th>\n",
       "      <th>Nombre del alumno</th>\n",
       "      <th>Calificacion exp</th>\n",
       "      <th>Email universitario</th>\n",
       "      <th>Email personal</th>\n",
       "      <th>Cv; telefono sms</th>\n",
       "      <th>Nombre completo</th>\n",
       "    </tr>\n",
       "  </thead>\n",
       "  <tbody>\n",
       "  </tbody>\n",
       "</table>\n",
       "</div>"
      ],
      "text/plain": [
       "Empty DataFrame\n",
       "Columns: [Grado, Nombre del alumno, Calificacion exp, Email universitario, Email personal, Cv; telefono sms, Nombre completo]\n",
       "Index: []"
      ]
     },
     "execution_count": 157,
     "metadata": {},
     "output_type": "execute_result"
    }
   ],
   "source": [
    "duplicados = df5[df5.duplicated(subset=['Nombre completo'], keep=False)]\n",
    "\n",
    "duplicados\n",
    "\n",
    "# There's not any duplicates in this dataframe"
   ]
  },
  {
   "cell_type": "code",
   "execution_count": 158,
   "id": "b8277d13",
   "metadata": {},
   "outputs": [],
   "source": [
    "df5 = df5[~df5['Grado'].isin(valores_a_eliminar)].reset_index().drop('index', axis=1)\n"
   ]
  },
  {
   "cell_type": "code",
   "execution_count": 160,
   "id": "dca76151",
   "metadata": {},
   "outputs": [],
   "source": [
    "columnas_a_eliminar3 = {'Calificacion exp', 'Cv; telefono sms', 'Nombre del alumno'} \n",
    "\n",
    "df5 = df5.drop(columnas_a_eliminar3, axis=1)"
   ]
  },
  {
   "cell_type": "code",
   "execution_count": 164,
   "id": "009606d1",
   "metadata": {},
   "outputs": [],
   "source": [
    "df5.to_csv('/Users/davidfernandez/Desktop/clean/no scrapped/2019-2020.csv', index=False)\n"
   ]
  },
  {
   "cell_type": "markdown",
   "id": "01aa5f6e",
   "metadata": {},
   "source": [
    "## Sixth dataframe (2020-2021)"
   ]
  },
  {
   "cell_type": "code",
   "execution_count": 165,
   "id": "2f363509",
   "metadata": {},
   "outputs": [],
   "source": [
    "df6 = pd.read_csv('/Users/davidfernandez/Desktop/Egresados CSV/2020-2021.csv')\n"
   ]
  },
  {
   "cell_type": "code",
   "execution_count": 169,
   "id": "a9937a79",
   "metadata": {},
   "outputs": [],
   "source": [
    "nuevos6 = {'Grado en Comunicación Audiovisual (Plan 2009)': 'Comunicación audiovisual', 'Grado en Comunicación Audiovisual y Grado en Publicidad y Relaciones Públicas (Plan 2009)': 'Comunicación audiovisual y Publicidad', 'Grado en Comunicación Digital (Plan 2012)': 'Comunicación digital', 'Grado en Comunicación Digital y Grado en Comunicación Audiovisual (Plan 2012)': 'Comunicación digital y comunicación audiovisual', 'Grado en Comunicación Digital y Grado en Periodismo (Plan 2012)': 'Comunicación digital y periodismo', 'Grado en Comunicación Digital y Grado en Publicidad y Relaciones Públicas (Plan 2012)': 'Comunicación digital y publicidad', 'Grado en Historia del Arte (Plan 2009)': 'Historia del arte', 'Grado en Historia y Grado en Historia del Arte (Plan 2009)': 'Historia y historia del arte', 'Grado en Historia y Grado en Periodismo (Plan 2013)': 'Historia y periodismo', 'Grado en Humanidades (Plan 2009)': 'Humanidades', 'Grado en Humanidades y Grado en Comunicación Audiovisual (Plan 2009)': 'Humanidades y comunicación audiovisual', 'Grado en Humanidades y Grado en Periodismo (Plan 2009)': 'Humanidades y periodismo', 'Grado en Humanidades y Grado en Publicidad y Relaciones Públicas (Plan 2009)': 'Humanidades y publicidad', 'Grado en Periodismo (Plan 2009)': 'Periodismo', 'Grado en Periodismo y Grado en Comunicación Audiovisual (Plan 2009)': 'Periodismo y comunicación audiovisual', 'Grado en Periodismo y Grado en Publicidad y Relaciones Públicas (Plan 2009)': 'Periodismo y publicidad', 'Grado en Publicidad y Relaciones Públicas (Plan 2009)': 'Publicidad', 'Grado en Publicidad y Relaciones Públicas y Grado en Marketing y Gestión Comercial (Plan 2009)': 'Publicidad'}\n",
    "\n",
    "df6['NombrePlanEstudio'] = df6['NombrePlanEstudio'].replace(nuevos6) \n"
   ]
  },
  {
   "cell_type": "code",
   "execution_count": 170,
   "id": "7bb4d871",
   "metadata": {},
   "outputs": [],
   "source": [
    "df6 = df6.applymap(eliminar_espacios_extra)"
   ]
  },
  {
   "cell_type": "code",
   "execution_count": 172,
   "id": "79caac28",
   "metadata": {},
   "outputs": [],
   "source": [
    "nuevos_nombres6 = {'NombrePlanEstudio': 'Grado', 'EmailAlumnoInstitucional': 'Email universitario', 'EmailAlumnoPersonal': 'Email personal'}\n",
    "\n",
    "df6 = df6.rename(columns=nuevos_nombres6)"
   ]
  },
  {
   "cell_type": "code",
   "execution_count": 177,
   "id": "c0c46e33",
   "metadata": {},
   "outputs": [],
   "source": [
    "def crear_nombre_completo(row):\n",
    "    return f\"{row['Nombre']} {row['Apellido1']} {row['Apellido2']}\"\n",
    "\n",
    "\n",
    "df6['Nombre completo'] = df6.apply(crear_nombre_completo, axis=1)\n"
   ]
  },
  {
   "cell_type": "code",
   "execution_count": 179,
   "id": "42fec736",
   "metadata": {},
   "outputs": [
    {
     "data": {
      "text/html": [
       "<div>\n",
       "<style scoped>\n",
       "    .dataframe tbody tr th:only-of-type {\n",
       "        vertical-align: middle;\n",
       "    }\n",
       "\n",
       "    .dataframe tbody tr th {\n",
       "        vertical-align: top;\n",
       "    }\n",
       "\n",
       "    .dataframe thead th {\n",
       "        text-align: right;\n",
       "    }\n",
       "</style>\n",
       "<table border=\"1\" class=\"dataframe\">\n",
       "  <thead>\n",
       "    <tr style=\"text-align: right;\">\n",
       "      <th></th>\n",
       "      <th>Nombre</th>\n",
       "      <th>Apellido1</th>\n",
       "      <th>Apellido2</th>\n",
       "      <th>Telefono</th>\n",
       "      <th>Telefono2</th>\n",
       "      <th>Email universitario</th>\n",
       "      <th>Email personal</th>\n",
       "      <th>NIA</th>\n",
       "      <th>IdExpedienteAcademicoNK</th>\n",
       "      <th>IdPlanEstudioNK</th>\n",
       "      <th>Grado</th>\n",
       "      <th>NombreCentro</th>\n",
       "      <th>Nombre completo</th>\n",
       "    </tr>\n",
       "  </thead>\n",
       "  <tbody>\n",
       "  </tbody>\n",
       "</table>\n",
       "</div>"
      ],
      "text/plain": [
       "Empty DataFrame\n",
       "Columns: [Nombre, Apellido1, Apellido2, Telefono, Telefono2, Email universitario, Email personal, NIA, IdExpedienteAcademicoNK, IdPlanEstudioNK, Grado, NombreCentro, Nombre completo]\n",
       "Index: []"
      ]
     },
     "execution_count": 179,
     "metadata": {},
     "output_type": "execute_result"
    }
   ],
   "source": [
    "duplicados = df6[df6.duplicated(subset=['Nombre completo'], keep=False)]\n",
    "\n",
    "duplicados\n",
    "\n",
    "# There's not any duplicates in this dataframe either"
   ]
  },
  {
   "cell_type": "code",
   "execution_count": 181,
   "id": "77fbe2af",
   "metadata": {},
   "outputs": [],
   "source": [
    "columnas_a_eliminar6 = {'Nombre', 'Apellido1', 'Apellido2', 'Telefono', 'Telefono2', 'NIA', 'IdExpedienteAcademicoNK', 'IdPlanEstudioNK', 'NombreCentro'} \n",
    "\n",
    "df6 = df6.drop(columnas_a_eliminar6, axis=1)\n"
   ]
  },
  {
   "cell_type": "code",
   "execution_count": 185,
   "id": "3b9ac9a1",
   "metadata": {},
   "outputs": [],
   "source": [
    "df6.to_csv('/Users/davidfernandez/Desktop/clean/no scrapped/2020-2021.csv', index=False)\n"
   ]
  },
  {
   "cell_type": "code",
   "execution_count": null,
   "id": "83e216b5",
   "metadata": {},
   "outputs": [],
   "source": []
  },
  {
   "cell_type": "code",
   "execution_count": null,
   "id": "106d881e",
   "metadata": {},
   "outputs": [],
   "source": []
  },
  {
   "cell_type": "code",
   "execution_count": null,
   "id": "23015387",
   "metadata": {},
   "outputs": [],
   "source": []
  },
  {
   "cell_type": "code",
   "execution_count": null,
   "id": "cd37b973",
   "metadata": {},
   "outputs": [],
   "source": []
  },
  {
   "cell_type": "code",
   "execution_count": null,
   "id": "f3724a7e",
   "metadata": {},
   "outputs": [],
   "source": []
  }
 ],
 "metadata": {
  "kernelspec": {
   "display_name": "Python 3 (ipykernel)",
   "language": "python",
   "name": "python3"
  },
  "language_info": {
   "codemirror_mode": {
    "name": "ipython",
    "version": 3
   },
   "file_extension": ".py",
   "mimetype": "text/x-python",
   "name": "python",
   "nbconvert_exporter": "python",
   "pygments_lexer": "ipython3",
   "version": "3.11.3"
  }
 },
 "nbformat": 4,
 "nbformat_minor": 5
}
